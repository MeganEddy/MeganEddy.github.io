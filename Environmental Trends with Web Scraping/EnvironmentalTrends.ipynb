{
 "cells": [
  {
   "cell_type": "markdown",
   "id": "1e211df4",
   "metadata": {
    "tags": []
   },
   "source": [
    "## Milestone 2 - Flat File (CSV)"
   ]
  },
  {
   "cell_type": "markdown",
   "id": "c1271f72-e0e7-481d-a39a-74e66b12cf89",
   "metadata": {
    "jp-MarkdownHeadingCollapsed": true,
    "tags": []
   },
   "source": [
    "#### Importing Packages"
   ]
  },
  {
   "cell_type": "code",
   "execution_count": 1,
   "id": "e9730a40",
   "metadata": {},
   "outputs": [],
   "source": [
    "# Load necessary libraries\n",
    "import pandas as pd\n",
    "import matplotlib.pyplot as plt\n",
    "import numpy as np\n",
    "import seaborn as sns"
   ]
  },
  {
   "cell_type": "markdown",
   "id": "6c475894",
   "metadata": {
    "tags": []
   },
   "source": [
    "### Exploring the data"
   ]
  },
  {
   "cell_type": "code",
   "execution_count": 2,
   "id": "00cb2c73",
   "metadata": {},
   "outputs": [
    {
     "name": "stdout",
     "output_type": "stream",
     "text": [
      "          Area  Year  Savanna fires  Forest fires  Crop Residues  \\\n",
      "0  Afghanistan  1990        14.7237        0.0557       205.6077   \n",
      "\n",
      "   Rice Cultivation  Drained organic soils (CO2)  Pesticides Manufacturing  \\\n",
      "0             686.0                          0.0                 11.807483   \n",
      "\n",
      "   Food Transport  Forestland  ...  Manure Management  Fires in organic soils  \\\n",
      "0         63.1152   -2388.803  ...           319.1763                     0.0   \n",
      "\n",
      "   Fires in humid tropical forests  On-farm energy use  Rural population  \\\n",
      "0                              0.0                 NaN           9655167   \n",
      "\n",
      "   Urban population  Total Population - Male  Total Population - Female  \\\n",
      "0           2593947                5348387.0                  5346409.0   \n",
      "\n",
      "   total_emission  Average_Temperature  \n",
      "0     2198.963539             0.536167  \n",
      "\n",
      "[1 rows x 31 columns]\n"
     ]
    }
   ],
   "source": [
    "# Loads and saves the data\n",
    "carbon_csv = pd.read_csv(\"Agrofood_co2_emission.csv\")\n",
    "print(carbon_csv.head(1))"
   ]
  },
  {
   "cell_type": "code",
   "execution_count": 3,
   "id": "c13c5e8b",
   "metadata": {},
   "outputs": [
    {
     "name": "stdout",
     "output_type": "stream",
     "text": [
      "The dataframe has 6965 rows and 31 columns\n"
     ]
    }
   ],
   "source": [
    "# Checks the number of rows and columns\n",
    "print(\"The dataframe has {} rows and {} columns\".format(*carbon_csv.shape))"
   ]
  },
  {
   "cell_type": "code",
   "execution_count": 4,
   "id": "280528e1",
   "metadata": {},
   "outputs": [
    {
     "name": "stdout",
     "output_type": "stream",
     "text": [
      "0                                Area\n",
      "1                                Year\n",
      "2                       Savanna fires\n",
      "3                        Forest fires\n",
      "4                       Crop Residues\n",
      "5                    Rice Cultivation\n",
      "6         Drained organic soils (CO2)\n",
      "7            Pesticides Manufacturing\n",
      "8                      Food Transport\n",
      "9                          Forestland\n",
      "10              Net Forest conversion\n",
      "11         Food Household Consumption\n",
      "12                        Food Retail\n",
      "13            On-farm Electricity Use\n",
      "14                     Food Packaging\n",
      "15    Agrifood Systems Waste Disposal\n",
      "16                    Food Processing\n",
      "17          Fertilizers Manufacturing\n",
      "18                               IPPU\n",
      "19            Manure applied to Soils\n",
      "20             Manure left on Pasture\n",
      "21                  Manure Management\n",
      "22             Fires in organic soils\n",
      "23    Fires in humid tropical forests\n",
      "24                 On-farm energy use\n",
      "25                   Rural population\n",
      "26                   Urban population\n",
      "27            Total Population - Male\n",
      "28          Total Population - Female\n",
      "29                     total_emission\n",
      "30                Average_Temperature\n",
      "dtype: object\n"
     ]
    }
   ],
   "source": [
    "# Prints the column headers\n",
    "print(pd.Series(carbon_csv.columns))"
   ]
  },
  {
   "cell_type": "code",
   "execution_count": 5,
   "id": "837ed7d7",
   "metadata": {},
   "outputs": [
    {
     "name": "stdout",
     "output_type": "stream",
     "text": [
      "Columns with missing data:\n",
      " Area                               False\n",
      "Year                               False\n",
      "Savanna fires                       True\n",
      "Forest fires                        True\n",
      "Crop Residues                       True\n",
      "Rice Cultivation                   False\n",
      "Drained organic soils (CO2)        False\n",
      "Pesticides Manufacturing           False\n",
      "Food Transport                     False\n",
      "Forestland                          True\n",
      "Net Forest conversion               True\n",
      "Food Household Consumption          True\n",
      "Food Retail                        False\n",
      "On-farm Electricity Use            False\n",
      "Food Packaging                     False\n",
      "Agrifood Systems Waste Disposal    False\n",
      "Food Processing                    False\n",
      "Fertilizers Manufacturing          False\n",
      "IPPU                                True\n",
      "Manure applied to Soils             True\n",
      "Manure left on Pasture             False\n",
      "Manure Management                   True\n",
      "Fires in organic soils             False\n",
      "Fires in humid tropical forests     True\n",
      "On-farm energy use                  True\n",
      "Rural population                   False\n",
      "Urban population                   False\n",
      "Total Population - Male            False\n",
      "Total Population - Female          False\n",
      "total_emission                     False\n",
      "Average_Temperature                False\n",
      "dtype: bool\n"
     ]
    }
   ],
   "source": [
    "# Checks for missing values in any column\n",
    "missing = carbon_csv.isna().any()\n",
    "print(\"Columns with missing data:\\n\", missing)"
   ]
  },
  {
   "cell_type": "markdown",
   "id": "c950940c",
   "metadata": {},
   "source": [
    "According to the metadata, Rural Population and Urban Population are the number of people living in each respectively. The Total Population - Male and Total Population - Female are the number of males and females in the population. The numbers should equal each other.  "
   ]
  },
  {
   "cell_type": "code",
   "execution_count": 6,
   "id": "249863be",
   "metadata": {},
   "outputs": [
    {
     "name": "stdout",
     "output_type": "stream",
     "text": [
      "Number of times Rural + Urban populations equal Male + Female populations: 0\n"
     ]
    }
   ],
   "source": [
    "# Checks whether the population columns equal each other\n",
    "rural_pop = carbon_csv['Rural population'] + carbon_csv['Urban population']\n",
    "gender_pop = carbon_csv['Total Population - Male'] + carbon_csv['Total Population - Female']\n",
    "rural_pop == gender_pop\n",
    "count = (rural_pop == gender_pop).sum()\n",
    "print(\"Number of times Rural + Urban populations equal Male + Female populations:\", count)"
   ]
  },
  {
   "cell_type": "markdown",
   "id": "2e1d86bb",
   "metadata": {
    "tags": []
   },
   "source": [
    "### Transformation 1: Headers"
   ]
  },
  {
   "cell_type": "markdown",
   "id": "e73abdc5",
   "metadata": {},
   "source": [
    "For more consistency across the three datasets, I am replacing the header 'Area' with 'Country'. It is possible that not all of the entries are actual countries, but it will make the data more useable in the future."
   ]
  },
  {
   "cell_type": "code",
   "execution_count": 7,
   "id": "33413e32",
   "metadata": {},
   "outputs": [
    {
     "name": "stdout",
     "output_type": "stream",
     "text": [
      "0                             Country\n",
      "1                                Year\n",
      "2                       Savanna fires\n",
      "3                        Forest fires\n",
      "4                       Crop Residues\n",
      "5                    Rice Cultivation\n",
      "6         Drained organic soils (CO2)\n",
      "7            Pesticides Manufacturing\n",
      "8                      Food Transport\n",
      "9                          Forestland\n",
      "10              Net Forest conversion\n",
      "11         Food Household Consumption\n",
      "12                        Food Retail\n",
      "13            On-farm Electricity Use\n",
      "14                     Food Packaging\n",
      "15    Agrifood Systems Waste Disposal\n",
      "16                    Food Processing\n",
      "17          Fertilizers Manufacturing\n",
      "18                               IPPU\n",
      "19            Manure applied to Soils\n",
      "20             Manure left on Pasture\n",
      "21                  Manure Management\n",
      "22             Fires in organic soils\n",
      "23    Fires in humid tropical forests\n",
      "24                 On-farm energy use\n",
      "25                   Rural population\n",
      "26                   Urban population\n",
      "27            Total Population - Male\n",
      "28          Total Population - Female\n",
      "29                     total_emission\n",
      "30                Average_Temperature\n",
      "dtype: object\n"
     ]
    }
   ],
   "source": [
    "carbon_csv = carbon_csv.rename(columns = {'Area': 'Country'})\n",
    "print(pd.Series(carbon_csv.columns))"
   ]
  },
  {
   "cell_type": "markdown",
   "id": "0ac7274d",
   "metadata": {},
   "source": [
    "The naming structure for the headers is inconsistent. I will replace current delimiters with _ for easier coding use and capitalize the beginning of each word for better readability."
   ]
  },
  {
   "cell_type": "code",
   "execution_count": 8,
   "id": "a2a15e26",
   "metadata": {},
   "outputs": [],
   "source": [
    "# Converts the headers to a list\n",
    "headers_old = carbon_csv.columns.tolist()"
   ]
  },
  {
   "cell_type": "code",
   "execution_count": 9,
   "id": "099a991d",
   "metadata": {},
   "outputs": [
    {
     "name": "stdout",
     "output_type": "stream",
     "text": [
      "Unique delimiters:  [')', ' ', '(', '_', '-']\n"
     ]
    }
   ],
   "source": [
    "# Function to find all delimiters\n",
    "def find_unique_delimiters(strings):\n",
    "    # Empty set that will store delimiters\n",
    "    uniqe_delimiters = set()\n",
    "    \n",
    "    # Iterates over each string\n",
    "    for string in strings:\n",
    "        # Iterates over each character in a string\n",
    "        for char in string:\n",
    "            # Checks if the character is a letter or number\n",
    "            if not char.isalnum():\n",
    "                # Adds the character to the set\n",
    "                uniqe_delimiters.add(char)\n",
    "    return list(uniqe_delimiters)\n",
    "\n",
    "delimiters = find_unique_delimiters(headers_old)\n",
    "\n",
    "print(\"Unique delimiters: \", delimiters)"
   ]
  },
  {
   "cell_type": "code",
   "execution_count": 10,
   "id": "fd008473",
   "metadata": {},
   "outputs": [
    {
     "name": "stdout",
     "output_type": "stream",
     "text": [
      "Header: Drained organic soils (CO2), Delimiter: (\n",
      "Header: Drained organic soils (CO2), Delimiter: )\n",
      "Header: On-farm Electricity Use, Delimiter: -\n",
      "Header: On-farm energy use, Delimiter: -\n",
      "Header: Total Population - Male, Delimiter: -\n",
      "Header: Total Population - Female, Delimiter: -\n",
      "Header: total_emission, Delimiter: _\n",
      "Header: Average_Temperature, Delimiter: _\n"
     ]
    }
   ],
   "source": [
    "# Function to find the headers where the delimiter isn't a space\n",
    "def non_space_delimiters(strings):\n",
    "    non_space_delimiters = []\n",
    "    \n",
    "    for string in strings:\n",
    "        for char in string:\n",
    "            # Checks whether the delimiter is not a space, letter or number\n",
    "            if not char.isspace() and not char.isalnum():\n",
    "                non_space_delimiters.append(char)\n",
    "                print(f\"Header: {string}, Delimiter: {char}\")\n",
    "                \n",
    "    return non_space_delimiters\n",
    "                \n",
    "delimiter_fix = non_space_delimiters(headers_old)"
   ]
  },
  {
   "cell_type": "code",
   "execution_count": 11,
   "id": "f16428f8",
   "metadata": {},
   "outputs": [],
   "source": [
    "# Creates a dictionary of the current  headers and their replacements\n",
    "replacements = {\n",
    "    \"Drained organic soils (CO2)\": \"Drained organic soils CO2\",\n",
    "    \"On-farm Electricity Use\": \"On farm Electricity Use\",\n",
    "    \"On-farm energy use\": \"On farm energy use\",\n",
    "    \"Total Population - Male\": \"Total Population Male\",\n",
    "    \"Total Population - Female\": \"Total Population Female\",\n",
    "    \"total_emission\": \"total emissions\",\n",
    "    \"Average_Temperature\": \"Average Temperature\"\n",
    "}"
   ]
  },
  {
   "cell_type": "code",
   "execution_count": 12,
   "id": "0de4798d",
   "metadata": {},
   "outputs": [],
   "source": [
    "# Replaces the current headers with their replacments\n",
    "carbon_csv = carbon_csv.rename(columns = (replacements))\n",
    "\n",
    "headers = pd.Series(carbon_csv.columns)"
   ]
  },
  {
   "cell_type": "code",
   "execution_count": 13,
   "id": "dd880551",
   "metadata": {},
   "outputs": [],
   "source": [
    "# Capitalizes each word and replaces the space with _\n",
    "final_headers = pd.Series(\"_\".join(word.capitalize() for word in col.split())\n",
    "                         for col in carbon_csv.columns)"
   ]
  },
  {
   "cell_type": "code",
   "execution_count": 14,
   "id": "98e9b7d9",
   "metadata": {},
   "outputs": [
    {
     "name": "stdout",
     "output_type": "stream",
     "text": [
      "0                             Country\n",
      "1                                Year\n",
      "2                       Savanna_Fires\n",
      "3                        Forest_Fires\n",
      "4                       Crop_Residues\n",
      "5                    Rice_Cultivation\n",
      "6           Drained_Organic_Soils_Co2\n",
      "7            Pesticides_Manufacturing\n",
      "8                      Food_Transport\n",
      "9                          Forestland\n",
      "10              Net_Forest_Conversion\n",
      "11         Food_Household_Consumption\n",
      "12                        Food_Retail\n",
      "13            On_Farm_Electricity_Use\n",
      "14                     Food_Packaging\n",
      "15    Agrifood_Systems_Waste_Disposal\n",
      "16                    Food_Processing\n",
      "17          Fertilizers_Manufacturing\n",
      "18                               Ippu\n",
      "19            Manure_Applied_To_Soils\n",
      "20             Manure_Left_On_Pasture\n",
      "21                  Manure_Management\n",
      "22             Fires_In_Organic_Soils\n",
      "23    Fires_In_Humid_Tropical_Forests\n",
      "24                 On_Farm_Energy_Use\n",
      "25                   Rural_Population\n",
      "26                   Urban_Population\n",
      "27              Total_Population_Male\n",
      "28            Total_Population_Female\n",
      "29                    Total_Emissions\n",
      "30                Average_Temperature\n",
      "dtype: object\n"
     ]
    }
   ],
   "source": [
    "# Replaces the headers with the updated versions\n",
    "carbon_csv.columns = final_headers\n",
    "print(pd.Series(carbon_csv.columns))"
   ]
  },
  {
   "cell_type": "markdown",
   "id": "6fad6fee",
   "metadata": {
    "tags": []
   },
   "source": [
    "### Transformation 2: Finding Outliers in the Population Columns"
   ]
  },
  {
   "cell_type": "markdown",
   "id": "bd99fc61",
   "metadata": {},
   "source": [
    "Eventually I will add a Total Population column. To do this I need to decide which two of the population columns to use. I will check each for outliers and bad data first to help my decision."
   ]
  },
  {
   "cell_type": "code",
   "execution_count": 15,
   "id": "2208ec1f",
   "metadata": {},
   "outputs": [],
   "source": [
    "# Subsets the four columns of interest\n",
    "subset = carbon_csv[[\"Rural_Population\", \"Urban_Population\", \n",
    "                    \"Total_Population_Male\", \"Total_Population_Female\"]]"
   ]
  },
  {
   "cell_type": "code",
   "execution_count": 16,
   "id": "e5cb9bc3",
   "metadata": {},
   "outputs": [
    {
     "name": "stdout",
     "output_type": "stream",
     "text": [
      "Rural_Population contains zero.\n",
      "Urban_Population contains zero.\n",
      "Total_Population_Male does not contain zero.\n",
      "Total_Population_Female does not contain zero.\n"
     ]
    }
   ],
   "source": [
    "# Checks each of the columns for values of 0\n",
    "for column in subset:\n",
    "    has_zero = (subset[column] == 0).any()\n",
    "    if has_zero:\n",
    "        print(f'{column} contains zero.')\n",
    "    else:\n",
    "        print(f'{column} does not contain zero.')"
   ]
  },
  {
   "cell_type": "code",
   "execution_count": 17,
   "id": "3c6625cf",
   "metadata": {},
   "outputs": [
    {
     "name": "stdout",
     "output_type": "stream",
     "text": [
      "       Rural_Population  Urban_Population  Total_Population_Male  \\\n",
      "count      6.965000e+03      6.965000e+03           6.965000e+03   \n",
      "mean       1.785774e+07      1.693230e+07           1.761963e+07   \n",
      "std        8.901521e+07      6.574362e+07           7.603993e+07   \n",
      "min        0.000000e+00      0.000000e+00           2.500000e+02   \n",
      "25%        9.731100e+04      2.173860e+05           2.013260e+05   \n",
      "50%        1.595322e+06      2.357581e+06           2.469660e+06   \n",
      "75%        8.177340e+06      8.277123e+06           9.075924e+06   \n",
      "max        9.000991e+08      9.020778e+08           7.435866e+08   \n",
      "\n",
      "       Total_Population_Female  \n",
      "count             6.965000e+03  \n",
      "mean              1.732447e+07  \n",
      "std               7.251711e+07  \n",
      "min               2.700000e+02  \n",
      "25%               2.078900e+05  \n",
      "50%               2.444135e+06  \n",
      "75%               9.112588e+06  \n",
      "max               7.133419e+08  \n"
     ]
    }
   ],
   "source": [
    "# Gives summary statistics for each of the columns\n",
    "print(subset.describe())"
   ]
  },
  {
   "cell_type": "markdown",
   "id": "66d59a75",
   "metadata": {
    "tags": []
   },
   "source": [
    "### Transformation 3: Adding a Total Population Column"
   ]
  },
  {
   "cell_type": "markdown",
   "id": "a439c71c",
   "metadata": {},
   "source": [
    "The current columns for population are not easily comparable to other datasets. I will create a new column for total population so the numbers can be more easily analyzed. I have decided to use the Male & Female columns for this, because Rural and Urban both contained values of 0. It seems unlikely that a country would have a 0 population for either of these values"
   ]
  },
  {
   "cell_type": "code",
   "execution_count": 18,
   "id": "826d1661",
   "metadata": {},
   "outputs": [
    {
     "name": "stdout",
     "output_type": "stream",
     "text": [
      "       Country  Year  Savanna_Fires  Forest_Fires  Crop_Residues  \\\n",
      "0  Afghanistan  1990        14.7237        0.0557       205.6077   \n",
      "\n",
      "   Rice_Cultivation  Drained_Organic_Soils_Co2  Pesticides_Manufacturing  \\\n",
      "0             686.0                        0.0                 11.807483   \n",
      "\n",
      "   Food_Transport  Forestland  ...  Fires_In_Organic_Soils  \\\n",
      "0         63.1152   -2388.803  ...                     0.0   \n",
      "\n",
      "   Fires_In_Humid_Tropical_Forests  On_Farm_Energy_Use  Rural_Population  \\\n",
      "0                              0.0                 NaN           9655167   \n",
      "\n",
      "   Urban_Population  Total_Population_Male  Total_Population_Female  \\\n",
      "0           2593947              5348387.0                5346409.0   \n",
      "\n",
      "   Total_Emissions  Average_Temperature  Total_Population  \n",
      "0      2198.963539             0.536167        10694796.0  \n",
      "\n",
      "[1 rows x 32 columns]\n"
     ]
    }
   ],
   "source": [
    "carbon_csv[\"Total_Population\"] = carbon_csv[\"Total_Population_Male\"] + carbon_csv[\"Total_Population_Female\"]\n",
    "\n",
    "print(carbon_csv.head(1))"
   ]
  },
  {
   "cell_type": "markdown",
   "id": "7beccd54",
   "metadata": {
    "tags": []
   },
   "source": [
    "### Transformation 4: Replacing Missing values with NULL"
   ]
  },
  {
   "cell_type": "markdown",
   "id": "ac89b9c0",
   "metadata": {},
   "source": [
    "Multiple columns had missing values. I won't remove this columns because there might be valuable information contains in other columns for that row so I will replace the missing values with NULL."
   ]
  },
  {
   "cell_type": "code",
   "execution_count": 19,
   "id": "db5f0c96",
   "metadata": {},
   "outputs": [
    {
     "name": "stdout",
     "output_type": "stream",
     "text": [
      "       Country  Year  Savanna_Fires  Forest_Fires  Crop_Residues  \\\n",
      "0  Afghanistan  1990        14.7237        0.0557       205.6077   \n",
      "\n",
      "   Rice_Cultivation  Drained_Organic_Soils_Co2  Pesticides_Manufacturing  \\\n",
      "0             686.0                        0.0                 11.807483   \n",
      "\n",
      "   Food_Transport  Forestland  ...  Fires_In_Organic_Soils  \\\n",
      "0         63.1152   -2388.803  ...                     0.0   \n",
      "\n",
      "   Fires_In_Humid_Tropical_Forests  On_Farm_Energy_Use  Rural_Population  \\\n",
      "0                              0.0                 NaN           9655167   \n",
      "\n",
      "   Urban_Population  Total_Population_Male  Total_Population_Female  \\\n",
      "0           2593947              5348387.0                5346409.0   \n",
      "\n",
      "   Total_Emissions  Average_Temperature  Total_Population  \n",
      "0      2198.963539             0.536167        10694796.0  \n",
      "\n",
      "[1 rows x 32 columns]\n"
     ]
    }
   ],
   "source": [
    "# Fills all missing values with NaN\n",
    "carbon_csv.fillna(np.nan, inplace = True)\n",
    "\n",
    "# Checks to ensure missing values were filled in with NaN\n",
    "print(carbon_csv.head(1))"
   ]
  },
  {
   "cell_type": "markdown",
   "id": "7e13e023",
   "metadata": {
    "tags": []
   },
   "source": [
    "### Transformation 5: Checking for Outliers in the Total Emissions Column"
   ]
  },
  {
   "cell_type": "markdown",
   "id": "11ce6d9f",
   "metadata": {},
   "source": [
    "For the project I plan to compare emissions information across several sources. I will check the emissions columns for outliers to reveal any potentially bad data."
   ]
  },
  {
   "cell_type": "code",
   "execution_count": 20,
   "id": "40ab7c42",
   "metadata": {},
   "outputs": [
    {
     "name": "stdout",
     "output_type": "stream",
     "text": [
      "count    6.965000e+03\n",
      "mean     6.409124e+04\n",
      "std      2.283130e+05\n",
      "min     -3.918841e+05\n",
      "25%      5.221244e+03\n",
      "50%      1.214765e+04\n",
      "75%      3.513973e+04\n",
      "max      3.115114e+06\n",
      "Name: Total_Emissions, dtype: float64\n"
     ]
    }
   ],
   "source": [
    "# Prints the summary statistics for the emissions column\n",
    "print(carbon_csv['Total_Emissions'].describe())"
   ]
  },
  {
   "cell_type": "markdown",
   "id": "7aff67ca",
   "metadata": {},
   "source": [
    "The minimum value for emissions is negative. According to the metadata, forestland could result in a negative value. For the total emissions to be negative, the forestland value would also have to be negative."
   ]
  },
  {
   "cell_type": "code",
   "execution_count": 21,
   "id": "c77f61b9",
   "metadata": {},
   "outputs": [
    {
     "name": "stdout",
     "output_type": "stream",
     "text": [
      "Where Total Emissions is negative, Forestland is negative.\n"
     ]
    }
   ],
   "source": [
    "# Creates a subset where both Forestland and Total Emissions \n",
    "# values are negative\n",
    "negative_match = carbon_csv[(carbon_csv[\"Forestland\"] < 0) & (\n",
    "    carbon_csv[\"Total_Emissions\"] < 0)]\n",
    "\n",
    "# Checks if the number of rows in the subset aligns with the number of rows\n",
    "# in Total Emissions that are negative\n",
    "if negative_match.shape[0] == carbon_csv[carbon_csv[\"Total_Emissions\"] \n",
    "                                        < 0].shape[0]:\n",
    "    print(\"Where Total Emissions is negative, Forestland is negative.\")\n",
    "else:\n",
    "    print(\"Total Emissions is negative, but Forestland is either zero or positive.\")"
   ]
  },
  {
   "cell_type": "code",
   "execution_count": 22,
   "id": "b97064f6",
   "metadata": {},
   "outputs": [
    {
     "data": {
      "image/png": "[encoded data removed]",
      "text/plain": [
       "<Figure size 640x480 with 1 Axes>"
      ]
     },
     "metadata": {},
     "output_type": "display_data"
    }
   ],
   "source": [
    "# Creates a boxplot of the Total Emissions data\n",
    "plt.boxplot(carbon_csv.Total_Emissions, notch = True)\n",
    "plt.show()"
   ]
  },
  {
   "cell_type": "code",
   "execution_count": 23,
   "id": "ad38477a",
   "metadata": {},
   "outputs": [
    {
     "data": {
      "image/png": "[encoded data removed]",
      "text/plain": [
       "<Figure size 640x480 with 1 Axes>"
      ]
     },
     "metadata": {},
     "output_type": "display_data"
    }
   ],
   "source": [
    "# Plots a kernel density plot to better see the distribution\n",
    "sns.kdeplot(carbon_csv[\"Total_Emissions\"], fill = True)\n",
    "plt.show()"
   ]
  },
  {
   "cell_type": "markdown",
   "id": "f4c33406",
   "metadata": {},
   "source": [
    "All the summary statistics and the plots show that there are significant outliers in the data. It is worth keeping them, however, because it is possible that some countries produce far more carbon emissions than others. "
   ]
  },
  {
   "cell_type": "code",
   "execution_count": 24,
   "id": "cea1aad1-9b35-406e-9565-ecf8e114494f",
   "metadata": {},
   "outputs": [],
   "source": [
    "# Saves the dataframe in a csv file\n",
    "carbon_csv.to_csv(\"Milestone2Dataframe.csv\", index = False)"
   ]
  },
  {
   "cell_type": "markdown",
   "id": "f361146b-ea3a-4967-894e-cb5b04a2fd39",
   "metadata": {},
   "source": [
    "### NEW Transformation: Subsetting the Dataframe"
   ]
  },
  {
   "cell_type": "markdown",
   "id": "9168a9be-3f8b-4816-a680-a7f14a37ffaf",
   "metadata": {},
   "source": [
    "I was planning on joining the three datasets based on the country column. This will be more difficult with multiple entries for the same country. To make the final more simple, I will only use the most recent data from each country."
   ]
  },
  {
   "cell_type": "code",
   "execution_count": 25,
   "id": "c05a33f2-5933-4689-a566-4c8dd7adabce",
   "metadata": {},
   "outputs": [
    {
     "name": "stdout",
     "output_type": "stream",
     "text": [
      "<class 'pandas.core.series.Series'>\n"
     ]
    }
   ],
   "source": [
    "print(type(carbon_csv.Year))"
   ]
  },
  {
   "cell_type": "code",
   "execution_count": 26,
   "id": "e851138a-87e0-47ff-9b1e-088c4c7639d6",
   "metadata": {},
   "outputs": [],
   "source": [
    "# Converts the Year column to numeric type\n",
    "carbon_csv[\"Year\"] = pd.to_numeric(carbon_csv[\"Year\"], errors = \"coerce\")"
   ]
  },
  {
   "cell_type": "code",
   "execution_count": 27,
   "id": "7dfbfde8-c618-483f-b408-6b7386766390",
   "metadata": {},
   "outputs": [],
   "source": [
    "# Finds the index of the most recent year for each country\n",
    "idx_most_recent = carbon_csv.groupby(\"Country\")[\"Year\"].idxmax()"
   ]
  },
  {
   "cell_type": "code",
   "execution_count": 28,
   "id": "0ffa972f-a1ad-42af-b442-22e6f14b1e95",
   "metadata": {},
   "outputs": [],
   "source": [
    "# Creates a new dataframe using the new index\n",
    "simple_carbon = carbon_csv.loc[idx_most_recent]"
   ]
  },
  {
   "cell_type": "code",
   "execution_count": 29,
   "id": "69cfb3f5-ac4d-4c9d-84bf-efd821834531",
   "metadata": {},
   "outputs": [],
   "source": [
    "# Resets and drops the index\n",
    "simple_carbon = simple_carbon.reset_index(drop = True)"
   ]
  },
  {
   "cell_type": "code",
   "execution_count": 30,
   "id": "0707b7e4-70b2-431b-9bf5-7e84c1d3a060",
   "metadata": {},
   "outputs": [
    {
     "name": "stdout",
     "output_type": "stream",
     "text": [
      "          Country  Year  Savanna_Fires  Forest_Fires  Crop_Residues  \\\n",
      "0     Afghanistan  2020        10.8427        0.0000       427.5284   \n",
      "1         Albania  2020         2.5732        0.0000        37.9949   \n",
      "2         Algeria  2020        41.1136      107.1825       361.0129   \n",
      "3  American Samoa  2020         0.0000        0.0000            NaN   \n",
      "4         Andorra  2020         0.0000        0.0000            NaN   \n",
      "\n",
      "   Rice_Cultivation  Drained_Organic_Soils_Co2  Pesticides_Manufacturing  \\\n",
      "0        578.415600                      0.000                107.628149   \n",
      "1        248.061497                    105.631                  8.000000   \n",
      "2          1.317100                      0.000                 48.000000   \n",
      "3       1410.445506                      0.000                 11.481085   \n",
      "4        926.342279                      0.000                 11.481085   \n",
      "\n",
      "   Food_Transport  Forestland  ...  Fires_In_Organic_Soils  \\\n",
      "0        545.3243    154.6574  ...                     0.0   \n",
      "1        262.7122   -352.0139  ...                     0.0   \n",
      "2       4307.4471   -440.7773  ...                     0.0   \n",
      "3          9.6998    -50.3736  ...                     0.0   \n",
      "4         30.7624      0.0000  ...                     0.0   \n",
      "\n",
      "   Fires_In_Humid_Tropical_Forests  On_Farm_Energy_Use  Rural_Population  \\\n",
      "0                              0.0                 NaN          28150604   \n",
      "1                              0.0            307.9807           1114672   \n",
      "2                              0.0            198.7563          11382345   \n",
      "3                              0.0             18.9830              7169   \n",
      "4                              0.0             51.8471              9327   \n",
      "\n",
      "   Urban_Population  Total_Population_Male  Total_Population_Female  \\\n",
      "0           9904337             19692301.0               19279930.0   \n",
      "1           1827362              1433767.0                1433082.0   \n",
      "2          31950910             22132899.0               21318767.0   \n",
      "3             48630                22921.0                  23268.0   \n",
      "4             67857                39615.0                  38084.0   \n",
      "\n",
      "   Total_Emissions  Average_Temperature  Total_Population  \n",
      "0     14032.420620             0.209250        38972231.0  \n",
      "1      4411.888497             1.554167         2866849.0  \n",
      "2     69603.093000             1.882083        43451666.0  \n",
      "3      5708.186226             1.409833           46189.0  \n",
      "4      5599.108259             2.388083           77699.0  \n",
      "\n",
      "[5 rows x 32 columns]\n"
     ]
    }
   ],
   "source": [
    "print(simple_carbon.head())"
   ]
  },
  {
   "cell_type": "markdown",
   "id": "585e4a80",
   "metadata": {
    "tags": []
   },
   "source": [
    "### Human Readable Dataset\n",
    "\n",
    "#### (Only first five rows included) "
   ]
  },
  {
   "cell_type": "code",
   "execution_count": 31,
   "id": "e20baf99",
   "metadata": {},
   "outputs": [
    {
     "data": {
      "text/html": [
       "<div>\n",
       "<style scoped>\n",
       "    .dataframe tbody tr th:only-of-type {\n",
       "        vertical-align: middle;\n",
       "    }\n",
       "\n",
       "    .dataframe tbody tr th {\n",
       "        vertical-align: top;\n",
       "    }\n",
       "\n",
       "    .dataframe thead th {\n",
       "        text-align: right;\n",
       "    }\n",
       "</style>\n",
       "<table border=\"1\" class=\"dataframe\">\n",
       "  <thead>\n",
       "    <tr style=\"text-align: right;\">\n",
       "      <th></th>\n",
       "      <th>Country</th>\n",
       "      <th>Year</th>\n",
       "      <th>Savanna_Fires</th>\n",
       "      <th>Forest_Fires</th>\n",
       "      <th>Crop_Residues</th>\n",
       "      <th>Rice_Cultivation</th>\n",
       "      <th>Drained_Organic_Soils_Co2</th>\n",
       "      <th>Pesticides_Manufacturing</th>\n",
       "      <th>Food_Transport</th>\n",
       "      <th>Forestland</th>\n",
       "      <th>...</th>\n",
       "      <th>Fires_In_Organic_Soils</th>\n",
       "      <th>Fires_In_Humid_Tropical_Forests</th>\n",
       "      <th>On_Farm_Energy_Use</th>\n",
       "      <th>Rural_Population</th>\n",
       "      <th>Urban_Population</th>\n",
       "      <th>Total_Population_Male</th>\n",
       "      <th>Total_Population_Female</th>\n",
       "      <th>Total_Emissions</th>\n",
       "      <th>Average_Temperature</th>\n",
       "      <th>Total_Population</th>\n",
       "    </tr>\n",
       "  </thead>\n",
       "  <tbody>\n",
       "    <tr>\n",
       "      <th>0</th>\n",
       "      <td>Afghanistan</td>\n",
       "      <td>1990</td>\n",
       "      <td>14.7237</td>\n",
       "      <td>0.0557</td>\n",
       "      <td>205.6077</td>\n",
       "      <td>686.00</td>\n",
       "      <td>0.0</td>\n",
       "      <td>11.807483</td>\n",
       "      <td>63.1152</td>\n",
       "      <td>-2388.803</td>\n",
       "      <td>...</td>\n",
       "      <td>0.0</td>\n",
       "      <td>0.0</td>\n",
       "      <td>NaN</td>\n",
       "      <td>9655167</td>\n",
       "      <td>2593947</td>\n",
       "      <td>5348387.0</td>\n",
       "      <td>5346409.0</td>\n",
       "      <td>2198.963539</td>\n",
       "      <td>0.536167</td>\n",
       "      <td>10694796.0</td>\n",
       "    </tr>\n",
       "    <tr>\n",
       "      <th>1</th>\n",
       "      <td>Afghanistan</td>\n",
       "      <td>1991</td>\n",
       "      <td>14.7237</td>\n",
       "      <td>0.0557</td>\n",
       "      <td>209.4971</td>\n",
       "      <td>678.16</td>\n",
       "      <td>0.0</td>\n",
       "      <td>11.712073</td>\n",
       "      <td>61.2125</td>\n",
       "      <td>-2388.803</td>\n",
       "      <td>...</td>\n",
       "      <td>0.0</td>\n",
       "      <td>0.0</td>\n",
       "      <td>NaN</td>\n",
       "      <td>10230490</td>\n",
       "      <td>2763167</td>\n",
       "      <td>5372959.0</td>\n",
       "      <td>5372208.0</td>\n",
       "      <td>2323.876629</td>\n",
       "      <td>0.020667</td>\n",
       "      <td>10745167.0</td>\n",
       "    </tr>\n",
       "    <tr>\n",
       "      <th>2</th>\n",
       "      <td>Afghanistan</td>\n",
       "      <td>1992</td>\n",
       "      <td>14.7237</td>\n",
       "      <td>0.0557</td>\n",
       "      <td>196.5341</td>\n",
       "      <td>686.00</td>\n",
       "      <td>0.0</td>\n",
       "      <td>11.712073</td>\n",
       "      <td>53.3170</td>\n",
       "      <td>-2388.803</td>\n",
       "      <td>...</td>\n",
       "      <td>0.0</td>\n",
       "      <td>0.0</td>\n",
       "      <td>NaN</td>\n",
       "      <td>10995568</td>\n",
       "      <td>2985663</td>\n",
       "      <td>6028494.0</td>\n",
       "      <td>6028939.0</td>\n",
       "      <td>2356.304229</td>\n",
       "      <td>-0.259583</td>\n",
       "      <td>12057433.0</td>\n",
       "    </tr>\n",
       "    <tr>\n",
       "      <th>3</th>\n",
       "      <td>Afghanistan</td>\n",
       "      <td>1993</td>\n",
       "      <td>14.7237</td>\n",
       "      <td>0.0557</td>\n",
       "      <td>230.8175</td>\n",
       "      <td>686.00</td>\n",
       "      <td>0.0</td>\n",
       "      <td>11.712073</td>\n",
       "      <td>54.3617</td>\n",
       "      <td>-2388.803</td>\n",
       "      <td>...</td>\n",
       "      <td>0.0</td>\n",
       "      <td>0.0</td>\n",
       "      <td>NaN</td>\n",
       "      <td>11858090</td>\n",
       "      <td>3237009</td>\n",
       "      <td>7003641.0</td>\n",
       "      <td>7000119.0</td>\n",
       "      <td>2368.470529</td>\n",
       "      <td>0.101917</td>\n",
       "      <td>14003760.0</td>\n",
       "    </tr>\n",
       "    <tr>\n",
       "      <th>4</th>\n",
       "      <td>Afghanistan</td>\n",
       "      <td>1994</td>\n",
       "      <td>14.7237</td>\n",
       "      <td>0.0557</td>\n",
       "      <td>242.0494</td>\n",
       "      <td>705.60</td>\n",
       "      <td>0.0</td>\n",
       "      <td>11.712073</td>\n",
       "      <td>53.9874</td>\n",
       "      <td>-2388.803</td>\n",
       "      <td>...</td>\n",
       "      <td>0.0</td>\n",
       "      <td>0.0</td>\n",
       "      <td>NaN</td>\n",
       "      <td>12690115</td>\n",
       "      <td>3482604</td>\n",
       "      <td>7733458.0</td>\n",
       "      <td>7722096.0</td>\n",
       "      <td>2500.768729</td>\n",
       "      <td>0.372250</td>\n",
       "      <td>15455554.0</td>\n",
       "    </tr>\n",
       "  </tbody>\n",
       "</table>\n",
       "<p>5 rows × 32 columns</p>\n",
       "</div>"
      ],
      "text/plain": [
       "       Country  Year  Savanna_Fires  Forest_Fires  Crop_Residues  \\\n",
       "0  Afghanistan  1990        14.7237        0.0557       205.6077   \n",
       "1  Afghanistan  1991        14.7237        0.0557       209.4971   \n",
       "2  Afghanistan  1992        14.7237        0.0557       196.5341   \n",
       "3  Afghanistan  1993        14.7237        0.0557       230.8175   \n",
       "4  Afghanistan  1994        14.7237        0.0557       242.0494   \n",
       "\n",
       "   Rice_Cultivation  Drained_Organic_Soils_Co2  Pesticides_Manufacturing  \\\n",
       "0            686.00                        0.0                 11.807483   \n",
       "1            678.16                        0.0                 11.712073   \n",
       "2            686.00                        0.0                 11.712073   \n",
       "3            686.00                        0.0                 11.712073   \n",
       "4            705.60                        0.0                 11.712073   \n",
       "\n",
       "   Food_Transport  Forestland  ...  Fires_In_Organic_Soils  \\\n",
       "0         63.1152   -2388.803  ...                     0.0   \n",
       "1         61.2125   -2388.803  ...                     0.0   \n",
       "2         53.3170   -2388.803  ...                     0.0   \n",
       "3         54.3617   -2388.803  ...                     0.0   \n",
       "4         53.9874   -2388.803  ...                     0.0   \n",
       "\n",
       "   Fires_In_Humid_Tropical_Forests  On_Farm_Energy_Use  Rural_Population  \\\n",
       "0                              0.0                 NaN           9655167   \n",
       "1                              0.0                 NaN          10230490   \n",
       "2                              0.0                 NaN          10995568   \n",
       "3                              0.0                 NaN          11858090   \n",
       "4                              0.0                 NaN          12690115   \n",
       "\n",
       "   Urban_Population  Total_Population_Male  Total_Population_Female  \\\n",
       "0           2593947              5348387.0                5346409.0   \n",
       "1           2763167              5372959.0                5372208.0   \n",
       "2           2985663              6028494.0                6028939.0   \n",
       "3           3237009              7003641.0                7000119.0   \n",
       "4           3482604              7733458.0                7722096.0   \n",
       "\n",
       "   Total_Emissions  Average_Temperature  Total_Population  \n",
       "0      2198.963539             0.536167        10694796.0  \n",
       "1      2323.876629             0.020667        10745167.0  \n",
       "2      2356.304229            -0.259583        12057433.0  \n",
       "3      2368.470529             0.101917        14003760.0  \n",
       "4      2500.768729             0.372250        15455554.0  \n",
       "\n",
       "[5 rows x 32 columns]"
      ]
     },
     "metadata": {},
     "output_type": "display_data"
    }
   ],
   "source": [
    "display(carbon_csv.head(5))"
   ]
  },
  {
   "cell_type": "code",
   "execution_count": 32,
   "id": "b7de1a1b-1238-4009-8886-eacb91766621",
   "metadata": {},
   "outputs": [
    {
     "name": "stdout",
     "output_type": "stream",
     "text": [
      "<class 'pandas.core.frame.DataFrame'>\n"
     ]
    }
   ],
   "source": [
    "print(type(carbon_csv))"
   ]
  },
  {
   "cell_type": "markdown",
   "id": "eb4683fa",
   "metadata": {
    "jp-MarkdownHeadingCollapsed": true,
    "tags": []
   },
   "source": [
    "### Ethical Implications"
   ]
  },
  {
   "cell_type": "markdown",
   "id": "5d00ef85",
   "metadata": {},
   "source": [
    "   Updating the column names does not have ethical implications because all the original information was retained. \n",
    "    \n",
    "   Selecting the two populations to use for the total population column could have potentially resulted in misrepresented populations. It seems likely that the male and female population counts were the most accurate, but the knowing the specific methods used to gather the data would help support my decision. Depending on future uses of the total population data, this could skew results and possibly show relationships that don't actually exist. This transformation has the greatest potential for negative impact out of all the transformations identified.\n",
    "   \n",
    "   Replacing missing values with NaN also does not have ethical implications because it is just another way to represent data that is not present.\n",
    "   \n",
    "   I decided to leave the outliers in the Total Emissions column as is because I feel they are accurate representations of different emissions by year and country. This could make future analysis more difficult, however, it maintains the integrity of the original data. "
   ]
  },
  {
   "cell_type": "markdown",
   "id": "2ece124d-c19b-4590-93f9-1d69711e7787",
   "metadata": {
    "tags": []
   },
   "source": [
    "## Milestone 3 - Website Data"
   ]
  },
  {
   "cell_type": "markdown",
   "id": "ac2d50fd-aea9-4695-9b80-a3e1070f30df",
   "metadata": {
    "jp-MarkdownHeadingCollapsed": true,
    "tags": []
   },
   "source": [
    "#### Importing packages"
   ]
  },
  {
   "cell_type": "code",
   "execution_count": 33,
   "id": "c6295230-b05f-4a50-a576-bd611c2a2355",
   "metadata": {},
   "outputs": [],
   "source": [
    "from bs4 import BeautifulSoup\n",
    "import pandas as pd\n",
    "import re\n",
    "import matplotlib.pyplot as plt\n",
    "import seaborn as sns"
   ]
  },
  {
   "cell_type": "markdown",
   "id": "c5c9ccc1-904a-4258-bafb-3e096bb36bbc",
   "metadata": {
    "tags": []
   },
   "source": [
    "### Parsing the Original Data"
   ]
  },
  {
   "cell_type": "code",
   "execution_count": 34,
   "id": "1e971332-92ea-4e0f-adc5-5f8f2a8c952a",
   "metadata": {},
   "outputs": [],
   "source": [
    "# Opens the file in read only mode with specified encoding\n",
    "# Assigns the file data to the 'fd' variable\n",
    "fd = open(\"List of countries by vehicles per capita - Wikipedia.html\", \"r\", \n",
    "          encoding=\"utf-8\")\n",
    "\n",
    "# Parses the file object saved in 'fd' using BeautifulSoup\n",
    "soup = BeautifulSoup(fd)\n",
    "\n",
    "# Closes the 'fd' file\n",
    "fd.close()"
   ]
  },
  {
   "cell_type": "code",
   "execution_count": 35,
   "id": "b5597b37-44af-44d1-9709-4d809c1b4049",
   "metadata": {},
   "outputs": [
    {
     "name": "stdout",
     "output_type": "stream",
     "text": [
      "<class 'bs4.element.ResultSet'>\n",
      "Number of tables: 4\n"
     ]
    }
   ],
   "source": [
    "# Uses the find all function of BeautifulSoup to search the file for all\n",
    "# instances of a <table> element\n",
    "tables = soup.find_all(\"table\")\n",
    "\n",
    "print(type(tables))\n",
    "print(\"Number of tables: {}\".format(len(tables)))"
   ]
  },
  {
   "cell_type": "code",
   "execution_count": 36,
   "id": "a489a6a7-e7fc-404f-a592-a789ead91f83",
   "metadata": {},
   "outputs": [
    {
     "name": "stdout",
     "output_type": "stream",
     "text": [
      "<class 'bs4.element.Tag'>\n",
      "Number of Wikitables: 4\n"
     ]
    }
   ],
   "source": [
    "# Searches only for the tables that have a class of 'wikitable'\n",
    "data_table = soup.find(\"table\", {\"class\": \"wikitable\"})\n",
    "\n",
    "print(type(data_table))\n",
    "print(\"Number of Wikitables: {}\".format(len(data_table)))"
   ]
  },
  {
   "cell_type": "code",
   "execution_count": 37,
   "id": "a9690f6b-4296-4675-a881-360ef9b5810a",
   "metadata": {},
   "outputs": [
    {
     "data": {
      "text/plain": [
       "['Country or region', 'Motor vehiclesper 1,000 people', 'Total', 'Year']"
      ]
     },
     "execution_count": 37,
     "metadata": {},
     "output_type": "execute_result"
    }
   ],
   "source": [
    "# Searches for all <thead> elements in the table\n",
    "# Selects the first <thead> element\n",
    "# Searches for all the <th> elements within the first <thead> element\n",
    "# Pulls the text from each <th> element found\n",
    "# Strips the text of whitespace\n",
    "header1 = [th.getText().strip() for th in data_table.findAll(\n",
    "'thead')[0].findAll('th')]\n",
    "\n",
    "header1"
   ]
  },
  {
   "cell_type": "code",
   "execution_count": 38,
   "id": "dcdc2fe3-e6cc-4008-90f5-5a54f6cd90b6",
   "metadata": {},
   "outputs": [
    {
     "name": "stdout",
     "output_type": "stream",
     "text": [
      "<class 'bs4.element.ResultSet'>\n"
     ]
    }
   ],
   "source": [
    "# Searches for the first <tbody> element in the table\n",
    "# Searches for the first <tr> element within the <tbody> element\n",
    "# Selects all rows\n",
    "rows1 = data_table.findAll('tbody')[0].findAll('tr')\n",
    "\n",
    "print(type(rows1))"
   ]
  },
  {
   "cell_type": "code",
   "execution_count": 39,
   "id": "8ac24165-d8c7-4ff4-991f-b0524bd8325e",
   "metadata": {},
   "outputs": [
    {
     "name": "stdout",
     "output_type": "stream",
     "text": [
      "<class 'list'>\n"
     ]
    }
   ],
   "source": [
    "# Iterates through all the <tr> elements stored in rows1 and creates a list\n",
    "# Searches for the element <td> inside of each <tr> element\n",
    "# Pulls the text from each <td> element\n",
    "# Strips the text of all whitespace\n",
    "# Results are added to a list nested inside of the outer list\n",
    "data_rows1 = [[td.get_text().strip() for td in tr.findAll('td')] for tr\n",
    "             in rows1]\n",
    "\n",
    "print(type(data_rows1))"
   ]
  },
  {
   "cell_type": "code",
   "execution_count": 40,
   "id": "62a57e0d-a271-4c8c-9d20-3faaa6afaec4",
   "metadata": {},
   "outputs": [
    {
     "data": {
      "text/html": [
       "<div>\n",
       "<style scoped>\n",
       "    .dataframe tbody tr th:only-of-type {\n",
       "        vertical-align: middle;\n",
       "    }\n",
       "\n",
       "    .dataframe tbody tr th {\n",
       "        vertical-align: top;\n",
       "    }\n",
       "\n",
       "    .dataframe thead th {\n",
       "        text-align: right;\n",
       "    }\n",
       "</style>\n",
       "<table border=\"1\" class=\"dataframe\">\n",
       "  <thead>\n",
       "    <tr style=\"text-align: right;\">\n",
       "      <th></th>\n",
       "      <th>Country or region</th>\n",
       "      <th>Motor vehiclesper 1,000 people</th>\n",
       "      <th>Total</th>\n",
       "      <th>Year</th>\n",
       "    </tr>\n",
       "  </thead>\n",
       "  <tbody>\n",
       "    <tr>\n",
       "      <th>0</th>\n",
       "      <td>Gibraltar</td>\n",
       "      <td>1,444</td>\n",
       "      <td>48,641</td>\n",
       "      <td>2022[1]</td>\n",
       "    </tr>\n",
       "    <tr>\n",
       "      <th>1</th>\n",
       "      <td>Guernsey</td>\n",
       "      <td>1,365</td>\n",
       "      <td>86,000</td>\n",
       "      <td>2014[2]</td>\n",
       "    </tr>\n",
       "    <tr>\n",
       "      <th>2</th>\n",
       "      <td>San Marino</td>\n",
       "      <td>1,300</td>\n",
       "      <td>44,200</td>\n",
       "      <td>2022[3]</td>\n",
       "    </tr>\n",
       "    <tr>\n",
       "      <th>3</th>\n",
       "      <td>Liechtenstein</td>\n",
       "      <td>1,193</td>\n",
       "      <td>45,800</td>\n",
       "      <td>2022[4]</td>\n",
       "    </tr>\n",
       "    <tr>\n",
       "      <th>4</th>\n",
       "      <td>Andorra</td>\n",
       "      <td>1,050</td>\n",
       "      <td>81,000</td>\n",
       "      <td>2021[5]</td>\n",
       "    </tr>\n",
       "  </tbody>\n",
       "</table>\n",
       "</div>"
      ],
      "text/plain": [
       "  Country or region Motor vehiclesper 1,000 people   Total     Year\n",
       "0         Gibraltar                          1,444  48,641  2022[1]\n",
       "1          Guernsey                          1,365  86,000  2014[2]\n",
       "2        San Marino                          1,300  44,200  2022[3]\n",
       "3     Liechtenstein                          1,193  45,800  2022[4]\n",
       "4           Andorra                          1,050  81,000  2021[5]"
      ]
     },
     "metadata": {},
     "output_type": "display_data"
    },
    {
     "name": "stdout",
     "output_type": "stream",
     "text": [
      "None\n",
      "(195, 4)\n"
     ]
    }
   ],
   "source": [
    "vehicles = pd.DataFrame(data_rows1, columns = header1)\n",
    "print(display(vehicles.head()))\n",
    "print(vehicles.shape)"
   ]
  },
  {
   "cell_type": "markdown",
   "id": "9e752990-4ff4-4779-a6c6-7666e732e489",
   "metadata": {
    "tags": []
   },
   "source": [
    "### Transformation 1: Headers"
   ]
  },
  {
   "cell_type": "markdown",
   "id": "a511f028-64ef-47db-bcd0-93a88676b18b",
   "metadata": {},
   "source": [
    "For more consistency across the three datasets, I am replacing the header 'Region or country' with 'Country'. It is possible that not all of the entries are actual countries, but it will make the data more useable in the future. I am also replacing spaces with _ to maintain consistency between this dataset and my first dataset."
   ]
  },
  {
   "cell_type": "code",
   "execution_count": 41,
   "id": "e1282691-d9b4-45e3-8eb9-894247e4448d",
   "metadata": {},
   "outputs": [
    {
     "data": {
      "text/plain": [
       "Index(['Country', 'Vehicles_per_1000_People', 'Total_Number_of_Vehicles',\n",
       "       'Year_Vehicles'],\n",
       "      dtype='object')"
      ]
     },
     "metadata": {},
     "output_type": "display_data"
    },
    {
     "name": "stdout",
     "output_type": "stream",
     "text": [
      "None\n"
     ]
    }
   ],
   "source": [
    "new_col_names = {\"Country or region\": \"Country\", \n",
    "                 \"Motor vehiclesper 1,000 people\": \"Vehicles_per_1000_People\",\n",
    "                \"Total\": \"Total_Number_of_Vehicles\", \"Year\": \"Year_Vehicles\"}\n",
    "\n",
    "vehicles.rename(columns = new_col_names, inplace = True)\n",
    "print(display(vehicles.columns))"
   ]
  },
  {
   "cell_type": "markdown",
   "id": "f971a40f-5c56-4ba8-ad5d-ce9b5fbb42d4",
   "metadata": {
    "tags": []
   },
   "source": [
    "### Transformation 2: Removing Bracketed Numbers in the Year Column"
   ]
  },
  {
   "cell_type": "markdown",
   "id": "e7db6e06-8769-4087-9984-97baa6f6abf5",
   "metadata": {},
   "source": [
    "The Year column currently has bracketed numbers left over. They were reference links in the original webpage. They hold no value in this dataframe so they will be dropped"
   ]
  },
  {
   "cell_type": "code",
   "execution_count": 42,
   "id": "38bd474e-b8c6-40f0-8b80-07183e16ca40",
   "metadata": {},
   "outputs": [],
   "source": [
    "# Function to remove the brackets and their contents\n",
    "def remove_brackets(text):\n",
    "    # Calls the substitution function\n",
    "    # 'r' denotes a raw string so the backslashes are not treated as \n",
    "    # escape characters\n",
    "    # Raw string includes backslashes and one or more digits\n",
    "    # Replaces the expression with an empty string\n",
    "    # Defines the substitution should take place in the text variable\n",
    "    return re.sub(r'\\[\\d+\\]', '', text)"
   ]
  },
  {
   "cell_type": "code",
   "execution_count": 43,
   "id": "3bc3b8c6-2b1e-4224-86b1-0d10ec83d960",
   "metadata": {},
   "outputs": [
    {
     "name": "stdout",
     "output_type": "stream",
     "text": [
      "0      2022\n",
      "1      2014\n",
      "2      2022\n",
      "3      2022\n",
      "4      2021\n",
      "       ... \n",
      "190    2017\n",
      "191    2019\n",
      "192    2020\n",
      "193    2019\n",
      "194    2022\n",
      "Name: Year_Vehicles, Length: 195, dtype: object\n"
     ]
    }
   ],
   "source": [
    "vehicles[\"Year_Vehicles\"] = [remove_brackets(item) for item in vehicles[\"Year_Vehicles\"]]\n",
    "print(vehicles[\"Year_Vehicles\"])"
   ]
  },
  {
   "cell_type": "markdown",
   "id": "aec3d8b9-26aa-4f04-88a2-18a4213fbe2c",
   "metadata": {
    "tags": []
   },
   "source": [
    "### Transformation 3: Re-ordering in Alphabetical Order Based on the Country"
   ]
  },
  {
   "cell_type": "markdown",
   "id": "615d8fb0-7677-47fb-a504-3536def28cea",
   "metadata": {},
   "source": [
    "The flat file is ordered by country name from A-Z. It will be easier to compare the two if this data is in the same format. It is also easier to comprehend the order since we read from left to right."
   ]
  },
  {
   "cell_type": "code",
   "execution_count": 44,
   "id": "47a80c5f-fcd6-40d7-93c3-3a125c2e6782",
   "metadata": {},
   "outputs": [
    {
     "data": {
      "text/html": [
       "<div>\n",
       "<style scoped>\n",
       "    .dataframe tbody tr th:only-of-type {\n",
       "        vertical-align: middle;\n",
       "    }\n",
       "\n",
       "    .dataframe tbody tr th {\n",
       "        vertical-align: top;\n",
       "    }\n",
       "\n",
       "    .dataframe thead th {\n",
       "        text-align: right;\n",
       "    }\n",
       "</style>\n",
       "<table border=\"1\" class=\"dataframe\">\n",
       "  <thead>\n",
       "    <tr style=\"text-align: right;\">\n",
       "      <th></th>\n",
       "      <th>Country</th>\n",
       "      <th>Vehicles_per_1000_People</th>\n",
       "      <th>Total_Number_of_Vehicles</th>\n",
       "      <th>Year_Vehicles</th>\n",
       "    </tr>\n",
       "  </thead>\n",
       "  <tbody>\n",
       "    <tr>\n",
       "      <th>149</th>\n",
       "      <td>Afghanistan</td>\n",
       "      <td>61</td>\n",
       "      <td>2,306,500</td>\n",
       "      <td>2019</td>\n",
       "    </tr>\n",
       "    <tr>\n",
       "      <th>91</th>\n",
       "      <td>Albania</td>\n",
       "      <td>238</td>\n",
       "      <td>740,000</td>\n",
       "      <td>2022</td>\n",
       "    </tr>\n",
       "    <tr>\n",
       "      <th>117</th>\n",
       "      <td>Algeria</td>\n",
       "      <td>149</td>\n",
       "      <td>6,395,730</td>\n",
       "      <td>2019</td>\n",
       "    </tr>\n",
       "    <tr>\n",
       "      <th>4</th>\n",
       "      <td>Andorra</td>\n",
       "      <td>1,050</td>\n",
       "      <td>81,000</td>\n",
       "      <td>2021</td>\n",
       "    </tr>\n",
       "    <tr>\n",
       "      <th>161</th>\n",
       "      <td>Angola</td>\n",
       "      <td>36</td>\n",
       "      <td>1,145,000</td>\n",
       "      <td>2019</td>\n",
       "    </tr>\n",
       "  </tbody>\n",
       "</table>\n",
       "</div>"
      ],
      "text/plain": [
       "         Country Vehicles_per_1000_People Total_Number_of_Vehicles  \\\n",
       "149  Afghanistan                       61                2,306,500   \n",
       "91       Albania                      238                  740,000   \n",
       "117      Algeria                      149                6,395,730   \n",
       "4        Andorra                    1,050                   81,000   \n",
       "161       Angola                       36                1,145,000   \n",
       "\n",
       "    Year_Vehicles  \n",
       "149          2019  \n",
       "91           2022  \n",
       "117          2019  \n",
       "4            2021  \n",
       "161          2019  "
      ]
     },
     "metadata": {},
     "output_type": "display_data"
    },
    {
     "name": "stdout",
     "output_type": "stream",
     "text": [
      "None\n"
     ]
    }
   ],
   "source": [
    "vehicles = vehicles.sort_values(by = \"Country\")\n",
    "print(display(vehicles.head()))"
   ]
  },
  {
   "cell_type": "markdown",
   "id": "84b54099-4b61-4192-a56c-70e8c2cc6b07",
   "metadata": {
    "tags": []
   },
   "source": [
    "### Transformation 4: Adding the Index Column to the Dataframe"
   ]
  },
  {
   "cell_type": "markdown",
   "id": "c9c927af-0b3d-4166-b339-090d237f02a3",
   "metadata": {},
   "source": [
    "The index column can provide potentially valuable information about the rank of the countries. A value of 1 means the country has the most motor vehicles per 1000 people while the value 195 means it has the least. This could be useful for comparison later"
   ]
  },
  {
   "cell_type": "code",
   "execution_count": 45,
   "id": "7c0e452a-96da-4699-80e7-f4d1800a84e0",
   "metadata": {},
   "outputs": [],
   "source": [
    "# Gives the axis a name\n",
    "vehicles = vehicles.rename_axis(\"Rank\")"
   ]
  },
  {
   "cell_type": "code",
   "execution_count": 46,
   "id": "291cb6f6-2bd3-4cf8-a259-025c62ceac9c",
   "metadata": {},
   "outputs": [
    {
     "data": {
      "text/html": [
       "<div>\n",
       "<style scoped>\n",
       "    .dataframe tbody tr th:only-of-type {\n",
       "        vertical-align: middle;\n",
       "    }\n",
       "\n",
       "    .dataframe tbody tr th {\n",
       "        vertical-align: top;\n",
       "    }\n",
       "\n",
       "    .dataframe thead th {\n",
       "        text-align: right;\n",
       "    }\n",
       "</style>\n",
       "<table border=\"1\" class=\"dataframe\">\n",
       "  <thead>\n",
       "    <tr style=\"text-align: right;\">\n",
       "      <th></th>\n",
       "      <th>Rank</th>\n",
       "      <th>Country</th>\n",
       "      <th>Vehicles_per_1000_People</th>\n",
       "      <th>Total_Number_of_Vehicles</th>\n",
       "      <th>Year_Vehicles</th>\n",
       "    </tr>\n",
       "  </thead>\n",
       "  <tbody>\n",
       "    <tr>\n",
       "      <th>0</th>\n",
       "      <td>149</td>\n",
       "      <td>Afghanistan</td>\n",
       "      <td>61</td>\n",
       "      <td>2,306,500</td>\n",
       "      <td>2019</td>\n",
       "    </tr>\n",
       "    <tr>\n",
       "      <th>1</th>\n",
       "      <td>91</td>\n",
       "      <td>Albania</td>\n",
       "      <td>238</td>\n",
       "      <td>740,000</td>\n",
       "      <td>2022</td>\n",
       "    </tr>\n",
       "    <tr>\n",
       "      <th>2</th>\n",
       "      <td>117</td>\n",
       "      <td>Algeria</td>\n",
       "      <td>149</td>\n",
       "      <td>6,395,730</td>\n",
       "      <td>2019</td>\n",
       "    </tr>\n",
       "    <tr>\n",
       "      <th>3</th>\n",
       "      <td>4</td>\n",
       "      <td>Andorra</td>\n",
       "      <td>1,050</td>\n",
       "      <td>81,000</td>\n",
       "      <td>2021</td>\n",
       "    </tr>\n",
       "    <tr>\n",
       "      <th>4</th>\n",
       "      <td>161</td>\n",
       "      <td>Angola</td>\n",
       "      <td>36</td>\n",
       "      <td>1,145,000</td>\n",
       "      <td>2019</td>\n",
       "    </tr>\n",
       "  </tbody>\n",
       "</table>\n",
       "</div>"
      ],
      "text/plain": [
       "   Rank      Country Vehicles_per_1000_People Total_Number_of_Vehicles  \\\n",
       "0   149  Afghanistan                       61                2,306,500   \n",
       "1    91      Albania                      238                  740,000   \n",
       "2   117      Algeria                      149                6,395,730   \n",
       "3     4      Andorra                    1,050                   81,000   \n",
       "4   161       Angola                       36                1,145,000   \n",
       "\n",
       "  Year_Vehicles  \n",
       "0          2019  \n",
       "1          2022  \n",
       "2          2019  \n",
       "3          2021  \n",
       "4          2019  "
      ]
     },
     "metadata": {},
     "output_type": "display_data"
    },
    {
     "name": "stdout",
     "output_type": "stream",
     "text": [
      "None\n"
     ]
    }
   ],
   "source": [
    "# Resets the index but keeps the old one\n",
    "vehicles = vehicles.reset_index(drop = False)\n",
    "print(display(vehicles.head()))"
   ]
  },
  {
   "cell_type": "markdown",
   "id": "fa13214f-233b-4c93-8728-b9eb827e84c6",
   "metadata": {
    "tags": []
   },
   "source": [
    "### Transformation 5: Checking for Outliers in the Total Number of Vehicles Column"
   ]
  },
  {
   "cell_type": "markdown",
   "id": "5de24b10-de7f-4224-a26f-df3d44af6d1c",
   "metadata": {},
   "source": [
    "I plan to look at a possible relationship between carbon emissions and the total number of vehicles. To do this, I need to check the Total Number of Vehicles column for any outliers or potentially bad data."
   ]
  },
  {
   "cell_type": "code",
   "execution_count": 47,
   "id": "ed4f06b2-a4e3-48b0-a06f-72fe44b100d2",
   "metadata": {},
   "outputs": [
    {
     "name": "stdout",
     "output_type": "stream",
     "text": [
      "count           195\n",
      "unique          191\n",
      "top       2,000,000\n",
      "freq              4\n",
      "Name: Total_Number_of_Vehicles, dtype: object\n"
     ]
    }
   ],
   "source": [
    "# Prints the summary statistics for the Total Number of Vehicles column\n",
    "print(vehicles[\"Total_Number_of_Vehicles\"].describe())"
   ]
  },
  {
   "cell_type": "code",
   "execution_count": 48,
   "id": "0d5f11e3-bf9f-4c84-9b58-c0872f53e014",
   "metadata": {},
   "outputs": [
    {
     "name": "stdout",
     "output_type": "stream",
     "text": [
      "Rank                         int64\n",
      "Country                     object\n",
      "Vehicles_per_1000_People    object\n",
      "Total_Number_of_Vehicles    object\n",
      "Year_Vehicles               object\n",
      "dtype: object\n"
     ]
    }
   ],
   "source": [
    "# Gives the type of data for each column\n",
    "print(vehicles.dtypes)"
   ]
  },
  {
   "cell_type": "code",
   "execution_count": 49,
   "id": "9e6ab7bf-d003-4079-8014-d3096ef5542d",
   "metadata": {},
   "outputs": [],
   "source": [
    "# Defines a function to remove the commas and convert that data to float type\n",
    "def remove_columns_convert(value):\n",
    "    return float(value.replace(\",\", \"\"))"
   ]
  },
  {
   "cell_type": "code",
   "execution_count": 50,
   "id": "d6277608-62cb-48b7-8e38-d1e9ba8fb6ee",
   "metadata": {},
   "outputs": [],
   "source": [
    "columns_type_change = [\"Vehicles_per_1000_People\", \"Total_Number_of_Vehicles\"]"
   ]
  },
  {
   "cell_type": "code",
   "execution_count": 51,
   "id": "f8feca79-4dcc-406f-8c4c-ea7013c0b9da",
   "metadata": {},
   "outputs": [],
   "source": [
    "# Iterates over the list of columns\n",
    "for column in columns_type_change:\n",
    "    # Applies the function to each list entry\n",
    "    vehicles[column] = vehicles[column].apply(remove_columns_convert)"
   ]
  },
  {
   "cell_type": "code",
   "execution_count": 52,
   "id": "b610c281-0e03-432a-92ce-2f385b61f58b",
   "metadata": {},
   "outputs": [
    {
     "name": "stdout",
     "output_type": "stream",
     "text": [
      "Rank                          int64\n",
      "Country                      object\n",
      "Vehicles_per_1000_People    float64\n",
      "Total_Number_of_Vehicles    float64\n",
      "Year_Vehicles                object\n",
      "dtype: object\n"
     ]
    }
   ],
   "source": [
    "print(vehicles.dtypes)"
   ]
  },
  {
   "cell_type": "code",
   "execution_count": 53,
   "id": "69d8e4b3-79b4-489d-85c9-68e9bed3dd3d",
   "metadata": {},
   "outputs": [
    {
     "name": "stdout",
     "output_type": "stream",
     "text": [
      "count    1.950000e+02\n",
      "mean     9.075496e+06\n",
      "std      3.359423e+07\n",
      "min      4.048000e+03\n",
      "25%      2.280810e+05\n",
      "50%      1.131821e+06\n",
      "75%      4.493697e+06\n",
      "max      3.150000e+08\n",
      "Name: Total_Number_of_Vehicles, dtype: float64\n"
     ]
    }
   ],
   "source": [
    "print(vehicles[\"Total_Number_of_Vehicles\"].describe())"
   ]
  },
  {
   "cell_type": "code",
   "execution_count": 54,
   "id": "a204a8b5-25c2-4aa9-9547-ec4b7c08eb56",
   "metadata": {},
   "outputs": [
    {
     "data": {
      "image/png": "[encoded data removed]",
      "text/plain": [
       "<Figure size 640x480 with 1 Axes>"
      ]
     },
     "metadata": {},
     "output_type": "display_data"
    }
   ],
   "source": [
    "# Creates a boxplot\n",
    "plt.boxplot(vehicles.Total_Number_of_Vehicles, notch = True)\n",
    "plt.show()"
   ]
  },
  {
   "cell_type": "code",
   "execution_count": 55,
   "id": "168af74f-b038-4586-8d59-5b552e3f0b5e",
   "metadata": {},
   "outputs": [
    {
     "data": {
      "image/png": "[encoded data removed]",
      "text/plain": [
       "<Figure size 640x480 with 1 Axes>"
      ]
     },
     "metadata": {},
     "output_type": "display_data"
    }
   ],
   "source": [
    "# Plots a kernel density plot to better see the distribution\n",
    "sns.kdeplot(vehicles[\"Total_Number_of_Vehicles\"], fill = True)\n",
    "plt.show()"
   ]
  },
  {
   "cell_type": "code",
   "execution_count": 56,
   "id": "f74cebb0-b2d6-4d86-a69c-5916ef65c6c5",
   "metadata": {},
   "outputs": [
    {
     "data": {
      "text/html": [
       "<div>\n",
       "<style scoped>\n",
       "    .dataframe tbody tr th:only-of-type {\n",
       "        vertical-align: middle;\n",
       "    }\n",
       "\n",
       "    .dataframe tbody tr th {\n",
       "        vertical-align: top;\n",
       "    }\n",
       "\n",
       "    .dataframe thead th {\n",
       "        text-align: right;\n",
       "    }\n",
       "</style>\n",
       "<table border=\"1\" class=\"dataframe\">\n",
       "  <thead>\n",
       "    <tr style=\"text-align: right;\">\n",
       "      <th></th>\n",
       "      <th>Rank</th>\n",
       "      <th>Country</th>\n",
       "      <th>Vehicles_per_1000_People</th>\n",
       "      <th>Total_Number_of_Vehicles</th>\n",
       "      <th>Year_Vehicles</th>\n",
       "    </tr>\n",
       "  </thead>\n",
       "  <tbody>\n",
       "    <tr>\n",
       "      <th>35</th>\n",
       "      <td>96</td>\n",
       "      <td>China</td>\n",
       "      <td>221.0</td>\n",
       "      <td>315000000.0</td>\n",
       "      <td>2022</td>\n",
       "    </tr>\n",
       "    <tr>\n",
       "      <th>185</th>\n",
       "      <td>6</td>\n",
       "      <td>United States</td>\n",
       "      <td>908.0</td>\n",
       "      <td>305000000.0</td>\n",
       "      <td>2023</td>\n",
       "    </tr>\n",
       "  </tbody>\n",
       "</table>\n",
       "</div>"
      ],
      "text/plain": [
       "     Rank        Country  Vehicles_per_1000_People  Total_Number_of_Vehicles  \\\n",
       "35     96          China                     221.0               315000000.0   \n",
       "185     6  United States                     908.0               305000000.0   \n",
       "\n",
       "    Year_Vehicles  \n",
       "35           2022  \n",
       "185         2023   "
      ]
     },
     "metadata": {},
     "output_type": "display_data"
    },
    {
     "name": "stdout",
     "output_type": "stream",
     "text": [
      "None\n"
     ]
    }
   ],
   "source": [
    "top_two_vehicles = vehicles.nlargest(2, \"Total_Number_of_Vehicles\")\n",
    "print(display(top_two_vehicles))"
   ]
  },
  {
   "cell_type": "markdown",
   "id": "5cee64e4-37b6-45f1-b2ca-1fa6661a8201",
   "metadata": {},
   "source": [
    "There appear to be two data points that are significant outliers. It is worth keeping them because it is possible that some countries have far more vehicles than others. The two outliers are China and the United States.\n",
    "\n",
    "It is interesting to note that while these two countries are the outliers for Total Number of Vehicles, they do NOT have the largest number of vehicles per 1,000 people"
   ]
  },
  {
   "cell_type": "markdown",
   "id": "3d2615bd-ee56-41fd-acb5-e4833cb0ddf6",
   "metadata": {
    "jp-MarkdownHeadingCollapsed": true,
    "tags": []
   },
   "source": [
    "### Transformation 6: Checking for Outliers in the Vehicles per 1,000 People Column"
   ]
  },
  {
   "cell_type": "markdown",
   "id": "04b2fbd0-8647-4b36-b764-aabedd70ca2e",
   "metadata": {},
   "source": [
    "After seeing the results for the Total Number of Vehicles outliers, it would be worth knowing if there are also outliers in the Vehicles per 1,000 People column as well."
   ]
  },
  {
   "cell_type": "code",
   "execution_count": 57,
   "id": "6b0af57b-5ecb-4d94-b2c4-3f81bfe9617b",
   "metadata": {},
   "outputs": [
    {
     "name": "stdout",
     "output_type": "stream",
     "text": [
      "count     195.000000\n",
      "mean      310.902564\n",
      "std       291.569368\n",
      "min         1.000000\n",
      "25%        67.500000\n",
      "50%       218.000000\n",
      "75%       516.500000\n",
      "max      1444.000000\n",
      "Name: Vehicles_per_1000_People, dtype: float64\n"
     ]
    }
   ],
   "source": [
    "# Prints the summary statistics for the Vehicles per 1,000 People column\n",
    "print(vehicles[\"Vehicles_per_1000_People\"].describe())"
   ]
  },
  {
   "cell_type": "code",
   "execution_count": 58,
   "id": "06186ecc-279c-4d12-ac4f-d517d3e303ab",
   "metadata": {},
   "outputs": [
    {
     "data": {
      "image/png": "[encoded data removed]",
      "text/plain": [
       "<Figure size 640x480 with 1 Axes>"
      ]
     },
     "metadata": {},
     "output_type": "display_data"
    }
   ],
   "source": [
    "# Creates a boxplot\n",
    "plt.boxplot(vehicles.Vehicles_per_1000_People, notch = True)\n",
    "plt.show()"
   ]
  },
  {
   "cell_type": "code",
   "execution_count": 59,
   "id": "21d41623-1723-4aa1-b450-bb1425ceeeb5",
   "metadata": {},
   "outputs": [
    {
     "data": {
      "text/html": [
       "<div>\n",
       "<style scoped>\n",
       "    .dataframe tbody tr th:only-of-type {\n",
       "        vertical-align: middle;\n",
       "    }\n",
       "\n",
       "    .dataframe tbody tr th {\n",
       "        vertical-align: top;\n",
       "    }\n",
       "\n",
       "    .dataframe thead th {\n",
       "        text-align: right;\n",
       "    }\n",
       "</style>\n",
       "<table border=\"1\" class=\"dataframe\">\n",
       "  <thead>\n",
       "    <tr style=\"text-align: right;\">\n",
       "      <th></th>\n",
       "      <th>Rank</th>\n",
       "      <th>Country</th>\n",
       "      <th>Vehicles_per_1000_People</th>\n",
       "      <th>Total_Number_of_Vehicles</th>\n",
       "      <th>Year_Vehicles</th>\n",
       "    </tr>\n",
       "  </thead>\n",
       "  <tbody>\n",
       "    <tr>\n",
       "      <th>63</th>\n",
       "      <td>0</td>\n",
       "      <td>Gibraltar</td>\n",
       "      <td>1444.0</td>\n",
       "      <td>48641.0</td>\n",
       "      <td>2022</td>\n",
       "    </tr>\n",
       "    <tr>\n",
       "      <th>69</th>\n",
       "      <td>1</td>\n",
       "      <td>Guernsey</td>\n",
       "      <td>1365.0</td>\n",
       "      <td>86000.0</td>\n",
       "      <td>2014</td>\n",
       "    </tr>\n",
       "    <tr>\n",
       "      <th>149</th>\n",
       "      <td>2</td>\n",
       "      <td>San Marino</td>\n",
       "      <td>1300.0</td>\n",
       "      <td>44200.0</td>\n",
       "      <td>2022</td>\n",
       "    </tr>\n",
       "    <tr>\n",
       "      <th>100</th>\n",
       "      <td>3</td>\n",
       "      <td>Liechtenstein</td>\n",
       "      <td>1193.0</td>\n",
       "      <td>45800.0</td>\n",
       "      <td>2022</td>\n",
       "    </tr>\n",
       "  </tbody>\n",
       "</table>\n",
       "</div>"
      ],
      "text/plain": [
       "     Rank        Country  Vehicles_per_1000_People  Total_Number_of_Vehicles  \\\n",
       "63      0      Gibraltar                    1444.0                   48641.0   \n",
       "69      1       Guernsey                    1365.0                   86000.0   \n",
       "149     2     San Marino                    1300.0                   44200.0   \n",
       "100     3  Liechtenstein                    1193.0                   45800.0   \n",
       "\n",
       "    Year_Vehicles  \n",
       "63           2022  \n",
       "69           2014  \n",
       "149          2022  \n",
       "100          2022  "
      ]
     },
     "metadata": {},
     "output_type": "display_data"
    },
    {
     "name": "stdout",
     "output_type": "stream",
     "text": [
      "None\n"
     ]
    }
   ],
   "source": [
    "top_four = vehicles.nlargest(4, \"Vehicles_per_1000_People\")\n",
    "print(display(top_four))"
   ]
  },
  {
   "cell_type": "markdown",
   "id": "73f69543-0316-4bb3-8e6a-c91bfbe9fc6e",
   "metadata": {},
   "source": [
    "There are four countries that show as outliers in the boxplot. Again, this data is worth keeping but it is also worth noting that they are outliers."
   ]
  },
  {
   "cell_type": "markdown",
   "id": "8e809473-2bc3-4ea7-a9fa-0eb7cf5eab1b",
   "metadata": {
    "tags": []
   },
   "source": [
    "### Human Readable Dataset\n",
    "\n",
    "#### (Only first five rows included)"
   ]
  },
  {
   "cell_type": "code",
   "execution_count": 60,
   "id": "5afac8e8-ac59-4109-8d04-84481e0d55d0",
   "metadata": {},
   "outputs": [
    {
     "data": {
      "text/html": [
       "<div>\n",
       "<style scoped>\n",
       "    .dataframe tbody tr th:only-of-type {\n",
       "        vertical-align: middle;\n",
       "    }\n",
       "\n",
       "    .dataframe tbody tr th {\n",
       "        vertical-align: top;\n",
       "    }\n",
       "\n",
       "    .dataframe thead th {\n",
       "        text-align: right;\n",
       "    }\n",
       "</style>\n",
       "<table border=\"1\" class=\"dataframe\">\n",
       "  <thead>\n",
       "    <tr style=\"text-align: right;\">\n",
       "      <th></th>\n",
       "      <th>Rank</th>\n",
       "      <th>Country</th>\n",
       "      <th>Vehicles_per_1000_People</th>\n",
       "      <th>Total_Number_of_Vehicles</th>\n",
       "      <th>Year_Vehicles</th>\n",
       "    </tr>\n",
       "  </thead>\n",
       "  <tbody>\n",
       "    <tr>\n",
       "      <th>0</th>\n",
       "      <td>149</td>\n",
       "      <td>Afghanistan</td>\n",
       "      <td>61.0</td>\n",
       "      <td>2306500.0</td>\n",
       "      <td>2019</td>\n",
       "    </tr>\n",
       "    <tr>\n",
       "      <th>1</th>\n",
       "      <td>91</td>\n",
       "      <td>Albania</td>\n",
       "      <td>238.0</td>\n",
       "      <td>740000.0</td>\n",
       "      <td>2022</td>\n",
       "    </tr>\n",
       "    <tr>\n",
       "      <th>2</th>\n",
       "      <td>117</td>\n",
       "      <td>Algeria</td>\n",
       "      <td>149.0</td>\n",
       "      <td>6395730.0</td>\n",
       "      <td>2019</td>\n",
       "    </tr>\n",
       "    <tr>\n",
       "      <th>3</th>\n",
       "      <td>4</td>\n",
       "      <td>Andorra</td>\n",
       "      <td>1050.0</td>\n",
       "      <td>81000.0</td>\n",
       "      <td>2021</td>\n",
       "    </tr>\n",
       "    <tr>\n",
       "      <th>4</th>\n",
       "      <td>161</td>\n",
       "      <td>Angola</td>\n",
       "      <td>36.0</td>\n",
       "      <td>1145000.0</td>\n",
       "      <td>2019</td>\n",
       "    </tr>\n",
       "  </tbody>\n",
       "</table>\n",
       "</div>"
      ],
      "text/plain": [
       "   Rank      Country  Vehicles_per_1000_People  Total_Number_of_Vehicles  \\\n",
       "0   149  Afghanistan                      61.0                 2306500.0   \n",
       "1    91      Albania                     238.0                  740000.0   \n",
       "2   117      Algeria                     149.0                 6395730.0   \n",
       "3     4      Andorra                    1050.0                   81000.0   \n",
       "4   161       Angola                      36.0                 1145000.0   \n",
       "\n",
       "  Year_Vehicles  \n",
       "0          2019  \n",
       "1          2022  \n",
       "2          2019  \n",
       "3          2021  \n",
       "4          2019  "
      ]
     },
     "metadata": {},
     "output_type": "display_data"
    }
   ],
   "source": [
    "display(vehicles.head(5))"
   ]
  },
  {
   "cell_type": "code",
   "execution_count": 61,
   "id": "b70f16db-5d76-4abb-8b3d-9f20c8f88c4f",
   "metadata": {},
   "outputs": [],
   "source": [
    "# Saves the dataframe in a csv file\n",
    "vehicles.to_csv(\"Milestone3Dataframe.csv\", index = False)"
   ]
  },
  {
   "cell_type": "markdown",
   "id": "c0f82e0c-4984-4710-bb0e-3e47fa3bfb24",
   "metadata": {
    "tags": []
   },
   "source": [
    "### Ethical Implications"
   ]
  },
  {
   "cell_type": "markdown",
   "id": "1ee8a28d-40fb-407a-9b63-48280641d9e5",
   "metadata": {},
   "source": [
    "Updating the column names does not have ethical implications because all the original information was retained. However, renaming the column to just \"Country\" might misrepresent the political status of any region that is not officially considered a country. After combining the datasets, the column header could be reverted back to \"Country or Region\" for a more accurate political representation.\n",
    "   \n",
    "   No data was actually altered and the dataset has retained its original shape and information. \n",
    "   \n",
    "   It is important to note that the Rank column reflects the rank of the number of vehicles per 1000 people and not the total number of vehicles. That could be a point of confusion when reviewing the dataset. The Rank column also begins with 0 instead of 1.\n",
    "   \n",
    "   Outliers were not removed as it is possible that there are countries that have significantly more vehicles or vehicles per 1000 people. This could be a result of much larger populations, less public transit access, or a variety of other factors."
   ]
  },
  {
   "cell_type": "markdown",
   "id": "04dcca1f-8169-4be5-93e1-770177a07325",
   "metadata": {},
   "source": [
    "## Milestone 4 - API"
   ]
  },
  {
   "cell_type": "markdown",
   "id": "2fa088a8-fad8-42a0-881a-9a32759ce793",
   "metadata": {
    "jp-MarkdownHeadingCollapsed": true,
    "tags": []
   },
   "source": [
    "#### Importing Packages"
   ]
  },
  {
   "cell_type": "code",
   "execution_count": 62,
   "id": "43da3040-4cbf-4f30-a0ae-77b1d060d29d",
   "metadata": {},
   "outputs": [],
   "source": [
    "import requests\n",
    "import pandas as pd\n",
    "import json\n",
    "from datetime import datetime"
   ]
  },
  {
   "cell_type": "markdown",
   "id": "34400402-0f7b-4d44-8105-9aebecdbc73d",
   "metadata": {
    "jp-MarkdownHeadingCollapsed": true,
    "tags": []
   },
   "source": [
    "### Storing the API Key"
   ]
  },
  {
   "cell_type": "code",
   "execution_count": 63,
   "id": "4eb92d95-2415-4880-b7f7-fce24bae42de",
   "metadata": {},
   "outputs": [],
   "source": [
    "openaqi_apikey = \"34e461be0d600abe6611e0160ef83680ae0f17b19bfa506914d846f3359ee8c7\""
   ]
  },
  {
   "cell_type": "code",
   "execution_count": 64,
   "id": "08aadb14-b764-4851-a976-a9e8de351a89",
   "metadata": {},
   "outputs": [
    {
     "name": "stdout",
     "output_type": "stream",
     "text": [
      "{'OpenAQapi': '34e461be0d600abe6611e0160ef83680ae0f17b19bfa506914d846f3359ee8c7'}\n",
      "<class 'dict'>\n"
     ]
    }
   ],
   "source": [
    "AQAPIkeys = {\"OpenAQapi\": openaqi_apikey}\n",
    "\n",
    "print(AQAPIkeys)\n",
    "print(type(AQAPIkeys))"
   ]
  },
  {
   "cell_type": "code",
   "execution_count": 65,
   "id": "54a4d1fb-f188-46ba-8aa2-cdfe2cbeee06",
   "metadata": {},
   "outputs": [],
   "source": [
    "# Opens the json file in a writable format\n",
    "with open(\"AQAPIkeys.json\", \"w\") as json_file:\n",
    "    \n",
    "    # Puts the dictionary into the file\n",
    "    json.dump(AQAPIkeys, json_file, indent = 4)"
   ]
  },
  {
   "cell_type": "code",
   "execution_count": 66,
   "id": "396ef352-4d1b-4b4e-83ed-eefa269cd9ef",
   "metadata": {},
   "outputs": [],
   "source": [
    "# Opens the json file\n",
    "with open(\"APIkey.json\") as f:\n",
    "    # Loads the file into the keys variable\n",
    "    keys = json.load(f)\n",
    "    # Accesses the value for the OpenAQapi key\n",
    "    openaq = keys[\"OpenAQapi\"]"
   ]
  },
  {
   "cell_type": "markdown",
   "id": "a255fea9-0d52-4bfc-8bf2-0068ce3ee52f",
   "metadata": {
    "jp-MarkdownHeadingCollapsed": true,
    "tags": []
   },
   "source": [
    "### Accessing the API"
   ]
  },
  {
   "cell_type": "markdown",
   "id": "68a1d405-64c1-497b-8d6d-a3155da6d339",
   "metadata": {},
   "source": [
    "Function to make the API calls."
   ]
  },
  {
   "cell_type": "code",
   "execution_count": 67,
   "id": "ce46f7c7-0fbf-4875-a3b5-098decb9ca31",
   "metadata": {},
   "outputs": [],
   "source": [
    "def api_call(url, method = \"GET\", headers = None):\n",
    "    try:\n",
    "        print(f\"Retrieving data now...\")\n",
    "        print(url)\n",
    "        \n",
    "        # Variable to access the url\n",
    "        response = requests.get(url, headers = headers)\n",
    "        \n",
    "        if response.status_code == 200:\n",
    "            print(\"Request successful!\")\n",
    "            # Loads in the information found on the site\n",
    "            json_data = response.json()\n",
    "            return json_data\n",
    "        \n",
    "        else:\n",
    "            print(f\"API request failed with status code {response.status_code}\")\n",
    "    except requests.exceptions.RequestException as e:\n",
    "        print(f\"API request failed: {e}\")"
   ]
  },
  {
   "cell_type": "markdown",
   "id": "840a9a49-299e-409e-942d-d41b95a3eff5",
   "metadata": {},
   "source": [
    "Function to extract the desired results from API calls"
   ]
  },
  {
   "cell_type": "code",
   "execution_count": 68,
   "id": "31282e2e-c5c7-4d21-9fb5-43248b06702a",
   "metadata": {},
   "outputs": [],
   "source": [
    "def extract_data(json_data, keys_to_extract):\n",
    "    try:\n",
    "        # If the desired key is in the data\n",
    "        if \"results\" in json_data:\n",
    "            # Stores the data from that key to the variable\n",
    "            results_data = json_data[\"results\"]\n",
    "            \n",
    "            # Creates a list of they key-value pairs for the designated keys\n",
    "            extracted_data = [{key: item[key] for key in keys_to_extract} \n",
    "                              for item in results_data]\n",
    "            \n",
    "            # Creates a dataframe from the extracted data\n",
    "            df = pd.DataFrame(extracted_data)\n",
    "            \n",
    "            return df\n",
    "        else:\n",
    "            print(\"'Results' key not found in JSON data.\")\n",
    "            return None\n",
    "    \n",
    "    except Exception as e:\n",
    "        print(f\"An error occurred: {e}\")\n",
    "        return None"
   ]
  },
  {
   "cell_type": "code",
   "execution_count": 69,
   "id": "aad510bf-3404-4ca6-a14d-2537b17b4a82",
   "metadata": {},
   "outputs": [],
   "source": [
    "headers = {\"accept\": \"application/json\", \"X-API-Key\": openaq}"
   ]
  },
  {
   "cell_type": "code",
   "execution_count": 70,
   "id": "7897f848-b183-431e-b68a-3a3d7d7bb66c",
   "metadata": {},
   "outputs": [],
   "source": [
    "country_url = \"https://api.openaq.org/v3/countries?order_by=id&sort_order=asc&limit=1000&page=1\""
   ]
  },
  {
   "cell_type": "code",
   "execution_count": 71,
   "id": "5f347476-7ffa-440b-87e9-65ab9e3dd60c",
   "metadata": {},
   "outputs": [
    {
     "name": "stdout",
     "output_type": "stream",
     "text": [
      "Retrieving data now...\n",
      "https://api.openaq.org/v3/countries?order_by=id&sort_order=asc&limit=1000&page=1\n",
      "Request successful!\n"
     ]
    }
   ],
   "source": [
    "# Calls the function to call the API \n",
    "country_response = api_call(country_url, method = \"GET\", headers = None)"
   ]
  },
  {
   "cell_type": "code",
   "execution_count": 72,
   "id": "815a7b39-2790-46d6-bbab-ba228132efcc",
   "metadata": {},
   "outputs": [],
   "source": [
    "# Gives a list of the keys to extract\n",
    "country_keys = [\"id\", \"code\", \"name\", \"datetimeFirst\", \"datetimeLast\"]"
   ]
  },
  {
   "cell_type": "code",
   "execution_count": 73,
   "id": "2b90c79d-dcf9-49d1-990b-cf780ac5466b",
   "metadata": {},
   "outputs": [
    {
     "data": {
      "text/html": [
       "<div>\n",
       "<style scoped>\n",
       "    .dataframe tbody tr th:only-of-type {\n",
       "        vertical-align: middle;\n",
       "    }\n",
       "\n",
       "    .dataframe tbody tr th {\n",
       "        vertical-align: top;\n",
       "    }\n",
       "\n",
       "    .dataframe thead th {\n",
       "        text-align: right;\n",
       "    }\n",
       "</style>\n",
       "<table border=\"1\" class=\"dataframe\">\n",
       "  <thead>\n",
       "    <tr style=\"text-align: right;\">\n",
       "      <th></th>\n",
       "      <th>id</th>\n",
       "      <th>code</th>\n",
       "      <th>name</th>\n",
       "      <th>datetimeFirst</th>\n",
       "      <th>datetimeLast</th>\n",
       "    </tr>\n",
       "  </thead>\n",
       "  <tbody>\n",
       "    <tr>\n",
       "      <th>0</th>\n",
       "      <td>1</td>\n",
       "      <td>NO</td>\n",
       "      <td>Norway</td>\n",
       "      <td>2016-12-02T10:00:00Z</td>\n",
       "      <td>2023-11-18T17:48:05Z</td>\n",
       "    </tr>\n",
       "    <tr>\n",
       "      <th>1</th>\n",
       "      <td>2</td>\n",
       "      <td>FR</td>\n",
       "      <td>France</td>\n",
       "      <td>2016-11-17T23:00:00Z</td>\n",
       "      <td>2023-11-18T17:47:57Z</td>\n",
       "    </tr>\n",
       "    <tr>\n",
       "      <th>2</th>\n",
       "      <td>4</td>\n",
       "      <td></td>\n",
       "      <td>N. Cyprus</td>\n",
       "      <td>2021-03-19T11:34:24Z</td>\n",
       "      <td>2022-10-21T08:00:52Z</td>\n",
       "    </tr>\n",
       "    <tr>\n",
       "      <th>3</th>\n",
       "      <td>5</td>\n",
       "      <td>AQ</td>\n",
       "      <td>Antarctica</td>\n",
       "      <td>2018-11-30T11:00:00Z</td>\n",
       "      <td>2021-02-04T14:00:00Z</td>\n",
       "    </tr>\n",
       "    <tr>\n",
       "      <th>4</th>\n",
       "      <td>7</td>\n",
       "      <td>FJ</td>\n",
       "      <td>Fiji</td>\n",
       "      <td>2021-01-08T23:15:31Z</td>\n",
       "      <td>2023-08-28T21:33:44Z</td>\n",
       "    </tr>\n",
       "    <tr>\n",
       "      <th>...</th>\n",
       "      <td>...</td>\n",
       "      <td>...</td>\n",
       "      <td>...</td>\n",
       "      <td>...</td>\n",
       "      <td>...</td>\n",
       "    </tr>\n",
       "    <tr>\n",
       "      <th>138</th>\n",
       "      <td>173</td>\n",
       "      <td>ET</td>\n",
       "      <td>Ethiopia</td>\n",
       "      <td>2016-08-18T22:00:00Z</td>\n",
       "      <td>2023-11-18T17:47:51Z</td>\n",
       "    </tr>\n",
       "    <tr>\n",
       "      <th>139</th>\n",
       "      <td>174</td>\n",
       "      <td>RS</td>\n",
       "      <td>Serbia</td>\n",
       "      <td>2017-09-22T09:00:00Z</td>\n",
       "      <td>2023-11-18T17:47:45Z</td>\n",
       "    </tr>\n",
       "    <tr>\n",
       "      <th>140</th>\n",
       "      <td>175</td>\n",
       "      <td>ME</td>\n",
       "      <td>Montenegro</td>\n",
       "      <td>2022-03-24T14:00:00Z</td>\n",
       "      <td>2023-11-18T08:00:00Z</td>\n",
       "    </tr>\n",
       "    <tr>\n",
       "      <th>141</th>\n",
       "      <td>176</td>\n",
       "      <td>XK</td>\n",
       "      <td>Kosovo</td>\n",
       "      <td>2016-04-08T20:00:00Z</td>\n",
       "      <td>2023-11-18T17:48:03Z</td>\n",
       "    </tr>\n",
       "    <tr>\n",
       "      <th>142</th>\n",
       "      <td>177</td>\n",
       "      <td>SS</td>\n",
       "      <td>S. Sudan</td>\n",
       "      <td>2021-09-13T17:17:43Z</td>\n",
       "      <td>2022-07-11T04:42:44Z</td>\n",
       "    </tr>\n",
       "  </tbody>\n",
       "</table>\n",
       "<p>143 rows × 5 columns</p>\n",
       "</div>"
      ],
      "text/plain": [
       "      id code        name         datetimeFirst          datetimeLast\n",
       "0      1   NO      Norway  2016-12-02T10:00:00Z  2023-11-18T17:48:05Z\n",
       "1      2   FR      France  2016-11-17T23:00:00Z  2023-11-18T17:47:57Z\n",
       "2      4        N. Cyprus  2021-03-19T11:34:24Z  2022-10-21T08:00:52Z\n",
       "3      5   AQ  Antarctica  2018-11-30T11:00:00Z  2021-02-04T14:00:00Z\n",
       "4      7   FJ        Fiji  2021-01-08T23:15:31Z  2023-08-28T21:33:44Z\n",
       "..   ...  ...         ...                   ...                   ...\n",
       "138  173   ET    Ethiopia  2016-08-18T22:00:00Z  2023-11-18T17:47:51Z\n",
       "139  174   RS      Serbia  2017-09-22T09:00:00Z  2023-11-18T17:47:45Z\n",
       "140  175   ME  Montenegro  2022-03-24T14:00:00Z  2023-11-18T08:00:00Z\n",
       "141  176   XK      Kosovo  2016-04-08T20:00:00Z  2023-11-18T17:48:03Z\n",
       "142  177   SS    S. Sudan  2021-09-13T17:17:43Z  2022-07-11T04:42:44Z\n",
       "\n",
       "[143 rows x 5 columns]"
      ]
     },
     "metadata": {},
     "output_type": "display_data"
    }
   ],
   "source": [
    "# Calls the function to extract the desired data from the JSON data\n",
    "country_df = extract_data(country_response, country_keys)\n",
    "display(country_df)"
   ]
  },
  {
   "cell_type": "markdown",
   "id": "2b767210-03a1-4df2-8de9-04e8d32a1658",
   "metadata": {
    "jp-MarkdownHeadingCollapsed": true,
    "tags": []
   },
   "source": [
    "### Transformation 1: Parsing the Timestamp Columns"
   ]
  },
  {
   "cell_type": "markdown",
   "id": "16904e1c-15b5-497d-9610-b77020037c9f",
   "metadata": {},
   "source": [
    "Because the other two datasets contain time-relevant data at the year level, it might be useful to see when data collected started and stopped for the API data."
   ]
  },
  {
   "cell_type": "code",
   "execution_count": 74,
   "id": "97e69600-56cd-4df0-91da-acd4d5db30d1",
   "metadata": {},
   "outputs": [],
   "source": [
    "# Function to parse the timestamp\n",
    "def parse_timestamps(timestamp):\n",
    "    # Tries to parse the data using the first format\n",
    "    try:\n",
    "        parsed_time = datetime.strptime(timestamp,\"%Y-%m-%dT%H:%M:%S%z\")\n",
    "   \n",
    "    # Gives a ValueError if the data is not in the correct format\n",
    "    except ValueError:\n",
    "        # Tries to parse the data using the second format\n",
    "        try:\n",
    "            parsed_time = datetime.strptime(timestamp,\"%Y-%m-%dT%H:%M:%SZ\")\n",
    "        except ValueError:\n",
    "            return None\n",
    "    # Returns only the year associated with the parsed data    \n",
    "    return parsed_time.year"
   ]
  },
  {
   "cell_type": "code",
   "execution_count": 75,
   "id": "0e0c46de-1496-485f-95ba-04877c4c5e3e",
   "metadata": {},
   "outputs": [
    {
     "data": {
      "text/html": [
       "<div>\n",
       "<style scoped>\n",
       "    .dataframe tbody tr th:only-of-type {\n",
       "        vertical-align: middle;\n",
       "    }\n",
       "\n",
       "    .dataframe tbody tr th {\n",
       "        vertical-align: top;\n",
       "    }\n",
       "\n",
       "    .dataframe thead th {\n",
       "        text-align: right;\n",
       "    }\n",
       "</style>\n",
       "<table border=\"1\" class=\"dataframe\">\n",
       "  <thead>\n",
       "    <tr style=\"text-align: right;\">\n",
       "      <th></th>\n",
       "      <th>id</th>\n",
       "      <th>code</th>\n",
       "      <th>name</th>\n",
       "      <th>datetimeFirst</th>\n",
       "      <th>datetimeLast</th>\n",
       "      <th>Start_Year</th>\n",
       "      <th>End_Year</th>\n",
       "    </tr>\n",
       "  </thead>\n",
       "  <tbody>\n",
       "    <tr>\n",
       "      <th>0</th>\n",
       "      <td>1</td>\n",
       "      <td>NO</td>\n",
       "      <td>Norway</td>\n",
       "      <td>2016-12-02T10:00:00Z</td>\n",
       "      <td>2023-11-18T17:48:05Z</td>\n",
       "      <td>2016</td>\n",
       "      <td>2023.0</td>\n",
       "    </tr>\n",
       "    <tr>\n",
       "      <th>1</th>\n",
       "      <td>2</td>\n",
       "      <td>FR</td>\n",
       "      <td>France</td>\n",
       "      <td>2016-11-17T23:00:00Z</td>\n",
       "      <td>2023-11-18T17:47:57Z</td>\n",
       "      <td>2016</td>\n",
       "      <td>2023.0</td>\n",
       "    </tr>\n",
       "    <tr>\n",
       "      <th>2</th>\n",
       "      <td>4</td>\n",
       "      <td></td>\n",
       "      <td>N. Cyprus</td>\n",
       "      <td>2021-03-19T11:34:24Z</td>\n",
       "      <td>2022-10-21T08:00:52Z</td>\n",
       "      <td>2021</td>\n",
       "      <td>2022.0</td>\n",
       "    </tr>\n",
       "    <tr>\n",
       "      <th>3</th>\n",
       "      <td>5</td>\n",
       "      <td>AQ</td>\n",
       "      <td>Antarctica</td>\n",
       "      <td>2018-11-30T11:00:00Z</td>\n",
       "      <td>2021-02-04T14:00:00Z</td>\n",
       "      <td>2018</td>\n",
       "      <td>2021.0</td>\n",
       "    </tr>\n",
       "    <tr>\n",
       "      <th>4</th>\n",
       "      <td>7</td>\n",
       "      <td>FJ</td>\n",
       "      <td>Fiji</td>\n",
       "      <td>2021-01-08T23:15:31Z</td>\n",
       "      <td>2023-08-28T21:33:44Z</td>\n",
       "      <td>2021</td>\n",
       "      <td>2023.0</td>\n",
       "    </tr>\n",
       "    <tr>\n",
       "      <th>...</th>\n",
       "      <td>...</td>\n",
       "      <td>...</td>\n",
       "      <td>...</td>\n",
       "      <td>...</td>\n",
       "      <td>...</td>\n",
       "      <td>...</td>\n",
       "      <td>...</td>\n",
       "    </tr>\n",
       "    <tr>\n",
       "      <th>138</th>\n",
       "      <td>173</td>\n",
       "      <td>ET</td>\n",
       "      <td>Ethiopia</td>\n",
       "      <td>2016-08-18T22:00:00Z</td>\n",
       "      <td>2023-11-18T17:47:51Z</td>\n",
       "      <td>2016</td>\n",
       "      <td>2023.0</td>\n",
       "    </tr>\n",
       "    <tr>\n",
       "      <th>139</th>\n",
       "      <td>174</td>\n",
       "      <td>RS</td>\n",
       "      <td>Serbia</td>\n",
       "      <td>2017-09-22T09:00:00Z</td>\n",
       "      <td>2023-11-18T17:47:45Z</td>\n",
       "      <td>2017</td>\n",
       "      <td>2023.0</td>\n",
       "    </tr>\n",
       "    <tr>\n",
       "      <th>140</th>\n",
       "      <td>175</td>\n",
       "      <td>ME</td>\n",
       "      <td>Montenegro</td>\n",
       "      <td>2022-03-24T14:00:00Z</td>\n",
       "      <td>2023-11-18T08:00:00Z</td>\n",
       "      <td>2022</td>\n",
       "      <td>2023.0</td>\n",
       "    </tr>\n",
       "    <tr>\n",
       "      <th>141</th>\n",
       "      <td>176</td>\n",
       "      <td>XK</td>\n",
       "      <td>Kosovo</td>\n",
       "      <td>2016-04-08T20:00:00Z</td>\n",
       "      <td>2023-11-18T17:48:03Z</td>\n",
       "      <td>2016</td>\n",
       "      <td>2023.0</td>\n",
       "    </tr>\n",
       "    <tr>\n",
       "      <th>142</th>\n",
       "      <td>177</td>\n",
       "      <td>SS</td>\n",
       "      <td>S. Sudan</td>\n",
       "      <td>2021-09-13T17:17:43Z</td>\n",
       "      <td>2022-07-11T04:42:44Z</td>\n",
       "      <td>2021</td>\n",
       "      <td>2022.0</td>\n",
       "    </tr>\n",
       "  </tbody>\n",
       "</table>\n",
       "<p>143 rows × 7 columns</p>\n",
       "</div>"
      ],
      "text/plain": [
       "      id code        name         datetimeFirst          datetimeLast  \\\n",
       "0      1   NO      Norway  2016-12-02T10:00:00Z  2023-11-18T17:48:05Z   \n",
       "1      2   FR      France  2016-11-17T23:00:00Z  2023-11-18T17:47:57Z   \n",
       "2      4        N. Cyprus  2021-03-19T11:34:24Z  2022-10-21T08:00:52Z   \n",
       "3      5   AQ  Antarctica  2018-11-30T11:00:00Z  2021-02-04T14:00:00Z   \n",
       "4      7   FJ        Fiji  2021-01-08T23:15:31Z  2023-08-28T21:33:44Z   \n",
       "..   ...  ...         ...                   ...                   ...   \n",
       "138  173   ET    Ethiopia  2016-08-18T22:00:00Z  2023-11-18T17:47:51Z   \n",
       "139  174   RS      Serbia  2017-09-22T09:00:00Z  2023-11-18T17:47:45Z   \n",
       "140  175   ME  Montenegro  2022-03-24T14:00:00Z  2023-11-18T08:00:00Z   \n",
       "141  176   XK      Kosovo  2016-04-08T20:00:00Z  2023-11-18T17:48:03Z   \n",
       "142  177   SS    S. Sudan  2021-09-13T17:17:43Z  2022-07-11T04:42:44Z   \n",
       "\n",
       "     Start_Year  End_Year  \n",
       "0          2016    2023.0  \n",
       "1          2016    2023.0  \n",
       "2          2021    2022.0  \n",
       "3          2018    2021.0  \n",
       "4          2021    2023.0  \n",
       "..          ...       ...  \n",
       "138        2016    2023.0  \n",
       "139        2017    2023.0  \n",
       "140        2022    2023.0  \n",
       "141        2016    2023.0  \n",
       "142        2021    2022.0  \n",
       "\n",
       "[143 rows x 7 columns]"
      ]
     },
     "metadata": {},
     "output_type": "display_data"
    }
   ],
   "source": [
    "# Calls the function for both of the timestamp columns\n",
    "country_df[\"Start_Year\"] = country_df[\"datetimeFirst\"].apply(parse_timestamps)\n",
    "country_df[\"End_Year\"] = country_df[\"datetimeLast\"].apply(parse_timestamps)\n",
    "display(country_df)"
   ]
  },
  {
   "cell_type": "markdown",
   "id": "67527e17-92e4-4710-bd7a-2f39f1eecf80",
   "metadata": {
    "jp-MarkdownHeadingCollapsed": true,
    "tags": []
   },
   "source": [
    "### Transformation 2: Subsetting the Data"
   ]
  },
  {
   "cell_type": "markdown",
   "id": "82ead654-3c95-43ad-811d-9adbf16b99d7",
   "metadata": {},
   "source": [
    "The original format of the datetimeFirst and datetimeLast columns are no longer needed and make the dataset look cluttered. They are removed below."
   ]
  },
  {
   "cell_type": "code",
   "execution_count": 76,
   "id": "fe56d215-69df-4871-bdee-58f1e97391a0",
   "metadata": {},
   "outputs": [],
   "source": [
    "# Subsets the dataframe\n",
    "country_df = country_df[[\"code\", \"name\", \"Start_Year\", \"End_Year\"]]"
   ]
  },
  {
   "cell_type": "markdown",
   "id": "bbedab07-a98f-4a8a-ac71-c4a00f47959d",
   "metadata": {
    "jp-MarkdownHeadingCollapsed": true,
    "tags": []
   },
   "source": [
    "### Transformation 3: Headers"
   ]
  },
  {
   "cell_type": "markdown",
   "id": "af099a6f-a02f-42a9-9257-83bf90cc5ab1",
   "metadata": {},
   "source": [
    "To maintain consistency and improve readability, the headers for each column should be capitalized and the 'name' column renamed to 'Country'. Because there are not that many columns in this data set, it made sense to use the rename function."
   ]
  },
  {
   "cell_type": "code",
   "execution_count": 77,
   "id": "17864f4e-a847-4a93-aa11-31888e4fd766",
   "metadata": {},
   "outputs": [
    {
     "data": {
      "text/html": [
       "<div>\n",
       "<style scoped>\n",
       "    .dataframe tbody tr th:only-of-type {\n",
       "        vertical-align: middle;\n",
       "    }\n",
       "\n",
       "    .dataframe tbody tr th {\n",
       "        vertical-align: top;\n",
       "    }\n",
       "\n",
       "    .dataframe thead th {\n",
       "        text-align: right;\n",
       "    }\n",
       "</style>\n",
       "<table border=\"1\" class=\"dataframe\">\n",
       "  <thead>\n",
       "    <tr style=\"text-align: right;\">\n",
       "      <th></th>\n",
       "      <th>Code</th>\n",
       "      <th>Country</th>\n",
       "      <th>Start_Year</th>\n",
       "      <th>End_Year</th>\n",
       "    </tr>\n",
       "  </thead>\n",
       "  <tbody>\n",
       "    <tr>\n",
       "      <th>0</th>\n",
       "      <td>NO</td>\n",
       "      <td>Norway</td>\n",
       "      <td>2016</td>\n",
       "      <td>2023.0</td>\n",
       "    </tr>\n",
       "    <tr>\n",
       "      <th>1</th>\n",
       "      <td>FR</td>\n",
       "      <td>France</td>\n",
       "      <td>2016</td>\n",
       "      <td>2023.0</td>\n",
       "    </tr>\n",
       "    <tr>\n",
       "      <th>2</th>\n",
       "      <td></td>\n",
       "      <td>N. Cyprus</td>\n",
       "      <td>2021</td>\n",
       "      <td>2022.0</td>\n",
       "    </tr>\n",
       "    <tr>\n",
       "      <th>3</th>\n",
       "      <td>AQ</td>\n",
       "      <td>Antarctica</td>\n",
       "      <td>2018</td>\n",
       "      <td>2021.0</td>\n",
       "    </tr>\n",
       "    <tr>\n",
       "      <th>4</th>\n",
       "      <td>FJ</td>\n",
       "      <td>Fiji</td>\n",
       "      <td>2021</td>\n",
       "      <td>2023.0</td>\n",
       "    </tr>\n",
       "    <tr>\n",
       "      <th>...</th>\n",
       "      <td>...</td>\n",
       "      <td>...</td>\n",
       "      <td>...</td>\n",
       "      <td>...</td>\n",
       "    </tr>\n",
       "    <tr>\n",
       "      <th>138</th>\n",
       "      <td>ET</td>\n",
       "      <td>Ethiopia</td>\n",
       "      <td>2016</td>\n",
       "      <td>2023.0</td>\n",
       "    </tr>\n",
       "    <tr>\n",
       "      <th>139</th>\n",
       "      <td>RS</td>\n",
       "      <td>Serbia</td>\n",
       "      <td>2017</td>\n",
       "      <td>2023.0</td>\n",
       "    </tr>\n",
       "    <tr>\n",
       "      <th>140</th>\n",
       "      <td>ME</td>\n",
       "      <td>Montenegro</td>\n",
       "      <td>2022</td>\n",
       "      <td>2023.0</td>\n",
       "    </tr>\n",
       "    <tr>\n",
       "      <th>141</th>\n",
       "      <td>XK</td>\n",
       "      <td>Kosovo</td>\n",
       "      <td>2016</td>\n",
       "      <td>2023.0</td>\n",
       "    </tr>\n",
       "    <tr>\n",
       "      <th>142</th>\n",
       "      <td>SS</td>\n",
       "      <td>S. Sudan</td>\n",
       "      <td>2021</td>\n",
       "      <td>2022.0</td>\n",
       "    </tr>\n",
       "  </tbody>\n",
       "</table>\n",
       "<p>143 rows × 4 columns</p>\n",
       "</div>"
      ],
      "text/plain": [
       "    Code     Country  Start_Year  End_Year\n",
       "0     NO      Norway        2016    2023.0\n",
       "1     FR      France        2016    2023.0\n",
       "2          N. Cyprus        2021    2022.0\n",
       "3     AQ  Antarctica        2018    2021.0\n",
       "4     FJ        Fiji        2021    2023.0\n",
       "..   ...         ...         ...       ...\n",
       "138   ET    Ethiopia        2016    2023.0\n",
       "139   RS      Serbia        2017    2023.0\n",
       "140   ME  Montenegro        2022    2023.0\n",
       "141   XK      Kosovo        2016    2023.0\n",
       "142   SS    S. Sudan        2021    2022.0\n",
       "\n",
       "[143 rows x 4 columns]"
      ]
     },
     "metadata": {},
     "output_type": "display_data"
    }
   ],
   "source": [
    "country_df = country_df.rename(columns = {\"name\": \"Country\", \"code\": \"Code\"})\n",
    "display(country_df)"
   ]
  },
  {
   "cell_type": "markdown",
   "id": "02b3d9c5-5a3c-48f5-966a-7407ca21aa29",
   "metadata": {
    "tags": []
   },
   "source": [
    "### Second API Call"
   ]
  },
  {
   "cell_type": "markdown",
   "id": "b5a3d386-58ba-4c0b-ad00-5ea3957a6724",
   "metadata": {},
   "source": [
    "The dataset obtained in the first API call does not contain much detailed information about each country. It does contain the country codes needed to interpret the country information from a second API call that retrieves discrete measurements."
   ]
  },
  {
   "cell_type": "markdown",
   "id": "3b4e2e47-5d0e-47a7-b691-6f772849f76b",
   "metadata": {},
   "source": [
    "Function to make the second API call. It loops over multiple pages."
   ]
  },
  {
   "cell_type": "code",
   "execution_count": 78,
   "id": "b43b7073-b347-44a8-8815-fa17e894e6fb",
   "metadata": {},
   "outputs": [],
   "source": [
    "def fetch_all_pages(url, keys_to_extract):\n",
    "    # Creates an empty list to store the information from each page\n",
    "    all_pages = []\n",
    "    # Starts at page 1\n",
    "    page = 1\n",
    "    \n",
    "    try:\n",
    "        # While there are subsequent pages to search\n",
    "        while True:\n",
    "            # Makes a call to the API while adding in the current page number\n",
    "            response = requests.get(url + f\"&page={page}\", headers = headers)\n",
    "        \n",
    "            # Raises an exception if there is an error with the page\n",
    "            if response.status_code != 200:\n",
    "                raise Exception(f\"API request failed with response code: {response.status_code}\")\n",
    "        \n",
    "            else:\n",
    "                print(f\"{page} connection successful!\")\n",
    "            \n",
    "            # Stores the data \n",
    "            data = response.json()\n",
    "            \n",
    "            # Checks if the desired key is in the data\n",
    "            if \"results\" in data:\n",
    "                # Stores the data from the desired key in the variable\n",
    "                page_results = data[\"results\"]\n",
    "            \n",
    "                # Iterates over the keys list to store desired data\n",
    "                extracted_data = [{key: item[key] for key in keys_to_extract} for item in page_results]\n",
    "                # Extends the data to the already existing data stored in \n",
    "                # the list\n",
    "                all_pages.extend(extracted_data)\n",
    "                \n",
    "                # Adds a page number to the page variable each iteration\n",
    "                page += 1\n",
    "            \n",
    "            else:\n",
    "                break\n",
    "             \n",
    "    except Exception as e:\n",
    "        print(f\"An error occurred: {e}\")\n",
    "            \n",
    "    return all_pages"
   ]
  },
  {
   "cell_type": "code",
   "execution_count": 79,
   "id": "a80c50a0-78fa-433d-8476-ec63c3bd4392",
   "metadata": {},
   "outputs": [],
   "source": [
    "location_base_url = \"https://api.openaq.org/v2/measurements?date_from=2000-01-01T00%3A00%3A00Z&date_to=2023-10-03T18%3A14%3A00Z&limit=1000&sort=desc&radius=1\""
   ]
  },
  {
   "cell_type": "code",
   "execution_count": 80,
   "id": "de43f8f5-8484-43a8-a585-daa7d8d450d1",
   "metadata": {},
   "outputs": [],
   "source": [
    "locationId_keys = [\"locationId\", \"parameter\", \"value\", \"date\", \"country\"]"
   ]
  },
  {
   "cell_type": "code",
   "execution_count": 81,
   "id": "7940f01b-2525-48c5-a829-f145e6714adb",
   "metadata": {},
   "outputs": [
    {
     "name": "stdout",
     "output_type": "stream",
     "text": [
      "1 connection successful!\n",
      "2 connection successful!\n",
      "3 connection successful!\n",
      "4 connection successful!\n",
      "5 connection successful!\n",
      "6 connection successful!\n",
      "7 connection successful!\n",
      "8 connection successful!\n",
      "9 connection successful!\n",
      "10 connection successful!\n",
      "11 connection successful!\n",
      "12 connection successful!\n",
      "13 connection successful!\n",
      "14 connection successful!\n",
      "15 connection successful!\n",
      "16 connection successful!\n",
      "17 connection successful!\n",
      "18 connection successful!\n",
      "19 connection successful!\n",
      "20 connection successful!\n",
      "21 connection successful!\n",
      "22 connection successful!\n",
      "23 connection successful!\n",
      "An error occurred: API request failed with response code: 408\n"
     ]
    }
   ],
   "source": [
    "# Calls the function to make multiple API calls to individual pages\n",
    "locationID_results = fetch_all_pages(location_base_url, locationId_keys)"
   ]
  },
  {
   "cell_type": "code",
   "execution_count": 82,
   "id": "7d1c388e-46bf-4978-8bd9-1ad15f933b7b",
   "metadata": {},
   "outputs": [
    {
     "data": {
      "text/html": [
       "<div>\n",
       "<style scoped>\n",
       "    .dataframe tbody tr th:only-of-type {\n",
       "        vertical-align: middle;\n",
       "    }\n",
       "\n",
       "    .dataframe tbody tr th {\n",
       "        vertical-align: top;\n",
       "    }\n",
       "\n",
       "    .dataframe thead th {\n",
       "        text-align: right;\n",
       "    }\n",
       "</style>\n",
       "<table border=\"1\" class=\"dataframe\">\n",
       "  <thead>\n",
       "    <tr style=\"text-align: right;\">\n",
       "      <th></th>\n",
       "      <th>locationId</th>\n",
       "      <th>parameter</th>\n",
       "      <th>value</th>\n",
       "      <th>date</th>\n",
       "      <th>country</th>\n",
       "    </tr>\n",
       "  </thead>\n",
       "  <tbody>\n",
       "    <tr>\n",
       "      <th>0</th>\n",
       "      <td>1638531</td>\n",
       "      <td>pm25</td>\n",
       "      <td>11.100000</td>\n",
       "      <td>{'utc': '2023-10-03T18:00:00+00:00', 'local': ...</td>\n",
       "      <td>US</td>\n",
       "    </tr>\n",
       "    <tr>\n",
       "      <th>1</th>\n",
       "      <td>1477633</td>\n",
       "      <td>pm25</td>\n",
       "      <td>1.400000</td>\n",
       "      <td>{'utc': '2023-10-03T18:00:00+00:00', 'local': ...</td>\n",
       "      <td>US</td>\n",
       "    </tr>\n",
       "    <tr>\n",
       "      <th>2</th>\n",
       "      <td>1461244</td>\n",
       "      <td>temperature</td>\n",
       "      <td>24.149587</td>\n",
       "      <td>{'utc': '2023-10-03T18:00:00+00:00', 'local': ...</td>\n",
       "      <td>US</td>\n",
       "    </tr>\n",
       "    <tr>\n",
       "      <th>3</th>\n",
       "      <td>1377907</td>\n",
       "      <td>pm10</td>\n",
       "      <td>24.000000</td>\n",
       "      <td>{'utc': '2023-10-03T18:00:00+00:00', 'local': ...</td>\n",
       "      <td>US</td>\n",
       "    </tr>\n",
       "    <tr>\n",
       "      <th>4</th>\n",
       "      <td>1371119</td>\n",
       "      <td>temperature</td>\n",
       "      <td>24.332639</td>\n",
       "      <td>{'utc': '2023-10-03T18:00:00+00:00', 'local': ...</td>\n",
       "      <td>ZA</td>\n",
       "    </tr>\n",
       "    <tr>\n",
       "      <th>...</th>\n",
       "      <td>...</td>\n",
       "      <td>...</td>\n",
       "      <td>...</td>\n",
       "      <td>...</td>\n",
       "      <td>...</td>\n",
       "    </tr>\n",
       "    <tr>\n",
       "      <th>22995</th>\n",
       "      <td>1333427</td>\n",
       "      <td>um003</td>\n",
       "      <td>1.265385</td>\n",
       "      <td>{'utc': '2023-10-03T18:00:00+00:00', 'local': ...</td>\n",
       "      <td>NO</td>\n",
       "    </tr>\n",
       "    <tr>\n",
       "      <th>22996</th>\n",
       "      <td>1333427</td>\n",
       "      <td>um100</td>\n",
       "      <td>0.000000</td>\n",
       "      <td>{'utc': '2023-10-03T18:00:00+00:00', 'local': ...</td>\n",
       "      <td>NO</td>\n",
       "    </tr>\n",
       "    <tr>\n",
       "      <th>22997</th>\n",
       "      <td>1333427</td>\n",
       "      <td>pm10</td>\n",
       "      <td>0.361538</td>\n",
       "      <td>{'utc': '2023-10-03T18:00:00+00:00', 'local': ...</td>\n",
       "      <td>NO</td>\n",
       "    </tr>\n",
       "    <tr>\n",
       "      <th>22998</th>\n",
       "      <td>1333427</td>\n",
       "      <td>pressure</td>\n",
       "      <td>1003.461538</td>\n",
       "      <td>{'utc': '2023-10-03T18:00:00+00:00', 'local': ...</td>\n",
       "      <td>NO</td>\n",
       "    </tr>\n",
       "    <tr>\n",
       "      <th>22999</th>\n",
       "      <td>1333427</td>\n",
       "      <td>um050</td>\n",
       "      <td>0.000000</td>\n",
       "      <td>{'utc': '2023-10-03T18:00:00+00:00', 'local': ...</td>\n",
       "      <td>NO</td>\n",
       "    </tr>\n",
       "  </tbody>\n",
       "</table>\n",
       "<p>23000 rows × 5 columns</p>\n",
       "</div>"
      ],
      "text/plain": [
       "       locationId    parameter        value  \\\n",
       "0         1638531         pm25    11.100000   \n",
       "1         1477633         pm25     1.400000   \n",
       "2         1461244  temperature    24.149587   \n",
       "3         1377907         pm10    24.000000   \n",
       "4         1371119  temperature    24.332639   \n",
       "...           ...          ...          ...   \n",
       "22995     1333427        um003     1.265385   \n",
       "22996     1333427        um100     0.000000   \n",
       "22997     1333427         pm10     0.361538   \n",
       "22998     1333427     pressure  1003.461538   \n",
       "22999     1333427        um050     0.000000   \n",
       "\n",
       "                                                    date country  \n",
       "0      {'utc': '2023-10-03T18:00:00+00:00', 'local': ...      US  \n",
       "1      {'utc': '2023-10-03T18:00:00+00:00', 'local': ...      US  \n",
       "2      {'utc': '2023-10-03T18:00:00+00:00', 'local': ...      US  \n",
       "3      {'utc': '2023-10-03T18:00:00+00:00', 'local': ...      US  \n",
       "4      {'utc': '2023-10-03T18:00:00+00:00', 'local': ...      ZA  \n",
       "...                                                  ...     ...  \n",
       "22995  {'utc': '2023-10-03T18:00:00+00:00', 'local': ...      NO  \n",
       "22996  {'utc': '2023-10-03T18:00:00+00:00', 'local': ...      NO  \n",
       "22997  {'utc': '2023-10-03T18:00:00+00:00', 'local': ...      NO  \n",
       "22998  {'utc': '2023-10-03T18:00:00+00:00', 'local': ...      NO  \n",
       "22999  {'utc': '2023-10-03T18:00:00+00:00', 'local': ...      NO  \n",
       "\n",
       "[23000 rows x 5 columns]"
      ]
     },
     "metadata": {},
     "output_type": "display_data"
    }
   ],
   "source": [
    "# Creates a dataframe from the API calls\n",
    "location_df = pd.DataFrame(locationID_results)\n",
    "display(location_df)"
   ]
  },
  {
   "cell_type": "code",
   "execution_count": 83,
   "id": "4c6bd8ef-1927-4fd3-ae84-f1d11c27764c",
   "metadata": {},
   "outputs": [
    {
     "name": "stdout",
     "output_type": "stream",
     "text": [
      "72\n"
     ]
    }
   ],
   "source": [
    "# Looks at how many unique countries are included in the data\n",
    "print(len(location_df[\"country\"].unique()))"
   ]
  },
  {
   "cell_type": "markdown",
   "id": "2b1aeeae-e4d2-4e2b-91d2-92861f7bf34c",
   "metadata": {
    "tags": []
   },
   "source": [
    "### Transformation 4: Parsing Information in the Date Column"
   ]
  },
  {
   "cell_type": "markdown",
   "id": "3d524372-1e0e-4fe1-ad7f-8dea278f509c",
   "metadata": {},
   "source": [
    "The data for the date column pulled in as a dictionary with two keys because of the way the call function was written. Only the utc date will be useful because local time does not need to be accounted for."
   ]
  },
  {
   "cell_type": "code",
   "execution_count": 84,
   "id": "b775cd24-6b7d-463b-84a0-bb141d30d19f",
   "metadata": {},
   "outputs": [],
   "source": [
    "location_df[\"Year_Recorded\"] = location_df[\"date\"].apply(lambda x: x.get(\"utc\"))"
   ]
  },
  {
   "cell_type": "markdown",
   "id": "3c9b0f70-feba-49ee-a5e6-bc93d42da45c",
   "metadata": {
    "tags": []
   },
   "source": [
    "### Transformation 5: Subsetting the Second Dataframe"
   ]
  },
  {
   "cell_type": "markdown",
   "id": "d287cab6-ae2c-4d9a-a54e-05918906237b",
   "metadata": {},
   "source": [
    "Originally I thought the location_id information would be useful but the real column of interest is the country column. Below is the dataframe without the location_id and the date column whose information has been replaced with the Year_Recorded column."
   ]
  },
  {
   "cell_type": "code",
   "execution_count": 85,
   "id": "82d17b49-5a0d-4a88-9349-665c02a3a525",
   "metadata": {},
   "outputs": [],
   "source": [
    "# Subsets the dataframe to include only the needed columns\n",
    "location_df = location_df[[\"parameter\", \"value\", \"country\", \"Year_Recorded\"]]"
   ]
  },
  {
   "cell_type": "markdown",
   "id": "b82e6a1a-fd94-445e-affa-5f4a64bde69a",
   "metadata": {
    "tags": []
   },
   "source": [
    "### Transformation 6: Parsing the Year_Recorded Column"
   ]
  },
  {
   "cell_type": "markdown",
   "id": "d62273c3-740b-4849-8191-8b1e3e212605",
   "metadata": {},
   "source": [
    "To keep measurements consistent, only the year of the measurement is important."
   ]
  },
  {
   "cell_type": "code",
   "execution_count": 86,
   "id": "7234b297-d691-4695-9b35-4ddcef0a08a9",
   "metadata": {},
   "outputs": [
    {
     "data": {
      "text/html": [
       "<div>\n",
       "<style scoped>\n",
       "    .dataframe tbody tr th:only-of-type {\n",
       "        vertical-align: middle;\n",
       "    }\n",
       "\n",
       "    .dataframe tbody tr th {\n",
       "        vertical-align: top;\n",
       "    }\n",
       "\n",
       "    .dataframe thead th {\n",
       "        text-align: right;\n",
       "    }\n",
       "</style>\n",
       "<table border=\"1\" class=\"dataframe\">\n",
       "  <thead>\n",
       "    <tr style=\"text-align: right;\">\n",
       "      <th></th>\n",
       "      <th>parameter</th>\n",
       "      <th>value</th>\n",
       "      <th>country</th>\n",
       "      <th>Year_Recorded</th>\n",
       "    </tr>\n",
       "  </thead>\n",
       "  <tbody>\n",
       "    <tr>\n",
       "      <th>0</th>\n",
       "      <td>pm25</td>\n",
       "      <td>11.100000</td>\n",
       "      <td>US</td>\n",
       "      <td>2023</td>\n",
       "    </tr>\n",
       "    <tr>\n",
       "      <th>1</th>\n",
       "      <td>pm25</td>\n",
       "      <td>1.400000</td>\n",
       "      <td>US</td>\n",
       "      <td>2023</td>\n",
       "    </tr>\n",
       "    <tr>\n",
       "      <th>2</th>\n",
       "      <td>temperature</td>\n",
       "      <td>24.149587</td>\n",
       "      <td>US</td>\n",
       "      <td>2023</td>\n",
       "    </tr>\n",
       "    <tr>\n",
       "      <th>3</th>\n",
       "      <td>pm10</td>\n",
       "      <td>24.000000</td>\n",
       "      <td>US</td>\n",
       "      <td>2023</td>\n",
       "    </tr>\n",
       "    <tr>\n",
       "      <th>4</th>\n",
       "      <td>temperature</td>\n",
       "      <td>24.332639</td>\n",
       "      <td>ZA</td>\n",
       "      <td>2023</td>\n",
       "    </tr>\n",
       "    <tr>\n",
       "      <th>...</th>\n",
       "      <td>...</td>\n",
       "      <td>...</td>\n",
       "      <td>...</td>\n",
       "      <td>...</td>\n",
       "    </tr>\n",
       "    <tr>\n",
       "      <th>22995</th>\n",
       "      <td>um003</td>\n",
       "      <td>1.265385</td>\n",
       "      <td>NO</td>\n",
       "      <td>2023</td>\n",
       "    </tr>\n",
       "    <tr>\n",
       "      <th>22996</th>\n",
       "      <td>um100</td>\n",
       "      <td>0.000000</td>\n",
       "      <td>NO</td>\n",
       "      <td>2023</td>\n",
       "    </tr>\n",
       "    <tr>\n",
       "      <th>22997</th>\n",
       "      <td>pm10</td>\n",
       "      <td>0.361538</td>\n",
       "      <td>NO</td>\n",
       "      <td>2023</td>\n",
       "    </tr>\n",
       "    <tr>\n",
       "      <th>22998</th>\n",
       "      <td>pressure</td>\n",
       "      <td>1003.461538</td>\n",
       "      <td>NO</td>\n",
       "      <td>2023</td>\n",
       "    </tr>\n",
       "    <tr>\n",
       "      <th>22999</th>\n",
       "      <td>um050</td>\n",
       "      <td>0.000000</td>\n",
       "      <td>NO</td>\n",
       "      <td>2023</td>\n",
       "    </tr>\n",
       "  </tbody>\n",
       "</table>\n",
       "<p>23000 rows × 4 columns</p>\n",
       "</div>"
      ],
      "text/plain": [
       "         parameter        value country  Year_Recorded\n",
       "0             pm25    11.100000      US           2023\n",
       "1             pm25     1.400000      US           2023\n",
       "2      temperature    24.149587      US           2023\n",
       "3             pm10    24.000000      US           2023\n",
       "4      temperature    24.332639      ZA           2023\n",
       "...            ...          ...     ...            ...\n",
       "22995        um003     1.265385      NO           2023\n",
       "22996        um100     0.000000      NO           2023\n",
       "22997         pm10     0.361538      NO           2023\n",
       "22998     pressure  1003.461538      NO           2023\n",
       "22999        um050     0.000000      NO           2023\n",
       "\n",
       "[23000 rows x 4 columns]"
      ]
     },
     "metadata": {},
     "output_type": "display_data"
    }
   ],
   "source": [
    "location_df[\"Year_Recorded\"] = location_df[\"Year_Recorded\"].apply(parse_timestamps)\n",
    "display(location_df)"
   ]
  },
  {
   "cell_type": "code",
   "execution_count": 87,
   "id": "542e6c5f-9f05-407f-b6ba-730002949e4c",
   "metadata": {},
   "outputs": [
    {
     "name": "stdout",
     "output_type": "stream",
     "text": [
      "1\n"
     ]
    }
   ],
   "source": [
    "# Checks how many different years are accounted for\n",
    "print(len(location_df[\"Year_Recorded\"].unique()))"
   ]
  },
  {
   "cell_type": "markdown",
   "id": "38a95394-b68c-4f06-8e86-de6d211ad6f9",
   "metadata": {
    "tags": []
   },
   "source": [
    "### Transformation 7: Sorting the Dataframe Alphabetically"
   ]
  },
  {
   "cell_type": "markdown",
   "id": "487239bd-336b-4578-9e3c-484daef6cbbd",
   "metadata": {},
   "source": [
    "I plan to make further transformations that will group information from different locations by their respective countries. To more easily see this I need the information for each country to be grouped together."
   ]
  },
  {
   "cell_type": "code",
   "execution_count": 88,
   "id": "fde4d065-b9c6-4c06-a97e-a087987f79db",
   "metadata": {},
   "outputs": [
    {
     "data": {
      "text/html": [
       "<div>\n",
       "<style scoped>\n",
       "    .dataframe tbody tr th:only-of-type {\n",
       "        vertical-align: middle;\n",
       "    }\n",
       "\n",
       "    .dataframe tbody tr th {\n",
       "        vertical-align: top;\n",
       "    }\n",
       "\n",
       "    .dataframe thead th {\n",
       "        text-align: right;\n",
       "    }\n",
       "</style>\n",
       "<table border=\"1\" class=\"dataframe\">\n",
       "  <thead>\n",
       "    <tr style=\"text-align: right;\">\n",
       "      <th></th>\n",
       "      <th>parameter</th>\n",
       "      <th>value</th>\n",
       "      <th>country</th>\n",
       "      <th>Year_Recorded</th>\n",
       "    </tr>\n",
       "  </thead>\n",
       "  <tbody>\n",
       "    <tr>\n",
       "      <th>1022</th>\n",
       "      <td>pm10</td>\n",
       "      <td>84.000000</td>\n",
       "      <td>AE</td>\n",
       "      <td>2023</td>\n",
       "    </tr>\n",
       "    <tr>\n",
       "      <th>1020</th>\n",
       "      <td>pm10</td>\n",
       "      <td>131.000000</td>\n",
       "      <td>AE</td>\n",
       "      <td>2023</td>\n",
       "    </tr>\n",
       "    <tr>\n",
       "      <th>1021</th>\n",
       "      <td>so2</td>\n",
       "      <td>6.080000</td>\n",
       "      <td>AE</td>\n",
       "      <td>2023</td>\n",
       "    </tr>\n",
       "    <tr>\n",
       "      <th>22524</th>\n",
       "      <td>voc</td>\n",
       "      <td>145.512000</td>\n",
       "      <td>AR</td>\n",
       "      <td>2023</td>\n",
       "    </tr>\n",
       "    <tr>\n",
       "      <th>22523</th>\n",
       "      <td>temperature</td>\n",
       "      <td>70.960000</td>\n",
       "      <td>AR</td>\n",
       "      <td>2023</td>\n",
       "    </tr>\n",
       "    <tr>\n",
       "      <th>...</th>\n",
       "      <td>...</td>\n",
       "      <td>...</td>\n",
       "      <td>...</td>\n",
       "      <td>...</td>\n",
       "    </tr>\n",
       "    <tr>\n",
       "      <th>12052</th>\n",
       "      <td>pm25</td>\n",
       "      <td>2.259259</td>\n",
       "      <td>ZA</td>\n",
       "      <td>2023</td>\n",
       "    </tr>\n",
       "    <tr>\n",
       "      <th>7971</th>\n",
       "      <td>pm25</td>\n",
       "      <td>2.197222</td>\n",
       "      <td>ZA</td>\n",
       "      <td>2023</td>\n",
       "    </tr>\n",
       "    <tr>\n",
       "      <th>7970</th>\n",
       "      <td>temperature</td>\n",
       "      <td>19.090972</td>\n",
       "      <td>ZA</td>\n",
       "      <td>2023</td>\n",
       "    </tr>\n",
       "    <tr>\n",
       "      <th>9628</th>\n",
       "      <td>pm25</td>\n",
       "      <td>33.333333</td>\n",
       "      <td>ZA</td>\n",
       "      <td>2023</td>\n",
       "    </tr>\n",
       "    <tr>\n",
       "      <th>12058</th>\n",
       "      <td>temperature</td>\n",
       "      <td>21.856597</td>\n",
       "      <td>ZA</td>\n",
       "      <td>2023</td>\n",
       "    </tr>\n",
       "  </tbody>\n",
       "</table>\n",
       "<p>23000 rows × 4 columns</p>\n",
       "</div>"
      ],
      "text/plain": [
       "         parameter       value country  Year_Recorded\n",
       "1022          pm10   84.000000      AE           2023\n",
       "1020          pm10  131.000000      AE           2023\n",
       "1021           so2    6.080000      AE           2023\n",
       "22524          voc  145.512000      AR           2023\n",
       "22523  temperature   70.960000      AR           2023\n",
       "...            ...         ...     ...            ...\n",
       "12052         pm25    2.259259      ZA           2023\n",
       "7971          pm25    2.197222      ZA           2023\n",
       "7970   temperature   19.090972      ZA           2023\n",
       "9628          pm25   33.333333      ZA           2023\n",
       "12058  temperature   21.856597      ZA           2023\n",
       "\n",
       "[23000 rows x 4 columns]"
      ]
     },
     "metadata": {},
     "output_type": "display_data"
    }
   ],
   "source": [
    "sorted_location_df = location_df.sort_values(by = \"country\")\n",
    "display(sorted_location_df)"
   ]
  },
  {
   "cell_type": "markdown",
   "id": "fa5e0a00-9d6b-4ca6-bcd0-cbce3fc04ae5",
   "metadata": {
    "tags": []
   },
   "source": [
    "### Transformation 8: Unpivoting the Parameters Column"
   ]
  },
  {
   "cell_type": "markdown",
   "id": "89da3c70-9ce0-460b-bf66-163e0c855eec",
   "metadata": {},
   "source": [
    "I will be taking the average of all readings from each country to look at the data from a country level instead of individual measurements recorded across each country. To do this the various parameters need to each have their own columns with their associated values recorded below. "
   ]
  },
  {
   "cell_type": "code",
   "execution_count": 89,
   "id": "a177f03e-4891-4abc-8815-b49aa1643892",
   "metadata": {},
   "outputs": [
    {
     "data": {
      "text/html": [
       "<div>\n",
       "<style scoped>\n",
       "    .dataframe tbody tr th:only-of-type {\n",
       "        vertical-align: middle;\n",
       "    }\n",
       "\n",
       "    .dataframe tbody tr th {\n",
       "        vertical-align: top;\n",
       "    }\n",
       "\n",
       "    .dataframe thead th {\n",
       "        text-align: right;\n",
       "    }\n",
       "</style>\n",
       "<table border=\"1\" class=\"dataframe\">\n",
       "  <thead>\n",
       "    <tr style=\"text-align: right;\">\n",
       "      <th>parameter</th>\n",
       "      <th>Year_Recorded</th>\n",
       "      <th>country</th>\n",
       "      <th>bc</th>\n",
       "      <th>co</th>\n",
       "      <th>humidity</th>\n",
       "      <th>no</th>\n",
       "      <th>no2</th>\n",
       "      <th>nox</th>\n",
       "      <th>o3</th>\n",
       "      <th>pm1</th>\n",
       "      <th>...</th>\n",
       "      <th>relativehumidity</th>\n",
       "      <th>so2</th>\n",
       "      <th>temperature</th>\n",
       "      <th>um003</th>\n",
       "      <th>um005</th>\n",
       "      <th>um010</th>\n",
       "      <th>um025</th>\n",
       "      <th>um050</th>\n",
       "      <th>um100</th>\n",
       "      <th>voc</th>\n",
       "    </tr>\n",
       "  </thead>\n",
       "  <tbody>\n",
       "    <tr>\n",
       "      <th>0</th>\n",
       "      <td>2023</td>\n",
       "      <td>AE</td>\n",
       "      <td>N/A</td>\n",
       "      <td>N/A</td>\n",
       "      <td>N/A</td>\n",
       "      <td>N/A</td>\n",
       "      <td>N/A</td>\n",
       "      <td>N/A</td>\n",
       "      <td>N/A</td>\n",
       "      <td>N/A</td>\n",
       "      <td>...</td>\n",
       "      <td>N/A</td>\n",
       "      <td>6.08</td>\n",
       "      <td>N/A</td>\n",
       "      <td>N/A</td>\n",
       "      <td>N/A</td>\n",
       "      <td>N/A</td>\n",
       "      <td>N/A</td>\n",
       "      <td>N/A</td>\n",
       "      <td>N/A</td>\n",
       "      <td>N/A</td>\n",
       "    </tr>\n",
       "    <tr>\n",
       "      <th>1</th>\n",
       "      <td>2023</td>\n",
       "      <td>AR</td>\n",
       "      <td>N/A</td>\n",
       "      <td>N/A</td>\n",
       "      <td>41.92</td>\n",
       "      <td>N/A</td>\n",
       "      <td>7.0</td>\n",
       "      <td>N/A</td>\n",
       "      <td>N/A</td>\n",
       "      <td>N/A</td>\n",
       "      <td>...</td>\n",
       "      <td>N/A</td>\n",
       "      <td>N/A</td>\n",
       "      <td>70.96</td>\n",
       "      <td>10.1124</td>\n",
       "      <td>2.9536</td>\n",
       "      <td>N/A</td>\n",
       "      <td>N/A</td>\n",
       "      <td>0.0204</td>\n",
       "      <td>N/A</td>\n",
       "      <td>145.512</td>\n",
       "    </tr>\n",
       "    <tr>\n",
       "      <th>2</th>\n",
       "      <td>2023</td>\n",
       "      <td>AT</td>\n",
       "      <td>N/A</td>\n",
       "      <td>N/A</td>\n",
       "      <td>N/A</td>\n",
       "      <td>0.517567</td>\n",
       "      <td>N/A</td>\n",
       "      <td>N/A</td>\n",
       "      <td>N/A</td>\n",
       "      <td>N/A</td>\n",
       "      <td>...</td>\n",
       "      <td>N/A</td>\n",
       "      <td>N/A</td>\n",
       "      <td>21.530474</td>\n",
       "      <td>N/A</td>\n",
       "      <td>N/A</td>\n",
       "      <td>N/A</td>\n",
       "      <td>N/A</td>\n",
       "      <td>N/A</td>\n",
       "      <td>N/A</td>\n",
       "      <td>N/A</td>\n",
       "    </tr>\n",
       "    <tr>\n",
       "      <th>3</th>\n",
       "      <td>2023</td>\n",
       "      <td>AU</td>\n",
       "      <td>N/A</td>\n",
       "      <td>N/A</td>\n",
       "      <td>36.70106</td>\n",
       "      <td>N/A</td>\n",
       "      <td>N/A</td>\n",
       "      <td>N/A</td>\n",
       "      <td>0.025</td>\n",
       "      <td>1.453206</td>\n",
       "      <td>...</td>\n",
       "      <td>N/A</td>\n",
       "      <td>N/A</td>\n",
       "      <td>72.793629</td>\n",
       "      <td>4.577205</td>\n",
       "      <td>1.241951</td>\n",
       "      <td>0.162004</td>\n",
       "      <td>0.015161</td>\n",
       "      <td>0.004343</td>\n",
       "      <td>0.000471</td>\n",
       "      <td>64.596291</td>\n",
       "    </tr>\n",
       "    <tr>\n",
       "      <th>4</th>\n",
       "      <td>2023</td>\n",
       "      <td>AZ</td>\n",
       "      <td>N/A</td>\n",
       "      <td>N/A</td>\n",
       "      <td>N/A</td>\n",
       "      <td>N/A</td>\n",
       "      <td>N/A</td>\n",
       "      <td>N/A</td>\n",
       "      <td>N/A</td>\n",
       "      <td>N/A</td>\n",
       "      <td>...</td>\n",
       "      <td>N/A</td>\n",
       "      <td>N/A</td>\n",
       "      <td>73.0</td>\n",
       "      <td>N/A</td>\n",
       "      <td>N/A</td>\n",
       "      <td>N/A</td>\n",
       "      <td>N/A</td>\n",
       "      <td>N/A</td>\n",
       "      <td>N/A</td>\n",
       "      <td>N/A</td>\n",
       "    </tr>\n",
       "    <tr>\n",
       "      <th>...</th>\n",
       "      <td>...</td>\n",
       "      <td>...</td>\n",
       "      <td>...</td>\n",
       "      <td>...</td>\n",
       "      <td>...</td>\n",
       "      <td>...</td>\n",
       "      <td>...</td>\n",
       "      <td>...</td>\n",
       "      <td>...</td>\n",
       "      <td>...</td>\n",
       "      <td>...</td>\n",
       "      <td>...</td>\n",
       "      <td>...</td>\n",
       "      <td>...</td>\n",
       "      <td>...</td>\n",
       "      <td>...</td>\n",
       "      <td>...</td>\n",
       "      <td>...</td>\n",
       "      <td>...</td>\n",
       "      <td>...</td>\n",
       "      <td>...</td>\n",
       "    </tr>\n",
       "    <tr>\n",
       "      <th>67</th>\n",
       "      <td>2023</td>\n",
       "      <td>UA</td>\n",
       "      <td>N/A</td>\n",
       "      <td>N/A</td>\n",
       "      <td>N/A</td>\n",
       "      <td>N/A</td>\n",
       "      <td>N/A</td>\n",
       "      <td>N/A</td>\n",
       "      <td>N/A</td>\n",
       "      <td>N/A</td>\n",
       "      <td>...</td>\n",
       "      <td>N/A</td>\n",
       "      <td>N/A</td>\n",
       "      <td>17.595833</td>\n",
       "      <td>24.135833</td>\n",
       "      <td>6.905833</td>\n",
       "      <td>N/A</td>\n",
       "      <td>N/A</td>\n",
       "      <td>N/A</td>\n",
       "      <td>N/A</td>\n",
       "      <td>N/A</td>\n",
       "    </tr>\n",
       "    <tr>\n",
       "      <th>68</th>\n",
       "      <td>2023</td>\n",
       "      <td>UG</td>\n",
       "      <td>N/A</td>\n",
       "      <td>N/A</td>\n",
       "      <td>44.730763</td>\n",
       "      <td>N/A</td>\n",
       "      <td>N/A</td>\n",
       "      <td>N/A</td>\n",
       "      <td>N/A</td>\n",
       "      <td>N/A</td>\n",
       "      <td>...</td>\n",
       "      <td>N/A</td>\n",
       "      <td>N/A</td>\n",
       "      <td>80.628623</td>\n",
       "      <td>149.106658</td>\n",
       "      <td>58.565136</td>\n",
       "      <td>N/A</td>\n",
       "      <td>N/A</td>\n",
       "      <td>2.774946</td>\n",
       "      <td>N/A</td>\n",
       "      <td>196.282609</td>\n",
       "    </tr>\n",
       "    <tr>\n",
       "      <th>69</th>\n",
       "      <td>2023</td>\n",
       "      <td>US</td>\n",
       "      <td>N/A</td>\n",
       "      <td>0.1</td>\n",
       "      <td>43.627276</td>\n",
       "      <td>0.0</td>\n",
       "      <td>0.005433</td>\n",
       "      <td>0.001</td>\n",
       "      <td>0.041294</td>\n",
       "      <td>8.287903</td>\n",
       "      <td>...</td>\n",
       "      <td>N/A</td>\n",
       "      <td>0.000567</td>\n",
       "      <td>75.719157</td>\n",
       "      <td>10.174152</td>\n",
       "      <td>2.989547</td>\n",
       "      <td>0.483427</td>\n",
       "      <td>0.03543</td>\n",
       "      <td>0.006821</td>\n",
       "      <td>0.001732</td>\n",
       "      <td>88.075294</td>\n",
       "    </tr>\n",
       "    <tr>\n",
       "      <th>70</th>\n",
       "      <td>2023</td>\n",
       "      <td>VN</td>\n",
       "      <td>N/A</td>\n",
       "      <td>N/A</td>\n",
       "      <td>38.033333</td>\n",
       "      <td>N/A</td>\n",
       "      <td>N/A</td>\n",
       "      <td>N/A</td>\n",
       "      <td>N/A</td>\n",
       "      <td>15.591801</td>\n",
       "      <td>...</td>\n",
       "      <td>N/A</td>\n",
       "      <td>N/A</td>\n",
       "      <td>97.142857</td>\n",
       "      <td>46.535333</td>\n",
       "      <td>13.684</td>\n",
       "      <td>2.415667</td>\n",
       "      <td>0.269333</td>\n",
       "      <td>0.088333</td>\n",
       "      <td>0.016333</td>\n",
       "      <td>51.333333</td>\n",
       "    </tr>\n",
       "    <tr>\n",
       "      <th>71</th>\n",
       "      <td>2023</td>\n",
       "      <td>ZA</td>\n",
       "      <td>N/A</td>\n",
       "      <td>N/A</td>\n",
       "      <td>N/A</td>\n",
       "      <td>N/A</td>\n",
       "      <td>N/A</td>\n",
       "      <td>N/A</td>\n",
       "      <td>N/A</td>\n",
       "      <td>N/A</td>\n",
       "      <td>...</td>\n",
       "      <td>N/A</td>\n",
       "      <td>N/A</td>\n",
       "      <td>29.435447</td>\n",
       "      <td>N/A</td>\n",
       "      <td>N/A</td>\n",
       "      <td>N/A</td>\n",
       "      <td>N/A</td>\n",
       "      <td>N/A</td>\n",
       "      <td>N/A</td>\n",
       "      <td>105.103333</td>\n",
       "    </tr>\n",
       "  </tbody>\n",
       "</table>\n",
       "<p>72 rows × 24 columns</p>\n",
       "</div>"
      ],
      "text/plain": [
       "parameter  Year_Recorded country   bc   co   humidity        no       no2  \\\n",
       "0                   2023      AE  N/A  N/A        N/A       N/A       N/A   \n",
       "1                   2023      AR  N/A  N/A      41.92       N/A       7.0   \n",
       "2                   2023      AT  N/A  N/A        N/A  0.517567       N/A   \n",
       "3                   2023      AU  N/A  N/A   36.70106       N/A       N/A   \n",
       "4                   2023      AZ  N/A  N/A        N/A       N/A       N/A   \n",
       "..                   ...     ...  ...  ...        ...       ...       ...   \n",
       "67                  2023      UA  N/A  N/A        N/A       N/A       N/A   \n",
       "68                  2023      UG  N/A  N/A  44.730763       N/A       N/A   \n",
       "69                  2023      US  N/A  0.1  43.627276       0.0  0.005433   \n",
       "70                  2023      VN  N/A  N/A  38.033333       N/A       N/A   \n",
       "71                  2023      ZA  N/A  N/A        N/A       N/A       N/A   \n",
       "\n",
       "parameter    nox        o3        pm1  ... relativehumidity       so2  \\\n",
       "0            N/A       N/A        N/A  ...              N/A      6.08   \n",
       "1            N/A       N/A        N/A  ...              N/A       N/A   \n",
       "2            N/A       N/A        N/A  ...              N/A       N/A   \n",
       "3            N/A     0.025   1.453206  ...              N/A       N/A   \n",
       "4            N/A       N/A        N/A  ...              N/A       N/A   \n",
       "..           ...       ...        ...  ...              ...       ...   \n",
       "67           N/A       N/A        N/A  ...              N/A       N/A   \n",
       "68           N/A       N/A        N/A  ...              N/A       N/A   \n",
       "69         0.001  0.041294   8.287903  ...              N/A  0.000567   \n",
       "70           N/A       N/A  15.591801  ...              N/A       N/A   \n",
       "71           N/A       N/A        N/A  ...              N/A       N/A   \n",
       "\n",
       "parameter temperature       um003      um005     um010     um025     um050  \\\n",
       "0                 N/A         N/A        N/A       N/A       N/A       N/A   \n",
       "1               70.96     10.1124     2.9536       N/A       N/A    0.0204   \n",
       "2           21.530474         N/A        N/A       N/A       N/A       N/A   \n",
       "3           72.793629    4.577205   1.241951  0.162004  0.015161  0.004343   \n",
       "4                73.0         N/A        N/A       N/A       N/A       N/A   \n",
       "..                ...         ...        ...       ...       ...       ...   \n",
       "67          17.595833   24.135833   6.905833       N/A       N/A       N/A   \n",
       "68          80.628623  149.106658  58.565136       N/A       N/A  2.774946   \n",
       "69          75.719157   10.174152   2.989547  0.483427   0.03543  0.006821   \n",
       "70          97.142857   46.535333     13.684  2.415667  0.269333  0.088333   \n",
       "71          29.435447         N/A        N/A       N/A       N/A       N/A   \n",
       "\n",
       "parameter     um100         voc  \n",
       "0               N/A         N/A  \n",
       "1               N/A     145.512  \n",
       "2               N/A         N/A  \n",
       "3          0.000471   64.596291  \n",
       "4               N/A         N/A  \n",
       "..              ...         ...  \n",
       "67              N/A         N/A  \n",
       "68              N/A  196.282609  \n",
       "69         0.001732   88.075294  \n",
       "70         0.016333   51.333333  \n",
       "71              N/A  105.103333  \n",
       "\n",
       "[72 rows x 24 columns]"
      ]
     },
     "metadata": {},
     "output_type": "display_data"
    }
   ],
   "source": [
    "# Sets the Year_Recorded and country columns as indices\n",
    "# Defines the parameter and value columns as the ones to unpivot\n",
    "# Accounts for duplicate values by aggregating using the mean\n",
    "pivoted_location_df = sorted_location_df.pivot_table(index = [\"Year_Recorded\", \n",
    "                                                              \"country\"],\n",
    "                                               columns = \"parameter\", \n",
    "                                               values = \"value\",\n",
    "                                              aggfunc = \"mean\")\n",
    "\n",
    "# Resets the index\n",
    "pivoted_location_df.reset_index(inplace = True)\n",
    "\n",
    "# Sets the name of the index column to None\n",
    "pivoted_location_df.index.name = None\n",
    "\n",
    "# Fills in any missing values with N/A\n",
    "pivoted_location_df.fillna(\"N/A\", inplace = True)\n",
    "\n",
    "display(pivoted_location_df)"
   ]
  },
  {
   "cell_type": "code",
   "execution_count": 90,
   "id": "36fb91fc-aafa-48ff-8337-7a1281fa6766",
   "metadata": {},
   "outputs": [
    {
     "name": "stdout",
     "output_type": "stream",
     "text": [
      "0     107.5\n",
      "1      23.0\n",
      "2    16.731\n",
      "Name: pm10, dtype: object\n"
     ]
    }
   ],
   "source": [
    "# Prints the values for one of the unpivoted columns for a visual check of\n",
    "# the calculations.\n",
    "print(pivoted_location_df.loc[0:2, \"pm10\"])"
   ]
  },
  {
   "cell_type": "markdown",
   "id": "19c6db9c-d18f-4540-9b37-4bbc1a50547a",
   "metadata": {
    "tags": []
   },
   "source": [
    "### Transformation 9: Headers"
   ]
  },
  {
   "cell_type": "markdown",
   "id": "a1c0a454-b524-4a86-9fb5-af237c102da8",
   "metadata": {},
   "source": [
    "The headers need to be capitalized to maintain consistency across all datasets. The country column for this second dataset contains information that is found in the code column of the original dataset. I will also rename columns to the best of my ability so it is clearer what each contains for those who aren't as familiar with chemistry notation."
   ]
  },
  {
   "cell_type": "code",
   "execution_count": 91,
   "id": "8e96fa2b-913f-426f-a9dd-342def99595b",
   "metadata": {},
   "outputs": [
    {
     "name": "stdout",
     "output_type": "stream",
     "text": [
      "0        Year_Recorded\n",
      "1              country\n",
      "2                   bc\n",
      "3                   co\n",
      "4             humidity\n",
      "5                   no\n",
      "6                  no2\n",
      "7                  nox\n",
      "8                   o3\n",
      "9                  pm1\n",
      "10                pm10\n",
      "11                pm25\n",
      "12                 pm4\n",
      "13            pressure\n",
      "14    relativehumidity\n",
      "15                 so2\n",
      "16         temperature\n",
      "17               um003\n",
      "18               um005\n",
      "19               um010\n",
      "20               um025\n",
      "21               um050\n",
      "22               um100\n",
      "23                 voc\n",
      "Name: parameter, dtype: object\n"
     ]
    }
   ],
   "source": [
    "print(pd.Series(pivoted_location_df.columns))"
   ]
  },
  {
   "cell_type": "code",
   "execution_count": 92,
   "id": "60a21a8f-1349-49f3-b6ba-19710db3b1bf",
   "metadata": {},
   "outputs": [],
   "source": [
    "header_replacments = {\"country\": \"Code\", \"bc\": \"Black_Carbon\", \"co\": \"Carbon_Monoxide\",\n",
    "                     \"humidity\": \"Humidity\", \"no\": \"Nitrogen_Monoxide\",\n",
    "                     \"no2\": \"Nitrogen_Dioxide\", \"nox\": \"Nitrogen_Oxides\",\n",
    "                     \"o3\": \"Ozone1\", \"ozone\": \"Ozone\", \"pm1\": \"PM_1\",\n",
    "                     \"pm10\": \"PM_10\", \"pm25\": \"PM_25\", \"pm4\": \"PM_4\",\n",
    "                     \"pressure\": \"Pressure\", \"relativehumidity\": \"Relative_Humidity\",\n",
    "                     \"so2\": \"Sulfur_Dioxide\", \"temperature\": \"Temperature\",\n",
    "                     \"um003\": \"UM_003\", \"um005\": \"UM_005\", \"um010\": \"UM_010\",\n",
    "                     \"um025\": \"UM_025\", \"um050\": \"UM_050\", \"um100\": \"UM_100\",\n",
    "                     \"voc\": \"Volatile_Organic_Compounds\"}"
   ]
  },
  {
   "cell_type": "code",
   "execution_count": 93,
   "id": "2aa597af-7168-48d9-914f-8f27fd3996b1",
   "metadata": {},
   "outputs": [
    {
     "name": "stdout",
     "output_type": "stream",
     "text": [
      "Index(['Year_Recorded', 'Code', 'Black_Carbon', 'Carbon_Monoxide', 'Humidity',\n",
      "       'Nitrogen_Monoxide', 'Nitrogen_Dioxide', 'Nitrogen_Oxides', 'Ozone1',\n",
      "       'PM_1', 'PM_10', 'PM_25', 'PM_4', 'Pressure', 'Relative_Humidity',\n",
      "       'Sulfur_Dioxide', 'Temperature', 'UM_003', 'UM_005', 'UM_010', 'UM_025',\n",
      "       'UM_050', 'UM_100', 'Volatile_Organic_Compounds'],\n",
      "      dtype='object', name='parameter')\n"
     ]
    }
   ],
   "source": [
    "final_location_df = pivoted_location_df.rename(columns = (header_replacments))\n",
    "print(final_location_df.columns)"
   ]
  },
  {
   "cell_type": "code",
   "execution_count": 94,
   "id": "1f875815-d5ec-4a39-bec5-4861cbf37b76",
   "metadata": {},
   "outputs": [
    {
     "name": "stdout",
     "output_type": "stream",
     "text": [
      "Columns with missing data:\n",
      " parameter\n",
      "Year_Recorded                 False\n",
      "Code                          False\n",
      "Black_Carbon                  False\n",
      "Carbon_Monoxide               False\n",
      "Humidity                      False\n",
      "Nitrogen_Monoxide             False\n",
      "Nitrogen_Dioxide              False\n",
      "Nitrogen_Oxides               False\n",
      "Ozone1                        False\n",
      "PM_1                          False\n",
      "PM_10                         False\n",
      "PM_25                         False\n",
      "PM_4                          False\n",
      "Pressure                      False\n",
      "Relative_Humidity             False\n",
      "Sulfur_Dioxide                False\n",
      "Temperature                   False\n",
      "UM_003                        False\n",
      "UM_005                        False\n",
      "UM_010                        False\n",
      "UM_025                        False\n",
      "UM_050                        False\n",
      "UM_100                        False\n",
      "Volatile_Organic_Compounds    False\n",
      "dtype: bool\n"
     ]
    }
   ],
   "source": [
    "# Checks for missing values in any column\n",
    "missing_api = final_location_df.isnull().any()\n",
    "print(\"Columns with missing data:\\n\", missing_api)"
   ]
  },
  {
   "cell_type": "code",
   "execution_count": 95,
   "id": "0996f81d-51e1-49b1-8b1e-329b097aef8c",
   "metadata": {},
   "outputs": [
    {
     "name": "stdout",
     "output_type": "stream",
     "text": [
      "Columns with missing data:\n",
      " parameter\n",
      "Year_Recorded                 False\n",
      "Code                          False\n",
      "Black_Carbon                  False\n",
      "Carbon_Monoxide               False\n",
      "Humidity                      False\n",
      "Nitrogen_Monoxide             False\n",
      "Nitrogen_Dioxide              False\n",
      "Nitrogen_Oxides               False\n",
      "Ozone1                        False\n",
      "PM_1                          False\n",
      "PM_10                         False\n",
      "PM_25                         False\n",
      "PM_4                          False\n",
      "Pressure                      False\n",
      "Relative_Humidity             False\n",
      "Sulfur_Dioxide                False\n",
      "Temperature                   False\n",
      "UM_003                        False\n",
      "UM_005                        False\n",
      "UM_010                        False\n",
      "UM_025                        False\n",
      "UM_050                        False\n",
      "UM_100                        False\n",
      "Volatile_Organic_Compounds    False\n",
      "dtype: bool\n"
     ]
    }
   ],
   "source": [
    "# Checks for missing values in any column\n",
    "missing_api = final_location_df.isna().any()\n",
    "print(\"Columns with missing data:\\n\", missing_api)"
   ]
  },
  {
   "cell_type": "code",
   "execution_count": 96,
   "id": "ad7eabea-02c7-4348-a458-b64dd2d647be",
   "metadata": {},
   "outputs": [
    {
     "name": "stdout",
     "output_type": "stream",
     "text": [
      "<class 'pandas.core.frame.DataFrame'>\n",
      "RangeIndex: 72 entries, 0 to 71\n",
      "Data columns (total 24 columns):\n",
      " #   Column                      Non-Null Count  Dtype \n",
      "---  ------                      --------------  ----- \n",
      " 0   Year_Recorded               72 non-null     int64 \n",
      " 1   Code                        72 non-null     object\n",
      " 2   Black_Carbon                72 non-null     object\n",
      " 3   Carbon_Monoxide             72 non-null     object\n",
      " 4   Humidity                    72 non-null     object\n",
      " 5   Nitrogen_Monoxide           72 non-null     object\n",
      " 6   Nitrogen_Dioxide            72 non-null     object\n",
      " 7   Nitrogen_Oxides             72 non-null     object\n",
      " 8   Ozone1                      72 non-null     object\n",
      " 9   PM_1                        72 non-null     object\n",
      " 10  PM_10                       72 non-null     object\n",
      " 11  PM_25                       72 non-null     object\n",
      " 12  PM_4                        72 non-null     object\n",
      " 13  Pressure                    72 non-null     object\n",
      " 14  Relative_Humidity           72 non-null     object\n",
      " 15  Sulfur_Dioxide              72 non-null     object\n",
      " 16  Temperature                 72 non-null     object\n",
      " 17  UM_003                      72 non-null     object\n",
      " 18  UM_005                      72 non-null     object\n",
      " 19  UM_010                      72 non-null     object\n",
      " 20  UM_025                      72 non-null     object\n",
      " 21  UM_050                      72 non-null     object\n",
      " 22  UM_100                      72 non-null     object\n",
      " 23  Volatile_Organic_Compounds  72 non-null     object\n",
      "dtypes: int64(1), object(23)\n",
      "memory usage: 13.6+ KB\n"
     ]
    }
   ],
   "source": [
    "final_location_df.info()"
   ]
  },
  {
   "cell_type": "code",
   "execution_count": 97,
   "id": "da378d64-b5fc-4a40-aa29-ec74a11d1124",
   "metadata": {},
   "outputs": [],
   "source": [
    "columns_to_convert = [\"Black_Carbon\", \"Carbon_Monoxide\", \"Humidity\", \"Nitrogen_Monoxide\", \"Nitrogen_Dioxide\", \"Nitrogen_Oxides\", \"Ozone1\", \"PM_1\", \"PM_10\",\n",
    "                     \"PM_25\", \"PM_4\", \"Pressure\", \"Relative_Humidity\", \"Sulfur_Dioxide\", \"Temperature\", \"UM_003\", \"UM_005\", \"UM_010\", \"UM_025\", \"UM_050\", \"UM_100\",\n",
    "                     \"Volatile_Organic_Compounds\"]"
   ]
  },
  {
   "cell_type": "code",
   "execution_count": 98,
   "id": "0c9b4905-1489-4bdd-997c-ff15301308ad",
   "metadata": {},
   "outputs": [],
   "source": [
    "# Converts the list of columns to numeric type\n",
    "final_location_df[columns_to_convert] = final_location_df[columns_to_convert].apply(pd.to_numeric, errors = \"coerce\")"
   ]
  },
  {
   "cell_type": "code",
   "execution_count": 99,
   "id": "6ee11490-b219-4085-9c21-03a77ee9dd49",
   "metadata": {},
   "outputs": [
    {
     "name": "stdout",
     "output_type": "stream",
     "text": [
      "<class 'pandas.core.frame.DataFrame'>\n",
      "RangeIndex: 72 entries, 0 to 71\n",
      "Data columns (total 24 columns):\n",
      " #   Column                      Non-Null Count  Dtype  \n",
      "---  ------                      --------------  -----  \n",
      " 0   Year_Recorded               72 non-null     int64  \n",
      " 1   Code                        72 non-null     object \n",
      " 2   Black_Carbon                1 non-null      float64\n",
      " 3   Carbon_Monoxide             9 non-null      float64\n",
      " 4   Humidity                    44 non-null     float64\n",
      " 5   Nitrogen_Monoxide           13 non-null     float64\n",
      " 6   Nitrogen_Dioxide            17 non-null     float64\n",
      " 7   Nitrogen_Oxides             4 non-null      float64\n",
      " 8   Ozone1                      10 non-null     float64\n",
      " 9   PM_1                        44 non-null     float64\n",
      " 10  PM_10                       46 non-null     float64\n",
      " 11  PM_25                       52 non-null     float64\n",
      " 12  PM_4                        2 non-null      float64\n",
      " 13  Pressure                    46 non-null     float64\n",
      " 14  Relative_Humidity           1 non-null      float64\n",
      " 15  Sulfur_Dioxide              13 non-null     float64\n",
      " 16  Temperature                 52 non-null     float64\n",
      " 17  UM_003                      45 non-null     float64\n",
      " 18  UM_005                      44 non-null     float64\n",
      " 19  UM_010                      37 non-null     float64\n",
      " 20  UM_025                      37 non-null     float64\n",
      " 21  UM_050                      44 non-null     float64\n",
      " 22  UM_100                      41 non-null     float64\n",
      " 23  Volatile_Organic_Compounds  25 non-null     float64\n",
      "dtypes: float64(22), int64(1), object(1)\n",
      "memory usage: 13.6+ KB\n"
     ]
    }
   ],
   "source": [
    "final_location_df.info()"
   ]
  },
  {
   "cell_type": "code",
   "execution_count": 100,
   "id": "e28d8019-0f99-4ff2-b3bb-23d22b501eec",
   "metadata": {},
   "outputs": [
    {
     "data": {
      "text/plain": [
       "parameter\n",
       "Year_Recorded                 False\n",
       "Code                          False\n",
       "Black_Carbon                   True\n",
       "Carbon_Monoxide                True\n",
       "Humidity                       True\n",
       "Nitrogen_Monoxide              True\n",
       "Nitrogen_Dioxide               True\n",
       "Nitrogen_Oxides                True\n",
       "Ozone1                         True\n",
       "PM_1                           True\n",
       "PM_10                          True\n",
       "PM_25                          True\n",
       "PM_4                           True\n",
       "Pressure                       True\n",
       "Relative_Humidity              True\n",
       "Sulfur_Dioxide                 True\n",
       "Temperature                    True\n",
       "UM_003                         True\n",
       "UM_005                         True\n",
       "UM_010                         True\n",
       "UM_025                         True\n",
       "UM_050                         True\n",
       "UM_100                         True\n",
       "Volatile_Organic_Compounds     True\n",
       "dtype: bool"
      ]
     },
     "execution_count": 100,
     "metadata": {},
     "output_type": "execute_result"
    }
   ],
   "source": [
    "final_location_df.isna().any()"
   ]
  },
  {
   "cell_type": "markdown",
   "id": "b337011b-3349-4a9f-a0a8-0856df468e15",
   "metadata": {
    "tags": []
   },
   "source": [
    "### Transformation 10: Combining the Dataframes\n",
    "### Human Readable Dataset"
   ]
  },
  {
   "cell_type": "markdown",
   "id": "f2721872-364a-4d79-8ff3-34359c6e1cfe",
   "metadata": {},
   "source": [
    "Both dataframes have useful information so they will be combined based on their codes. This will ensure that only countries with specific pollutant information will be in the final dataframe and that their country names will be displayed as well as their ISO codes."
   ]
  },
  {
   "cell_type": "code",
   "execution_count": 101,
   "id": "7318192c-e644-41d8-b7bf-048f0ff8a016",
   "metadata": {},
   "outputs": [
    {
     "data": {
      "text/html": [
       "<div>\n",
       "<style scoped>\n",
       "    .dataframe tbody tr th:only-of-type {\n",
       "        vertical-align: middle;\n",
       "    }\n",
       "\n",
       "    .dataframe tbody tr th {\n",
       "        vertical-align: top;\n",
       "    }\n",
       "\n",
       "    .dataframe thead th {\n",
       "        text-align: right;\n",
       "    }\n",
       "</style>\n",
       "<table border=\"1\" class=\"dataframe\">\n",
       "  <thead>\n",
       "    <tr style=\"text-align: right;\">\n",
       "      <th></th>\n",
       "      <th>Code</th>\n",
       "      <th>Country</th>\n",
       "      <th>Start_Year</th>\n",
       "      <th>End_Year</th>\n",
       "      <th>Year_Recorded</th>\n",
       "      <th>Black_Carbon</th>\n",
       "      <th>Carbon_Monoxide</th>\n",
       "      <th>Humidity</th>\n",
       "      <th>Nitrogen_Monoxide</th>\n",
       "      <th>Nitrogen_Dioxide</th>\n",
       "      <th>...</th>\n",
       "      <th>Relative_Humidity</th>\n",
       "      <th>Sulfur_Dioxide</th>\n",
       "      <th>Temperature</th>\n",
       "      <th>UM_003</th>\n",
       "      <th>UM_005</th>\n",
       "      <th>UM_010</th>\n",
       "      <th>UM_025</th>\n",
       "      <th>UM_050</th>\n",
       "      <th>UM_100</th>\n",
       "      <th>Volatile_Organic_Compounds</th>\n",
       "    </tr>\n",
       "  </thead>\n",
       "  <tbody>\n",
       "    <tr>\n",
       "      <th>0</th>\n",
       "      <td>NO</td>\n",
       "      <td>Norway</td>\n",
       "      <td>2016</td>\n",
       "      <td>2023.0</td>\n",
       "      <td>2023</td>\n",
       "      <td>NaN</td>\n",
       "      <td>NaN</td>\n",
       "      <td>41.760181</td>\n",
       "      <td>NaN</td>\n",
       "      <td>NaN</td>\n",
       "      <td>...</td>\n",
       "      <td>36.203</td>\n",
       "      <td>NaN</td>\n",
       "      <td>73.987131</td>\n",
       "      <td>18.704968</td>\n",
       "      <td>5.435628</td>\n",
       "      <td>1.106348</td>\n",
       "      <td>0.099211</td>\n",
       "      <td>0.022310</td>\n",
       "      <td>0.007722</td>\n",
       "      <td>82.281244</td>\n",
       "    </tr>\n",
       "    <tr>\n",
       "      <th>1</th>\n",
       "      <td>FR</td>\n",
       "      <td>France</td>\n",
       "      <td>2016</td>\n",
       "      <td>2023.0</td>\n",
       "      <td>2023</td>\n",
       "      <td>NaN</td>\n",
       "      <td>NaN</td>\n",
       "      <td>84.888889</td>\n",
       "      <td>0.900000</td>\n",
       "      <td>22.375000</td>\n",
       "      <td>...</td>\n",
       "      <td>NaN</td>\n",
       "      <td>NaN</td>\n",
       "      <td>74.681034</td>\n",
       "      <td>11.158391</td>\n",
       "      <td>4.972203</td>\n",
       "      <td>NaN</td>\n",
       "      <td>NaN</td>\n",
       "      <td>0.004444</td>\n",
       "      <td>NaN</td>\n",
       "      <td>NaN</td>\n",
       "    </tr>\n",
       "    <tr>\n",
       "      <th>2</th>\n",
       "      <td>CA</td>\n",
       "      <td>Canada</td>\n",
       "      <td>2016</td>\n",
       "      <td>2023.0</td>\n",
       "      <td>2023</td>\n",
       "      <td>NaN</td>\n",
       "      <td>NaN</td>\n",
       "      <td>49.148254</td>\n",
       "      <td>0.000333</td>\n",
       "      <td>0.003143</td>\n",
       "      <td>...</td>\n",
       "      <td>NaN</td>\n",
       "      <td>0.000100</td>\n",
       "      <td>65.803935</td>\n",
       "      <td>10.288750</td>\n",
       "      <td>2.907164</td>\n",
       "      <td>0.421493</td>\n",
       "      <td>0.028303</td>\n",
       "      <td>0.004709</td>\n",
       "      <td>0.000555</td>\n",
       "      <td>80.229452</td>\n",
       "    </tr>\n",
       "    <tr>\n",
       "      <th>3</th>\n",
       "      <td>BZ</td>\n",
       "      <td>Belize</td>\n",
       "      <td>2021</td>\n",
       "      <td>2023.0</td>\n",
       "      <td>2023</td>\n",
       "      <td>NaN</td>\n",
       "      <td>NaN</td>\n",
       "      <td>40.724138</td>\n",
       "      <td>NaN</td>\n",
       "      <td>NaN</td>\n",
       "      <td>...</td>\n",
       "      <td>NaN</td>\n",
       "      <td>NaN</td>\n",
       "      <td>103.689655</td>\n",
       "      <td>4.338966</td>\n",
       "      <td>1.233793</td>\n",
       "      <td>0.128621</td>\n",
       "      <td>0.002069</td>\n",
       "      <td>0.000000</td>\n",
       "      <td>0.000000</td>\n",
       "      <td>NaN</td>\n",
       "    </tr>\n",
       "    <tr>\n",
       "      <th>4</th>\n",
       "      <td>US</td>\n",
       "      <td>United States of America</td>\n",
       "      <td>2016</td>\n",
       "      <td>2023.0</td>\n",
       "      <td>2023</td>\n",
       "      <td>NaN</td>\n",
       "      <td>0.1</td>\n",
       "      <td>43.627276</td>\n",
       "      <td>0.000000</td>\n",
       "      <td>0.005433</td>\n",
       "      <td>...</td>\n",
       "      <td>NaN</td>\n",
       "      <td>0.000567</td>\n",
       "      <td>75.719157</td>\n",
       "      <td>10.174152</td>\n",
       "      <td>2.989547</td>\n",
       "      <td>0.483427</td>\n",
       "      <td>0.035430</td>\n",
       "      <td>0.006821</td>\n",
       "      <td>0.001732</td>\n",
       "      <td>88.075294</td>\n",
       "    </tr>\n",
       "    <tr>\n",
       "      <th>...</th>\n",
       "      <td>...</td>\n",
       "      <td>...</td>\n",
       "      <td>...</td>\n",
       "      <td>...</td>\n",
       "      <td>...</td>\n",
       "      <td>...</td>\n",
       "      <td>...</td>\n",
       "      <td>...</td>\n",
       "      <td>...</td>\n",
       "      <td>...</td>\n",
       "      <td>...</td>\n",
       "      <td>...</td>\n",
       "      <td>...</td>\n",
       "      <td>...</td>\n",
       "      <td>...</td>\n",
       "      <td>...</td>\n",
       "      <td>...</td>\n",
       "      <td>...</td>\n",
       "      <td>...</td>\n",
       "      <td>...</td>\n",
       "      <td>...</td>\n",
       "    </tr>\n",
       "    <tr>\n",
       "      <th>67</th>\n",
       "      <td>PH</td>\n",
       "      <td>Philippines</td>\n",
       "      <td>2021</td>\n",
       "      <td>2023.0</td>\n",
       "      <td>2023</td>\n",
       "      <td>NaN</td>\n",
       "      <td>NaN</td>\n",
       "      <td>NaN</td>\n",
       "      <td>NaN</td>\n",
       "      <td>NaN</td>\n",
       "      <td>...</td>\n",
       "      <td>NaN</td>\n",
       "      <td>NaN</td>\n",
       "      <td>NaN</td>\n",
       "      <td>NaN</td>\n",
       "      <td>NaN</td>\n",
       "      <td>NaN</td>\n",
       "      <td>NaN</td>\n",
       "      <td>NaN</td>\n",
       "      <td>NaN</td>\n",
       "      <td>NaN</td>\n",
       "    </tr>\n",
       "    <tr>\n",
       "      <th>68</th>\n",
       "      <td>JP</td>\n",
       "      <td>Japan</td>\n",
       "      <td>2021</td>\n",
       "      <td>2023.0</td>\n",
       "      <td>2023</td>\n",
       "      <td>NaN</td>\n",
       "      <td>0.2</td>\n",
       "      <td>NaN</td>\n",
       "      <td>0.001400</td>\n",
       "      <td>0.003714</td>\n",
       "      <td>...</td>\n",
       "      <td>NaN</td>\n",
       "      <td>0.000538</td>\n",
       "      <td>NaN</td>\n",
       "      <td>NaN</td>\n",
       "      <td>NaN</td>\n",
       "      <td>NaN</td>\n",
       "      <td>NaN</td>\n",
       "      <td>NaN</td>\n",
       "      <td>NaN</td>\n",
       "      <td>NaN</td>\n",
       "    </tr>\n",
       "    <tr>\n",
       "      <th>69</th>\n",
       "      <td>PY</td>\n",
       "      <td>Paraguay</td>\n",
       "      <td>2023</td>\n",
       "      <td>2023.0</td>\n",
       "      <td>2023</td>\n",
       "      <td>NaN</td>\n",
       "      <td>NaN</td>\n",
       "      <td>NaN</td>\n",
       "      <td>NaN</td>\n",
       "      <td>NaN</td>\n",
       "      <td>...</td>\n",
       "      <td>NaN</td>\n",
       "      <td>NaN</td>\n",
       "      <td>NaN</td>\n",
       "      <td>NaN</td>\n",
       "      <td>NaN</td>\n",
       "      <td>NaN</td>\n",
       "      <td>NaN</td>\n",
       "      <td>NaN</td>\n",
       "      <td>NaN</td>\n",
       "      <td>NaN</td>\n",
       "    </tr>\n",
       "    <tr>\n",
       "      <th>70</th>\n",
       "      <td>SA</td>\n",
       "      <td>Saudi Arabia</td>\n",
       "      <td>2019</td>\n",
       "      <td>2023.0</td>\n",
       "      <td>2023</td>\n",
       "      <td>NaN</td>\n",
       "      <td>NaN</td>\n",
       "      <td>NaN</td>\n",
       "      <td>NaN</td>\n",
       "      <td>NaN</td>\n",
       "      <td>...</td>\n",
       "      <td>NaN</td>\n",
       "      <td>NaN</td>\n",
       "      <td>NaN</td>\n",
       "      <td>NaN</td>\n",
       "      <td>NaN</td>\n",
       "      <td>1.511786</td>\n",
       "      <td>0.301071</td>\n",
       "      <td>NaN</td>\n",
       "      <td>NaN</td>\n",
       "      <td>NaN</td>\n",
       "    </tr>\n",
       "    <tr>\n",
       "      <th>71</th>\n",
       "      <td>EG</td>\n",
       "      <td>Egypt</td>\n",
       "      <td>2022</td>\n",
       "      <td>2023.0</td>\n",
       "      <td>2023</td>\n",
       "      <td>NaN</td>\n",
       "      <td>NaN</td>\n",
       "      <td>NaN</td>\n",
       "      <td>NaN</td>\n",
       "      <td>NaN</td>\n",
       "      <td>...</td>\n",
       "      <td>NaN</td>\n",
       "      <td>NaN</td>\n",
       "      <td>NaN</td>\n",
       "      <td>NaN</td>\n",
       "      <td>NaN</td>\n",
       "      <td>NaN</td>\n",
       "      <td>NaN</td>\n",
       "      <td>NaN</td>\n",
       "      <td>NaN</td>\n",
       "      <td>NaN</td>\n",
       "    </tr>\n",
       "  </tbody>\n",
       "</table>\n",
       "<p>72 rows × 27 columns</p>\n",
       "</div>"
      ],
      "text/plain": [
       "   Code                   Country  Start_Year  End_Year  Year_Recorded  \\\n",
       "0    NO                    Norway        2016    2023.0           2023   \n",
       "1    FR                    France        2016    2023.0           2023   \n",
       "2    CA                    Canada        2016    2023.0           2023   \n",
       "3    BZ                    Belize        2021    2023.0           2023   \n",
       "4    US  United States of America        2016    2023.0           2023   \n",
       "..  ...                       ...         ...       ...            ...   \n",
       "67   PH               Philippines        2021    2023.0           2023   \n",
       "68   JP                     Japan        2021    2023.0           2023   \n",
       "69   PY                  Paraguay        2023    2023.0           2023   \n",
       "70   SA              Saudi Arabia        2019    2023.0           2023   \n",
       "71   EG                     Egypt        2022    2023.0           2023   \n",
       "\n",
       "    Black_Carbon  Carbon_Monoxide   Humidity  Nitrogen_Monoxide  \\\n",
       "0            NaN              NaN  41.760181                NaN   \n",
       "1            NaN              NaN  84.888889           0.900000   \n",
       "2            NaN              NaN  49.148254           0.000333   \n",
       "3            NaN              NaN  40.724138                NaN   \n",
       "4            NaN              0.1  43.627276           0.000000   \n",
       "..           ...              ...        ...                ...   \n",
       "67           NaN              NaN        NaN                NaN   \n",
       "68           NaN              0.2        NaN           0.001400   \n",
       "69           NaN              NaN        NaN                NaN   \n",
       "70           NaN              NaN        NaN                NaN   \n",
       "71           NaN              NaN        NaN                NaN   \n",
       "\n",
       "    Nitrogen_Dioxide  ...  Relative_Humidity  Sulfur_Dioxide  Temperature  \\\n",
       "0                NaN  ...             36.203             NaN    73.987131   \n",
       "1          22.375000  ...                NaN             NaN    74.681034   \n",
       "2           0.003143  ...                NaN        0.000100    65.803935   \n",
       "3                NaN  ...                NaN             NaN   103.689655   \n",
       "4           0.005433  ...                NaN        0.000567    75.719157   \n",
       "..               ...  ...                ...             ...          ...   \n",
       "67               NaN  ...                NaN             NaN          NaN   \n",
       "68          0.003714  ...                NaN        0.000538          NaN   \n",
       "69               NaN  ...                NaN             NaN          NaN   \n",
       "70               NaN  ...                NaN             NaN          NaN   \n",
       "71               NaN  ...                NaN             NaN          NaN   \n",
       "\n",
       "       UM_003    UM_005    UM_010    UM_025    UM_050    UM_100  \\\n",
       "0   18.704968  5.435628  1.106348  0.099211  0.022310  0.007722   \n",
       "1   11.158391  4.972203       NaN       NaN  0.004444       NaN   \n",
       "2   10.288750  2.907164  0.421493  0.028303  0.004709  0.000555   \n",
       "3    4.338966  1.233793  0.128621  0.002069  0.000000  0.000000   \n",
       "4   10.174152  2.989547  0.483427  0.035430  0.006821  0.001732   \n",
       "..        ...       ...       ...       ...       ...       ...   \n",
       "67        NaN       NaN       NaN       NaN       NaN       NaN   \n",
       "68        NaN       NaN       NaN       NaN       NaN       NaN   \n",
       "69        NaN       NaN       NaN       NaN       NaN       NaN   \n",
       "70        NaN       NaN  1.511786  0.301071       NaN       NaN   \n",
       "71        NaN       NaN       NaN       NaN       NaN       NaN   \n",
       "\n",
       "    Volatile_Organic_Compounds  \n",
       "0                    82.281244  \n",
       "1                          NaN  \n",
       "2                    80.229452  \n",
       "3                          NaN  \n",
       "4                    88.075294  \n",
       "..                         ...  \n",
       "67                         NaN  \n",
       "68                         NaN  \n",
       "69                         NaN  \n",
       "70                         NaN  \n",
       "71                         NaN  \n",
       "\n",
       "[72 rows x 27 columns]"
      ]
     },
     "metadata": {},
     "output_type": "display_data"
    }
   ],
   "source": [
    "# Merges the two dataframes together\n",
    "# Will exclude any countries whose code was not in both dataframes\n",
    "merged_df = pd.merge(country_df, final_location_df, on = \"Code\", how = \"inner\")\n",
    "display(merged_df)"
   ]
  },
  {
   "cell_type": "code",
   "execution_count": 102,
   "id": "64a36401-25d4-482b-a655-f0858660fc57",
   "metadata": {},
   "outputs": [],
   "source": [
    "# Saves the dataframe in a csv file\n",
    "merged_df.to_csv(\"Milestone4Dataframe.csv\", index = False)"
   ]
  },
  {
   "cell_type": "markdown",
   "id": "b668cdb4-d1aa-4b8c-b50a-e63552d36a1a",
   "metadata": {
    "tags": []
   },
   "source": [
    "### Ethical Implications"
   ]
  },
  {
   "cell_type": "markdown",
   "id": "8d0441d6-bc0f-43d3-886b-a1af3c4ad920",
   "metadata": {},
   "source": [
    "There are many ethical implications that should be considered when looking at the final dataset for this milestone. In fact, this dataset is not suitable for any sort of publication but I believe it meets the requirements of the final project for this class.\n",
    "\n",
    "The implications all arise in the calls and transformations made to the second dataset.\n",
    "\n",
    "1. The number of calls that are able to be made vary each time the script is run. This is because the call iterates over the number of pages. It is not possible to pull all of the information available for each country using the call the way it is written. It accesses a different number of pages each time due to restrictions on the number of calls.\n",
    "    This means that collected data may be cut off if a country's information is split between one page and the next and may, therefore, be incomplete for the year.\n",
    "    \n",
    "    \n",
    "2. It appears the measurements may be recorded differently based on who was recording the information. For example, the \"Ozone\" columns appear like they should be able to be combined. Originally one was labeled o3 (scientific notation for ozone) while the other was already labeled ozone. I did not combine them because I cannot say that they record the same thing in the same way. This would warrant deeper investigation into how each location records ozone and may not only vary country by country, but location by location within each country.\n",
    "\n",
    "\n",
    "3. The calls are made to two different versions of the API. The documentation gave guidance for how to make the first call (countries) using version 3 of the API, but the location id documentation (second call) was made using version 2. There may be differences in the way data was recorded, what was included, etc. It would warrant further investigation.\n",
    "\n",
    "\n",
    "4. The data may be misleading because averages for each measurement were taken without first looking for outliers. For example, is an average temperature of the United States truly reflective of the entire country? It suffices for this project, however, it may be affected by outliers and would be best interpreted as a general idea rather than a solid number. "
   ]
  },
  {
   "cell_type": "markdown",
   "id": "9fb8d213-1ffb-45af-83c1-309e4c65aaa8",
   "metadata": {},
   "source": [
    "# Milestone 5"
   ]
  },
  {
   "cell_type": "markdown",
   "id": "d9f02a40-8bf5-4fb3-8239-66a156c49612",
   "metadata": {},
   "source": [
    "### Importing Packages"
   ]
  },
  {
   "cell_type": "code",
   "execution_count": 103,
   "id": "fb4590b2-5ea1-469b-a586-55f5c424ab4f",
   "metadata": {},
   "outputs": [],
   "source": [
    "import sqlite3"
   ]
  },
  {
   "cell_type": "markdown",
   "id": "c3fc73a7-688c-47b4-a233-bb3c07caeba2",
   "metadata": {},
   "source": [
    "## SQL Database"
   ]
  },
  {
   "cell_type": "markdown",
   "id": "0f6e7326-7ab8-40fc-8895-a944da76fbd8",
   "metadata": {},
   "source": [
    "### Loading Data into SQL Lite "
   ]
  },
  {
   "cell_type": "code",
   "execution_count": 104,
   "id": "56b85ae8-3664-4d38-97af-b8acf73e7fba",
   "metadata": {},
   "outputs": [],
   "source": [
    "# Connects to sqlite3 and creates a new database\n",
    "conn = sqlite3.connect(\"DSC540Final.db\")"
   ]
  },
  {
   "cell_type": "code",
   "execution_count": 105,
   "id": "bf621751-c535-4981-bea2-ccc620384c0f",
   "metadata": {},
   "outputs": [],
   "source": [
    "# Creates a dictionary of table names and their associated dataframes\n",
    "dataframes = {\"CSV\": simple_carbon, \"Website\": vehicles, \"API\": merged_df}"
   ]
  },
  {
   "cell_type": "code",
   "execution_count": 106,
   "id": "8e72c101-c7d9-4243-b7f6-62b7b0e804d4",
   "metadata": {},
   "outputs": [],
   "source": [
    "# Iterates over each item in the dictionary\n",
    "# Creates a table for each in the database\n",
    "for table_name, df in dataframes.items():\n",
    "    df.to_sql(table_name, conn, index = False, if_exists = \"replace\")"
   ]
  },
  {
   "cell_type": "code",
   "execution_count": 107,
   "id": "9910f0f8-d8fc-4e05-b3c1-d82bd68db6a0",
   "metadata": {},
   "outputs": [],
   "source": [
    "cursor = conn.cursor()"
   ]
  },
  {
   "cell_type": "code",
   "execution_count": 108,
   "id": "06b0e370-7bc4-4426-9506-60d7d88e2aba",
   "metadata": {},
   "outputs": [
    {
     "data": {
      "text/plain": [
       "<sqlite3.Cursor at 0x21a3460fe40>"
      ]
     },
     "execution_count": 108,
     "metadata": {},
     "output_type": "execute_result"
    }
   ],
   "source": [
    "cursor.execute(\"PRAGMA foreign_keys = 1\")"
   ]
  },
  {
   "cell_type": "markdown",
   "id": "3bb70cb8-93d1-4b79-ba2f-5103ae869164",
   "metadata": {},
   "source": [
    "### Joining the Datasets"
   ]
  },
  {
   "cell_type": "code",
   "execution_count": 109,
   "id": "ebe96526-195a-4bd0-93bb-a475500b836e",
   "metadata": {},
   "outputs": [],
   "source": [
    "# Creates a query to join the datasets based on the Country columns\n",
    "query = \"\"\" SELECT *\n",
    "FROM CSV\n",
    "JOIN Website ON CSV.Country = Website.Country\n",
    "JOIN API ON CSV.Country = API.Country\"\"\""
   ]
  },
  {
   "cell_type": "code",
   "execution_count": 110,
   "id": "672102e2-77a4-4f28-af95-c98abb54ca4c",
   "metadata": {},
   "outputs": [
    {
     "name": "stdout",
     "output_type": "stream",
     "text": [
      "     Country  Year  Savanna_Fires  Forest_Fires  Crop_Residues  \\\n",
      "0  Argentina  2020      3569.1449     1362.1267      7405.2933   \n",
      "1  Australia  2020     13405.8811    10985.2467      1888.7887   \n",
      "\n",
      "   Rice_Cultivation  Drained_Organic_Soils_Co2  Pesticides_Manufacturing  \\\n",
      "0         1452.7520                  5215.7866                    7467.0   \n",
      "1           44.1617                  2857.1293                    2572.0   \n",
      "\n",
      "   Food_Transport  Forestland  ...  Relative_Humidity  Sulfur_Dioxide  \\\n",
      "0       5468.9167 -27952.2907  ...                NaN             NaN   \n",
      "1      10125.9783  -1585.0912  ...                NaN             NaN   \n",
      "\n",
      "   Temperature     UM_003    UM_005    UM_010    UM_025    UM_050    UM_100  \\\n",
      "0    70.960000  10.112400  2.953600       NaN       NaN  0.020400       NaN   \n",
      "1    72.793629   4.577205  1.241951  0.162004  0.015161  0.004343  0.000471   \n",
      "\n",
      "   Volatile_Organic_Compounds  \n",
      "0                  145.512000  \n",
      "1                   64.596291  \n",
      "\n",
      "[2 rows x 64 columns]\n"
     ]
    }
   ],
   "source": [
    "# Converts the joined SQL data into a dataframe\n",
    "final_df1 = pd.read_sql(query, conn)\n",
    "print(final_df1.head(2))\n",
    "conn.close()"
   ]
  },
  {
   "cell_type": "code",
   "execution_count": 111,
   "id": "98d26f43-1a2e-4777-ba34-6e62bda4f786",
   "metadata": {},
   "outputs": [
    {
     "data": {
      "text/plain": [
       "Index(['Country', 'Year', 'Savanna_Fires', 'Forest_Fires', 'Crop_Residues',\n",
       "       'Rice_Cultivation', 'Drained_Organic_Soils_Co2',\n",
       "       'Pesticides_Manufacturing', 'Food_Transport', 'Forestland',\n",
       "       'Net_Forest_Conversion', 'Food_Household_Consumption', 'Food_Retail',\n",
       "       'On_Farm_Electricity_Use', 'Food_Packaging',\n",
       "       'Agrifood_Systems_Waste_Disposal', 'Food_Processing',\n",
       "       'Fertilizers_Manufacturing', 'Ippu', 'Manure_Applied_To_Soils',\n",
       "       'Manure_Left_On_Pasture', 'Manure_Management', 'Fires_In_Organic_Soils',\n",
       "       'Fires_In_Humid_Tropical_Forests', 'On_Farm_Energy_Use',\n",
       "       'Rural_Population', 'Urban_Population', 'Total_Population_Male',\n",
       "       'Total_Population_Female', 'Total_Emissions', 'Average_Temperature',\n",
       "       'Total_Population', 'Rank', 'Country', 'Vehicles_per_1000_People',\n",
       "       'Total_Number_of_Vehicles', 'Year_Vehicles', 'Code', 'Country',\n",
       "       'Start_Year', 'End_Year', 'Year_Recorded', 'Black_Carbon',\n",
       "       'Carbon_Monoxide', 'Humidity', 'Nitrogen_Monoxide', 'Nitrogen_Dioxide',\n",
       "       'Nitrogen_Oxides', 'Ozone1', 'PM_1', 'PM_10', 'PM_25', 'PM_4',\n",
       "       'Pressure', 'Relative_Humidity', 'Sulfur_Dioxide', 'Temperature',\n",
       "       'UM_003', 'UM_005', 'UM_010', 'UM_025', 'UM_050', 'UM_100',\n",
       "       'Volatile_Organic_Compounds'],\n",
       "      dtype='object')"
      ]
     },
     "metadata": {},
     "output_type": "display_data"
    }
   ],
   "source": [
    "display(final_df1.columns) "
   ]
  },
  {
   "cell_type": "code",
   "execution_count": 112,
   "id": "a0481b45-e35d-4fba-a9b5-7f48f72f361c",
   "metadata": {},
   "outputs": [
    {
     "name": "stdout",
     "output_type": "stream",
     "text": [
      "                 Country               Country               Country\n",
      "0              Argentina             Argentina             Argentina\n",
      "1              Australia             Australia             Australia\n",
      "2                Austria               Austria               Austria\n",
      "3             Azerbaijan            Azerbaijan            Azerbaijan\n",
      "4             Bangladesh            Bangladesh            Bangladesh\n",
      "..                   ...                   ...                   ...\n",
      "57           Switzerland           Switzerland           Switzerland\n",
      "58              Thailand              Thailand              Thailand\n",
      "59                Uganda                Uganda                Uganda\n",
      "60               Ukraine               Ukraine               Ukraine\n",
      "61  United Arab Emirates  United Arab Emirates  United Arab Emirates\n",
      "\n",
      "[62 rows x 3 columns]\n"
     ]
    }
   ],
   "source": [
    "# Provides a visual check to ensure the Country data lined up properly\n",
    "check_df = final_df1[\"Country\"]\n",
    "print(check_df)"
   ]
  },
  {
   "cell_type": "markdown",
   "id": "1b050aa8-52fc-4ae6-a32a-07cab66585ff",
   "metadata": {},
   "source": [
    "### Cleaning the Final Dataset"
   ]
  },
  {
   "cell_type": "markdown",
   "id": "375a89bb-6fb2-41b5-91ab-a9c17d2b57ed",
   "metadata": {},
   "source": [
    "Some data cleaning was performed on certain datasets but not others. Due to the number of transformations made to the API dataset, the data itself was not thoroughly cleaned. There appear to be multiple columns that contain very little information so further cleaning will occur to make the final dataset easier to work with."
   ]
  },
  {
   "cell_type": "code",
   "execution_count": 113,
   "id": "c33470aa-a694-4a41-93d9-c15e7df7ffd2",
   "metadata": {},
   "outputs": [
    {
     "name": "stdout",
     "output_type": "stream",
     "text": [
      "<class 'pandas.core.frame.DataFrame'>\n",
      "RangeIndex: 62 entries, 0 to 61\n",
      "Data columns (total 64 columns):\n",
      " #   Column                           Non-Null Count  Dtype  \n",
      "---  ------                           --------------  -----  \n",
      " 0   Country                          62 non-null     object \n",
      " 1   Year                             62 non-null     int64  \n",
      " 2   Savanna_Fires                    62 non-null     float64\n",
      " 3   Forest_Fires                     62 non-null     float64\n",
      " 4   Crop_Residues                    62 non-null     float64\n",
      " 5   Rice_Cultivation                 62 non-null     float64\n",
      " 6   Drained_Organic_Soils_Co2        62 non-null     float64\n",
      " 7   Pesticides_Manufacturing         62 non-null     float64\n",
      " 8   Food_Transport                   62 non-null     float64\n",
      " 9   Forestland                       60 non-null     float64\n",
      " 10  Net_Forest_Conversion            60 non-null     float64\n",
      " 11  Food_Household_Consumption       62 non-null     float64\n",
      " 12  Food_Retail                      62 non-null     float64\n",
      " 13  On_Farm_Electricity_Use          62 non-null     float64\n",
      " 14  Food_Packaging                   62 non-null     float64\n",
      " 15  Agrifood_Systems_Waste_Disposal  62 non-null     float64\n",
      " 16  Food_Processing                  62 non-null     float64\n",
      " 17  Fertilizers_Manufacturing        62 non-null     float64\n",
      " 18  Ippu                             60 non-null     float64\n",
      " 19  Manure_Applied_To_Soils          62 non-null     float64\n",
      " 20  Manure_Left_On_Pasture           62 non-null     float64\n",
      " 21  Manure_Management                62 non-null     float64\n",
      " 22  Fires_In_Organic_Soils           62 non-null     float64\n",
      " 23  Fires_In_Humid_Tropical_Forests  62 non-null     float64\n",
      " 24  On_Farm_Energy_Use               58 non-null     float64\n",
      " 25  Rural_Population                 62 non-null     int64  \n",
      " 26  Urban_Population                 62 non-null     int64  \n",
      " 27  Total_Population_Male            62 non-null     float64\n",
      " 28  Total_Population_Female          62 non-null     float64\n",
      " 29  Total_Emissions                  62 non-null     float64\n",
      " 30  Average_Temperature              62 non-null     float64\n",
      " 31  Total_Population                 62 non-null     float64\n",
      " 32  Rank                             62 non-null     int64  \n",
      " 33  Country                          62 non-null     object \n",
      " 34  Vehicles_per_1000_People         62 non-null     float64\n",
      " 35  Total_Number_of_Vehicles         62 non-null     float64\n",
      " 36  Year_Vehicles                    62 non-null     object \n",
      " 37  Code                             62 non-null     object \n",
      " 38  Country                          62 non-null     object \n",
      " 39  Start_Year                       62 non-null     int64  \n",
      " 40  End_Year                         62 non-null     float64\n",
      " 41  Year_Recorded                    62 non-null     int64  \n",
      " 42  Black_Carbon                     1 non-null      float64\n",
      " 43  Carbon_Monoxide                  7 non-null      float64\n",
      " 44  Humidity                         37 non-null     float64\n",
      " 45  Nitrogen_Monoxide                11 non-null     float64\n",
      " 46  Nitrogen_Dioxide                 13 non-null     float64\n",
      " 47  Nitrogen_Oxides                  3 non-null      float64\n",
      " 48  Ozone1                           9 non-null      float64\n",
      " 49  PM_1                             36 non-null     float64\n",
      " 50  PM_10                            38 non-null     float64\n",
      " 51  PM_25                            42 non-null     float64\n",
      " 52  PM_4                             2 non-null      float64\n",
      " 53  Pressure                         39 non-null     float64\n",
      " 54  Relative_Humidity                1 non-null      float64\n",
      " 55  Sulfur_Dioxide                   11 non-null     float64\n",
      " 56  Temperature                      44 non-null     float64\n",
      " 57  UM_003                           38 non-null     float64\n",
      " 58  UM_005                           37 non-null     float64\n",
      " 59  UM_010                           30 non-null     float64\n",
      " 60  UM_025                           30 non-null     float64\n",
      " 61  UM_050                           37 non-null     float64\n",
      " 62  UM_100                           34 non-null     float64\n",
      " 63  Volatile_Organic_Compounds       21 non-null     float64\n",
      "dtypes: float64(53), int64(6), object(5)\n",
      "memory usage: 31.1+ KB\n"
     ]
    }
   ],
   "source": [
    "# Checks the data type and null count for each column\n",
    "final_df1.info()"
   ]
  },
  {
   "cell_type": "code",
   "execution_count": 114,
   "id": "96570547-2ff1-4b63-baa6-55e1385c002a",
   "metadata": {},
   "outputs": [
    {
     "name": "stdout",
     "output_type": "stream",
     "text": [
      "Columns with missing data:\n",
      " Forestland                    True\n",
      "Net_Forest_Conversion         True\n",
      "Ippu                          True\n",
      "On_Farm_Energy_Use            True\n",
      "Black_Carbon                  True\n",
      "Carbon_Monoxide               True\n",
      "Humidity                      True\n",
      "Nitrogen_Monoxide             True\n",
      "Nitrogen_Dioxide              True\n",
      "Nitrogen_Oxides               True\n",
      "Ozone1                        True\n",
      "PM_1                          True\n",
      "PM_10                         True\n",
      "PM_25                         True\n",
      "PM_4                          True\n",
      "Pressure                      True\n",
      "Relative_Humidity             True\n",
      "Sulfur_Dioxide                True\n",
      "Temperature                   True\n",
      "UM_003                        True\n",
      "UM_005                        True\n",
      "UM_010                        True\n",
      "UM_025                        True\n",
      "UM_050                        True\n",
      "UM_100                        True\n",
      "Volatile_Organic_Compounds    True\n",
      "dtype: bool\n"
     ]
    }
   ],
   "source": [
    "# Checks for missing values in any column\n",
    "missing_final1 = final_df1.isna().any()\n",
    "print(\"Columns with missing data:\\n\", missing_final1[missing_final1])"
   ]
  },
  {
   "cell_type": "markdown",
   "id": "941a7775-8543-4a62-9f91-33dfd34b0133",
   "metadata": {},
   "source": [
    "#### Transformation 1: N/A Values"
   ]
  },
  {
   "cell_type": "markdown",
   "id": "72b2ddc9-4a90-447d-9e8c-ee389bfaa577",
   "metadata": {},
   "source": [
    "It will be difficult to work with any columns that have a large percentage of missing values. I will check the percentage of missing values for each column that contains N/A values and drop those that contain more than 50%. The 50% threshold is arbitrary and is just a number that seemed reasonable to me."
   ]
  },
  {
   "cell_type": "code",
   "execution_count": 115,
   "id": "cb059cd9-ae4a-4e40-ae78-16688d845a5a",
   "metadata": {},
   "outputs": [
    {
     "name": "stdout",
     "output_type": "stream",
     "text": [
      "Forestland: 3.23%\n",
      "Net_Forest_Conversion: 3.23%\n",
      "Ippu: 3.23%\n",
      "On_Farm_Energy_Use: 6.45%\n",
      "Black_Carbon: 98.39%\n",
      "Carbon_Monoxide: 88.71%\n",
      "Humidity: 40.32%\n",
      "Nitrogen_Monoxide: 82.26%\n",
      "Nitrogen_Dioxide: 79.03%\n",
      "Nitrogen_Oxides: 95.16%\n",
      "Ozone1: 85.48%\n",
      "PM_1: 41.94%\n",
      "PM_10: 38.71%\n",
      "PM_25: 32.26%\n",
      "PM_4: 96.77%\n",
      "Pressure: 37.10%\n",
      "Relative_Humidity: 98.39%\n",
      "Sulfur_Dioxide: 82.26%\n",
      "Temperature: 29.03%\n",
      "UM_003: 38.71%\n",
      "UM_005: 40.32%\n",
      "UM_010: 51.61%\n",
      "UM_025: 51.61%\n",
      "UM_050: 40.32%\n",
      "UM_100: 45.16%\n",
      "Volatile_Organic_Compounds: 66.13%\n"
     ]
    }
   ],
   "source": [
    "# Finds the percentage of missing values for columns where there are missing values\n",
    "missing_percentage = (final_df1.isna().mean() * 100)[missing_final1]\n",
    "for column, percentage in missing_percentage.items():\n",
    "    print(f\"{column}: {percentage:.2f}%\")"
   ]
  },
  {
   "cell_type": "code",
   "execution_count": 116,
   "id": "cd510813-f3c1-489f-a750-52156f20034d",
   "metadata": {},
   "outputs": [
    {
     "name": "stdout",
     "output_type": "stream",
     "text": [
      "Index(['Black_Carbon', 'Carbon_Monoxide', 'Nitrogen_Monoxide',\n",
      "       'Nitrogen_Dioxide', 'Nitrogen_Oxides', 'Ozone1', 'PM_4',\n",
      "       'Relative_Humidity', 'Sulfur_Dioxide', 'UM_010', 'UM_025',\n",
      "       'Volatile_Organic_Compounds'],\n",
      "      dtype='object')\n",
      "12\n"
     ]
    }
   ],
   "source": [
    "# Sets the threshold at 50\n",
    "threshold = 50\n",
    "\n",
    "# Selects the columns with a missing percentage greater than 50%\n",
    "columns_to_drop = missing_percentage[missing_percentage > threshold].index\n",
    "\n",
    "# Prints the columns that will be dropped\n",
    "print(columns_to_drop)\n",
    "print(len(columns_to_drop))\n",
    "\n",
    "# Drops the columns\n",
    "# Ignores errors to handle the special characters in the column names\n",
    "final_df2 = final_df1.drop(columns = columns_to_drop, errors = \"ignore\")"
   ]
  },
  {
   "cell_type": "code",
   "execution_count": 117,
   "id": "a1cb67af-2e38-4f34-ad42-30da937f34ff",
   "metadata": {},
   "outputs": [
    {
     "name": "stdout",
     "output_type": "stream",
     "text": [
      "52\n"
     ]
    }
   ],
   "source": [
    "print(len(final_df2.columns))"
   ]
  },
  {
   "cell_type": "markdown",
   "id": "754289c7-8246-49ff-b1eb-bf8ef5ad944d",
   "metadata": {},
   "source": [
    "#### Tranformation 2: Duplicated Columns"
   ]
  },
  {
   "cell_type": "markdown",
   "id": "6ce8de2c-d00c-4041-9f4c-4c991ef0e458",
   "metadata": {},
   "source": [
    "The way the datasets were joined resulted in duplicate Country columns. Naming also resulted in duplicate Year columns. To clean up the dataset for easier use, I will deal with both of these instances of duplication."
   ]
  },
  {
   "cell_type": "code",
   "execution_count": 118,
   "id": "6e3c2920-33fc-4acc-8540-f0e682d6de80",
   "metadata": {},
   "outputs": [
    {
     "name": "stdout",
     "output_type": "stream",
     "text": [
      "Duplicated columns: ['Country', 'Country']\n"
     ]
    }
   ],
   "source": [
    "dup_columns = final_df2.columns[final_df2.columns.duplicated()]\n",
    "print(\"Duplicated columns:\", list(dup_columns))"
   ]
  },
  {
   "cell_type": "code",
   "execution_count": 119,
   "id": "6782ae96-3c74-4a01-831d-0842f7a9beeb",
   "metadata": {},
   "outputs": [
    {
     "name": "stdout",
     "output_type": "stream",
     "text": [
      "Index(['Country', 'Year_Carbon', 'Savanna_Fires', 'Forest_Fires',\n",
      "       'Crop_Residues', 'Rice_Cultivation', 'Drained_Organic_Soils_Co2',\n",
      "       'Pesticides_Manufacturing', 'Food_Transport', 'Forestland',\n",
      "       'Net_Forest_Conversion', 'Food_Household_Consumption', 'Food_Retail',\n",
      "       'On_Farm_Electricity_Use', 'Food_Packaging',\n",
      "       'Agrifood_Systems_Waste_Disposal', 'Food_Processing',\n",
      "       'Fertilizers_Manufacturing', 'Ippu', 'Manure_Applied_To_Soils',\n",
      "       'Manure_Left_On_Pasture', 'Manure_Management', 'Fires_In_Organic_Soils',\n",
      "       'Fires_In_Humid_Tropical_Forests', 'On_Farm_Energy_Use',\n",
      "       'Rural_Population', 'Urban_Population', 'Total_Population_Male',\n",
      "       'Total_Population_Female', 'Total_Emissions', 'Average_Temperature',\n",
      "       'Total_Population', 'Rank', 'Country', 'Vehicles_per_1000_People',\n",
      "       'Total_Number_of_Vehicles', 'Year_Vehicles', 'Code', 'Country',\n",
      "       'Start_Year', 'End_Year', 'Year_Recorded', 'Humidity', 'PM_1', 'PM_10',\n",
      "       'PM_25', 'Pressure', 'Temperature', 'UM_003', 'UM_005', 'UM_050',\n",
      "       'UM_100'],\n",
      "      dtype='object')\n"
     ]
    }
   ],
   "source": [
    "final_df2.rename(columns = {\"Year\": \"Year_Carbon\"}, inplace = True)\n",
    "print(final_df2.columns)"
   ]
  },
  {
   "cell_type": "code",
   "execution_count": 120,
   "id": "1952ca6e-d318-4c76-a9d4-f18e106bc5ca",
   "metadata": {},
   "outputs": [
    {
     "data": {
      "text/plain": [
       "Index(['Country', 'Year_Carbon', 'Savanna_Fires', 'Forest_Fires',\n",
       "       'Crop_Residues', 'Rice_Cultivation', 'Drained_Organic_Soils_Co2',\n",
       "       'Pesticides_Manufacturing', 'Food_Transport', 'Forestland',\n",
       "       'Net_Forest_Conversion', 'Food_Household_Consumption', 'Food_Retail',\n",
       "       'On_Farm_Electricity_Use', 'Food_Packaging',\n",
       "       'Agrifood_Systems_Waste_Disposal', 'Food_Processing',\n",
       "       'Fertilizers_Manufacturing', 'Ippu', 'Manure_Applied_To_Soils',\n",
       "       'Manure_Left_On_Pasture', 'Manure_Management', 'Fires_In_Organic_Soils',\n",
       "       'Fires_In_Humid_Tropical_Forests', 'On_Farm_Energy_Use',\n",
       "       'Rural_Population', 'Urban_Population', 'Total_Population_Male',\n",
       "       'Total_Population_Female', 'Total_Emissions', 'Average_Temperature',\n",
       "       'Total_Population', 'Rank', 'Vehicles_per_1000_People',\n",
       "       'Total_Number_of_Vehicles', 'Year_Vehicles', 'Code', 'Start_Year',\n",
       "       'End_Year', 'Year_Recorded', 'Humidity', 'PM_1', 'PM_10', 'PM_25',\n",
       "       'Pressure', 'Temperature', 'UM_003', 'UM_005', 'UM_050', 'UM_100'],\n",
       "      dtype='object')"
      ]
     },
     "metadata": {},
     "output_type": "display_data"
    },
    {
     "name": "stdout",
     "output_type": "stream",
     "text": [
      "50\n"
     ]
    }
   ],
   "source": [
    "# Drops duplicated columns\n",
    "final_df = final_df2.loc[:, ~final_df2.columns.duplicated()]\n",
    "display(final_df.columns)\n",
    "print(len(final_df.columns))"
   ]
  },
  {
   "cell_type": "code",
   "execution_count": 121,
   "id": "7e2fcd61-6914-45ad-83eb-468f021ee222",
   "metadata": {},
   "outputs": [
    {
     "name": "stdout",
     "output_type": "stream",
     "text": [
      "The dataframe has 62 rows and 50 columns\n"
     ]
    }
   ],
   "source": [
    "# Checks the number of rows and columns\n",
    "print(\"The dataframe has {} rows and {} columns\".format(*final_df.shape))"
   ]
  },
  {
   "cell_type": "code",
   "execution_count": 122,
   "id": "260bdd74-73a3-4e0a-b1dd-54aa28b6e58a",
   "metadata": {},
   "outputs": [
    {
     "data": {
      "text/html": [
       "<div>\n",
       "<style scoped>\n",
       "    .dataframe tbody tr th:only-of-type {\n",
       "        vertical-align: middle;\n",
       "    }\n",
       "\n",
       "    .dataframe tbody tr th {\n",
       "        vertical-align: top;\n",
       "    }\n",
       "\n",
       "    .dataframe thead th {\n",
       "        text-align: right;\n",
       "    }\n",
       "</style>\n",
       "<table border=\"1\" class=\"dataframe\">\n",
       "  <thead>\n",
       "    <tr style=\"text-align: right;\">\n",
       "      <th></th>\n",
       "      <th>Country</th>\n",
       "      <th>Year_Carbon</th>\n",
       "      <th>Savanna_Fires</th>\n",
       "      <th>Forest_Fires</th>\n",
       "      <th>Crop_Residues</th>\n",
       "      <th>Rice_Cultivation</th>\n",
       "      <th>Drained_Organic_Soils_Co2</th>\n",
       "      <th>Pesticides_Manufacturing</th>\n",
       "      <th>Food_Transport</th>\n",
       "      <th>Forestland</th>\n",
       "      <th>...</th>\n",
       "      <th>Humidity</th>\n",
       "      <th>PM_1</th>\n",
       "      <th>PM_10</th>\n",
       "      <th>PM_25</th>\n",
       "      <th>Pressure</th>\n",
       "      <th>Temperature</th>\n",
       "      <th>UM_003</th>\n",
       "      <th>UM_005</th>\n",
       "      <th>UM_050</th>\n",
       "      <th>UM_100</th>\n",
       "    </tr>\n",
       "  </thead>\n",
       "  <tbody>\n",
       "    <tr>\n",
       "      <th>0</th>\n",
       "      <td>Argentina</td>\n",
       "      <td>2020</td>\n",
       "      <td>3569.1449</td>\n",
       "      <td>1362.1267</td>\n",
       "      <td>7405.2933</td>\n",
       "      <td>1452.752000</td>\n",
       "      <td>5215.7866</td>\n",
       "      <td>7467.00000</td>\n",
       "      <td>5468.9167</td>\n",
       "      <td>-27952.2907</td>\n",
       "      <td>...</td>\n",
       "      <td>41.920000</td>\n",
       "      <td>NaN</td>\n",
       "      <td>23.000000</td>\n",
       "      <td>NaN</td>\n",
       "      <td>966.836800</td>\n",
       "      <td>70.960000</td>\n",
       "      <td>10.112400</td>\n",
       "      <td>2.953600</td>\n",
       "      <td>0.020400</td>\n",
       "      <td>NaN</td>\n",
       "    </tr>\n",
       "    <tr>\n",
       "      <th>1</th>\n",
       "      <td>Australia</td>\n",
       "      <td>2020</td>\n",
       "      <td>13405.8811</td>\n",
       "      <td>10985.2467</td>\n",
       "      <td>1888.7887</td>\n",
       "      <td>44.161700</td>\n",
       "      <td>2857.1293</td>\n",
       "      <td>2572.00000</td>\n",
       "      <td>10125.9783</td>\n",
       "      <td>-1585.0912</td>\n",
       "      <td>...</td>\n",
       "      <td>36.701060</td>\n",
       "      <td>1.453206</td>\n",
       "      <td>4.967202</td>\n",
       "      <td>4.693515</td>\n",
       "      <td>1002.587374</td>\n",
       "      <td>72.793629</td>\n",
       "      <td>4.577205</td>\n",
       "      <td>1.241951</td>\n",
       "      <td>0.004343</td>\n",
       "      <td>0.000471</td>\n",
       "    </tr>\n",
       "    <tr>\n",
       "      <th>2</th>\n",
       "      <td>Austria</td>\n",
       "      <td>2020</td>\n",
       "      <td>0.0615</td>\n",
       "      <td>0.1302</td>\n",
       "      <td>288.8322</td>\n",
       "      <td>926.342279</td>\n",
       "      <td>287.6804</td>\n",
       "      <td>90.00000</td>\n",
       "      <td>1726.7519</td>\n",
       "      <td>-7440.2896</td>\n",
       "      <td>...</td>\n",
       "      <td>NaN</td>\n",
       "      <td>NaN</td>\n",
       "      <td>16.731000</td>\n",
       "      <td>21.647963</td>\n",
       "      <td>NaN</td>\n",
       "      <td>21.530474</td>\n",
       "      <td>NaN</td>\n",
       "      <td>NaN</td>\n",
       "      <td>NaN</td>\n",
       "      <td>NaN</td>\n",
       "    </tr>\n",
       "    <tr>\n",
       "      <th>3</th>\n",
       "      <td>Azerbaijan</td>\n",
       "      <td>2020</td>\n",
       "      <td>5.8740</td>\n",
       "      <td>10.7919</td>\n",
       "      <td>209.8803</td>\n",
       "      <td>23.527800</td>\n",
       "      <td>0.0000</td>\n",
       "      <td>11.00000</td>\n",
       "      <td>743.1891</td>\n",
       "      <td>-2370.8966</td>\n",
       "      <td>...</td>\n",
       "      <td>NaN</td>\n",
       "      <td>NaN</td>\n",
       "      <td>NaN</td>\n",
       "      <td>NaN</td>\n",
       "      <td>NaN</td>\n",
       "      <td>73.000000</td>\n",
       "      <td>NaN</td>\n",
       "      <td>NaN</td>\n",
       "      <td>NaN</td>\n",
       "      <td>NaN</td>\n",
       "    </tr>\n",
       "    <tr>\n",
       "      <th>4</th>\n",
       "      <td>Bangladesh</td>\n",
       "      <td>2020</td>\n",
       "      <td>44.0457</td>\n",
       "      <td>243.2200</td>\n",
       "      <td>3626.0271</td>\n",
       "      <td>31777.867900</td>\n",
       "      <td>17541.2199</td>\n",
       "      <td>309.00000</td>\n",
       "      <td>1193.4932</td>\n",
       "      <td>0.0000</td>\n",
       "      <td>...</td>\n",
       "      <td>60.705556</td>\n",
       "      <td>24.309444</td>\n",
       "      <td>48.458889</td>\n",
       "      <td>38.788333</td>\n",
       "      <td>1007.662833</td>\n",
       "      <td>89.833333</td>\n",
       "      <td>49.355444</td>\n",
       "      <td>14.509889</td>\n",
       "      <td>0.083722</td>\n",
       "      <td>0.018889</td>\n",
       "    </tr>\n",
       "    <tr>\n",
       "      <th>...</th>\n",
       "      <td>...</td>\n",
       "      <td>...</td>\n",
       "      <td>...</td>\n",
       "      <td>...</td>\n",
       "      <td>...</td>\n",
       "      <td>...</td>\n",
       "      <td>...</td>\n",
       "      <td>...</td>\n",
       "      <td>...</td>\n",
       "      <td>...</td>\n",
       "      <td>...</td>\n",
       "      <td>...</td>\n",
       "      <td>...</td>\n",
       "      <td>...</td>\n",
       "      <td>...</td>\n",
       "      <td>...</td>\n",
       "      <td>...</td>\n",
       "      <td>...</td>\n",
       "      <td>...</td>\n",
       "      <td>...</td>\n",
       "      <td>...</td>\n",
       "    </tr>\n",
       "    <tr>\n",
       "      <th>57</th>\n",
       "      <td>Switzerland</td>\n",
       "      <td>2020</td>\n",
       "      <td>0.0000</td>\n",
       "      <td>0.0000</td>\n",
       "      <td>58.2581</td>\n",
       "      <td>483.789906</td>\n",
       "      <td>806.5261</td>\n",
       "      <td>24.00000</td>\n",
       "      <td>1933.1567</td>\n",
       "      <td>-3051.4225</td>\n",
       "      <td>...</td>\n",
       "      <td>NaN</td>\n",
       "      <td>0.282759</td>\n",
       "      <td>4.575862</td>\n",
       "      <td>3.789906</td>\n",
       "      <td>NaN</td>\n",
       "      <td>20.319280</td>\n",
       "      <td>NaN</td>\n",
       "      <td>NaN</td>\n",
       "      <td>NaN</td>\n",
       "      <td>0.001034</td>\n",
       "    </tr>\n",
       "    <tr>\n",
       "      <th>58</th>\n",
       "      <td>Thailand</td>\n",
       "      <td>2020</td>\n",
       "      <td>316.4466</td>\n",
       "      <td>4873.8766</td>\n",
       "      <td>2437.1695</td>\n",
       "      <td>46580.765700</td>\n",
       "      <td>1026.4179</td>\n",
       "      <td>569.00000</td>\n",
       "      <td>8987.0221</td>\n",
       "      <td>291.4707</td>\n",
       "      <td>...</td>\n",
       "      <td>NaN</td>\n",
       "      <td>0.182143</td>\n",
       "      <td>NaN</td>\n",
       "      <td>9.217944</td>\n",
       "      <td>NaN</td>\n",
       "      <td>26.337107</td>\n",
       "      <td>NaN</td>\n",
       "      <td>NaN</td>\n",
       "      <td>NaN</td>\n",
       "      <td>0.000345</td>\n",
       "    </tr>\n",
       "    <tr>\n",
       "      <th>59</th>\n",
       "      <td>Uganda</td>\n",
       "      <td>2020</td>\n",
       "      <td>1252.2737</td>\n",
       "      <td>11.9043</td>\n",
       "      <td>224.6217</td>\n",
       "      <td>134.165900</td>\n",
       "      <td>5867.0162</td>\n",
       "      <td>1.00000</td>\n",
       "      <td>388.5044</td>\n",
       "      <td>-2016.8720</td>\n",
       "      <td>...</td>\n",
       "      <td>44.730763</td>\n",
       "      <td>NaN</td>\n",
       "      <td>NaN</td>\n",
       "      <td>NaN</td>\n",
       "      <td>875.074097</td>\n",
       "      <td>80.628623</td>\n",
       "      <td>149.106658</td>\n",
       "      <td>58.565136</td>\n",
       "      <td>2.774946</td>\n",
       "      <td>NaN</td>\n",
       "    </tr>\n",
       "    <tr>\n",
       "      <th>60</th>\n",
       "      <td>Ukraine</td>\n",
       "      <td>2020</td>\n",
       "      <td>135.7075</td>\n",
       "      <td>309.2985</td>\n",
       "      <td>3906.8596</td>\n",
       "      <td>87.808000</td>\n",
       "      <td>19524.3013</td>\n",
       "      <td>723.00000</td>\n",
       "      <td>2340.5857</td>\n",
       "      <td>-24177.5380</td>\n",
       "      <td>...</td>\n",
       "      <td>NaN</td>\n",
       "      <td>NaN</td>\n",
       "      <td>NaN</td>\n",
       "      <td>27.437500</td>\n",
       "      <td>NaN</td>\n",
       "      <td>17.595833</td>\n",
       "      <td>24.135833</td>\n",
       "      <td>6.905833</td>\n",
       "      <td>NaN</td>\n",
       "      <td>NaN</td>\n",
       "    </tr>\n",
       "    <tr>\n",
       "      <th>61</th>\n",
       "      <td>United Arab Emirates</td>\n",
       "      <td>2020</td>\n",
       "      <td>0.0000</td>\n",
       "      <td>0.0000</td>\n",
       "      <td>0.6614</td>\n",
       "      <td>246.407276</td>\n",
       "      <td>0.0000</td>\n",
       "      <td>144.64721</td>\n",
       "      <td>3352.2069</td>\n",
       "      <td>NaN</td>\n",
       "      <td>...</td>\n",
       "      <td>NaN</td>\n",
       "      <td>NaN</td>\n",
       "      <td>107.500000</td>\n",
       "      <td>NaN</td>\n",
       "      <td>NaN</td>\n",
       "      <td>NaN</td>\n",
       "      <td>NaN</td>\n",
       "      <td>NaN</td>\n",
       "      <td>NaN</td>\n",
       "      <td>NaN</td>\n",
       "    </tr>\n",
       "  </tbody>\n",
       "</table>\n",
       "<p>62 rows × 50 columns</p>\n",
       "</div>"
      ],
      "text/plain": [
       "                 Country  Year_Carbon  Savanna_Fires  Forest_Fires  \\\n",
       "0              Argentina         2020      3569.1449     1362.1267   \n",
       "1              Australia         2020     13405.8811    10985.2467   \n",
       "2                Austria         2020         0.0615        0.1302   \n",
       "3             Azerbaijan         2020         5.8740       10.7919   \n",
       "4             Bangladesh         2020        44.0457      243.2200   \n",
       "..                   ...          ...            ...           ...   \n",
       "57           Switzerland         2020         0.0000        0.0000   \n",
       "58              Thailand         2020       316.4466     4873.8766   \n",
       "59                Uganda         2020      1252.2737       11.9043   \n",
       "60               Ukraine         2020       135.7075      309.2985   \n",
       "61  United Arab Emirates         2020         0.0000        0.0000   \n",
       "\n",
       "    Crop_Residues  Rice_Cultivation  Drained_Organic_Soils_Co2  \\\n",
       "0       7405.2933       1452.752000                  5215.7866   \n",
       "1       1888.7887         44.161700                  2857.1293   \n",
       "2        288.8322        926.342279                   287.6804   \n",
       "3        209.8803         23.527800                     0.0000   \n",
       "4       3626.0271      31777.867900                 17541.2199   \n",
       "..            ...               ...                        ...   \n",
       "57        58.2581        483.789906                   806.5261   \n",
       "58      2437.1695      46580.765700                  1026.4179   \n",
       "59       224.6217        134.165900                  5867.0162   \n",
       "60      3906.8596         87.808000                 19524.3013   \n",
       "61         0.6614        246.407276                     0.0000   \n",
       "\n",
       "    Pesticides_Manufacturing  Food_Transport  Forestland  ...   Humidity  \\\n",
       "0                 7467.00000       5468.9167 -27952.2907  ...  41.920000   \n",
       "1                 2572.00000      10125.9783  -1585.0912  ...  36.701060   \n",
       "2                   90.00000       1726.7519  -7440.2896  ...        NaN   \n",
       "3                   11.00000        743.1891  -2370.8966  ...        NaN   \n",
       "4                  309.00000       1193.4932      0.0000  ...  60.705556   \n",
       "..                       ...             ...         ...  ...        ...   \n",
       "57                  24.00000       1933.1567  -3051.4225  ...        NaN   \n",
       "58                 569.00000       8987.0221    291.4707  ...        NaN   \n",
       "59                   1.00000        388.5044  -2016.8720  ...  44.730763   \n",
       "60                 723.00000       2340.5857 -24177.5380  ...        NaN   \n",
       "61                 144.64721       3352.2069         NaN  ...        NaN   \n",
       "\n",
       "         PM_1       PM_10      PM_25     Pressure  Temperature      UM_003  \\\n",
       "0         NaN   23.000000        NaN   966.836800    70.960000   10.112400   \n",
       "1    1.453206    4.967202   4.693515  1002.587374    72.793629    4.577205   \n",
       "2         NaN   16.731000  21.647963          NaN    21.530474         NaN   \n",
       "3         NaN         NaN        NaN          NaN    73.000000         NaN   \n",
       "4   24.309444   48.458889  38.788333  1007.662833    89.833333   49.355444   \n",
       "..        ...         ...        ...          ...          ...         ...   \n",
       "57   0.282759    4.575862   3.789906          NaN    20.319280         NaN   \n",
       "58   0.182143         NaN   9.217944          NaN    26.337107         NaN   \n",
       "59        NaN         NaN        NaN   875.074097    80.628623  149.106658   \n",
       "60        NaN         NaN  27.437500          NaN    17.595833   24.135833   \n",
       "61        NaN  107.500000        NaN          NaN          NaN         NaN   \n",
       "\n",
       "       UM_005    UM_050    UM_100  \n",
       "0    2.953600  0.020400       NaN  \n",
       "1    1.241951  0.004343  0.000471  \n",
       "2         NaN       NaN       NaN  \n",
       "3         NaN       NaN       NaN  \n",
       "4   14.509889  0.083722  0.018889  \n",
       "..        ...       ...       ...  \n",
       "57        NaN       NaN  0.001034  \n",
       "58        NaN       NaN  0.000345  \n",
       "59  58.565136  2.774946       NaN  \n",
       "60   6.905833       NaN       NaN  \n",
       "61        NaN       NaN       NaN  \n",
       "\n",
       "[62 rows x 50 columns]"
      ]
     },
     "metadata": {},
     "output_type": "display_data"
    }
   ],
   "source": [
    "display(final_df)"
   ]
  },
  {
   "cell_type": "markdown",
   "id": "2aa5fab5-ed34-4e2f-b6f9-3fc80976938c",
   "metadata": {},
   "source": [
    "#### Transformation 3: Dropping More Columns"
   ]
  },
  {
   "cell_type": "markdown",
   "id": "2fea9d7c-47b8-4daa-a18b-983231a2d479",
   "metadata": {},
   "source": [
    "I have decided that it is not necessary to know what years the API started and stopped recording data for each country. I will drop these columns to make the dataframe more palatable"
   ]
  },
  {
   "cell_type": "code",
   "execution_count": 123,
   "id": "cb173ce9-50b9-419c-9238-13e6d27cdfa0",
   "metadata": {},
   "outputs": [],
   "source": [
    "columns_drop2 = (\"Start_Year\", \"End_Year\")"
   ]
  },
  {
   "cell_type": "code",
   "execution_count": 124,
   "id": "6f68319a-6eff-4dda-b79c-dc785ecf6625",
   "metadata": {},
   "outputs": [
    {
     "name": "stdout",
     "output_type": "stream",
     "text": [
      "50\n"
     ]
    }
   ],
   "source": [
    "final_df = final_df.drop(columns = columns_drop2, errors = \"ignore\")\n",
    "print(len(final_df.columns))"
   ]
  },
  {
   "cell_type": "markdown",
   "id": "d68ee963-1327-414c-a574-b20990fe5404",
   "metadata": {},
   "source": [
    "#### Transformation 4: Re-Ordering the Dataframe"
   ]
  },
  {
   "cell_type": "markdown",
   "id": "7454e315-4ab8-4b7d-bf9e-00f7712a648a",
   "metadata": {},
   "source": [
    "I will reorder the columns in the dataframe to make them more human-readable and easier to follow."
   ]
  },
  {
   "cell_type": "code",
   "execution_count": 125,
   "id": "4b5b3975-c3c2-4c0d-8f33-f0f7accf8203",
   "metadata": {},
   "outputs": [
    {
     "name": "stdout",
     "output_type": "stream",
     "text": [
      "Index: 0, Column: Country\n",
      "Index: 1, Column: Year_Carbon\n",
      "Index: 2, Column: Savanna_Fires\n",
      "Index: 3, Column: Forest_Fires\n",
      "Index: 4, Column: Crop_Residues\n",
      "Index: 5, Column: Rice_Cultivation\n",
      "Index: 6, Column: Drained_Organic_Soils_Co2\n",
      "Index: 7, Column: Pesticides_Manufacturing\n",
      "Index: 8, Column: Food_Transport\n",
      "Index: 9, Column: Forestland\n",
      "Index: 10, Column: Net_Forest_Conversion\n",
      "Index: 11, Column: Food_Household_Consumption\n",
      "Index: 12, Column: Food_Retail\n",
      "Index: 13, Column: On_Farm_Electricity_Use\n",
      "Index: 14, Column: Food_Packaging\n",
      "Index: 15, Column: Agrifood_Systems_Waste_Disposal\n",
      "Index: 16, Column: Food_Processing\n",
      "Index: 17, Column: Fertilizers_Manufacturing\n",
      "Index: 18, Column: Ippu\n",
      "Index: 19, Column: Manure_Applied_To_Soils\n",
      "Index: 20, Column: Manure_Left_On_Pasture\n",
      "Index: 21, Column: Manure_Management\n",
      "Index: 22, Column: Fires_In_Organic_Soils\n",
      "Index: 23, Column: Fires_In_Humid_Tropical_Forests\n",
      "Index: 24, Column: On_Farm_Energy_Use\n",
      "Index: 25, Column: Rural_Population\n",
      "Index: 26, Column: Urban_Population\n",
      "Index: 27, Column: Total_Population_Male\n",
      "Index: 28, Column: Total_Population_Female\n",
      "Index: 29, Column: Total_Emissions\n",
      "Index: 30, Column: Average_Temperature\n",
      "Index: 31, Column: Total_Population\n",
      "Index: 32, Column: Rank\n",
      "Index: 33, Column: Vehicles_per_1000_People\n",
      "Index: 34, Column: Total_Number_of_Vehicles\n",
      "Index: 35, Column: Year_Vehicles\n",
      "Index: 36, Column: Code\n",
      "Index: 37, Column: Start_Year\n",
      "Index: 38, Column: End_Year\n",
      "Index: 39, Column: Year_Recorded\n",
      "Index: 40, Column: Humidity\n",
      "Index: 41, Column: PM_1\n",
      "Index: 42, Column: PM_10\n",
      "Index: 43, Column: PM_25\n",
      "Index: 44, Column: Pressure\n",
      "Index: 45, Column: Temperature\n",
      "Index: 46, Column: UM_003\n",
      "Index: 47, Column: UM_005\n",
      "Index: 48, Column: UM_050\n",
      "Index: 49, Column: UM_100\n"
     ]
    }
   ],
   "source": [
    "for index, column_name in enumerate(final_df.columns):\n",
    "    print(f\"Index: {index}, Column: {column_name}\")"
   ]
  },
  {
   "cell_type": "code",
   "execution_count": 126,
   "id": "92d4bd2a-5fba-4de3-afe4-bbcb93b85fac",
   "metadata": {},
   "outputs": [],
   "source": [
    "# Provides the new locations for each of the columns in the dictionary\n",
    "columns_move = {\"Code\": 1, \"Year_Vehicles\": 3, \"Year_Recorded\": 4}"
   ]
  },
  {
   "cell_type": "code",
   "execution_count": 127,
   "id": "d1a6de98-6e67-4870-b4e2-15770216270f",
   "metadata": {},
   "outputs": [],
   "source": [
    "# Moves the columns given in the dictionary\n",
    "for column, new_position in columns_move.items():\n",
    "    final_df.insert(new_position, column, final_df.pop(column))"
   ]
  },
  {
   "cell_type": "code",
   "execution_count": 128,
   "id": "5946b30d-0388-43ef-9bf5-ebfbbe6a1e55",
   "metadata": {},
   "outputs": [
    {
     "name": "stdout",
     "output_type": "stream",
     "text": [
      "Index: 0, Column: Country\n",
      "Index: 1, Column: Code\n",
      "Index: 2, Column: Year_Carbon\n",
      "Index: 3, Column: Year_Vehicles\n",
      "Index: 4, Column: Year_Recorded\n",
      "Index: 5, Column: Savanna_Fires\n",
      "Index: 6, Column: Forest_Fires\n",
      "Index: 7, Column: Crop_Residues\n",
      "Index: 8, Column: Rice_Cultivation\n",
      "Index: 9, Column: Drained_Organic_Soils_Co2\n",
      "Index: 10, Column: Pesticides_Manufacturing\n",
      "Index: 11, Column: Food_Transport\n",
      "Index: 12, Column: Forestland\n",
      "Index: 13, Column: Net_Forest_Conversion\n",
      "Index: 14, Column: Food_Household_Consumption\n",
      "Index: 15, Column: Food_Retail\n",
      "Index: 16, Column: On_Farm_Electricity_Use\n",
      "Index: 17, Column: Food_Packaging\n",
      "Index: 18, Column: Agrifood_Systems_Waste_Disposal\n",
      "Index: 19, Column: Food_Processing\n",
      "Index: 20, Column: Fertilizers_Manufacturing\n",
      "Index: 21, Column: Ippu\n",
      "Index: 22, Column: Manure_Applied_To_Soils\n",
      "Index: 23, Column: Manure_Left_On_Pasture\n",
      "Index: 24, Column: Manure_Management\n",
      "Index: 25, Column: Fires_In_Organic_Soils\n",
      "Index: 26, Column: Fires_In_Humid_Tropical_Forests\n",
      "Index: 27, Column: On_Farm_Energy_Use\n",
      "Index: 28, Column: Rural_Population\n",
      "Index: 29, Column: Urban_Population\n",
      "Index: 30, Column: Total_Population_Male\n",
      "Index: 31, Column: Total_Population_Female\n",
      "Index: 32, Column: Total_Emissions\n",
      "Index: 33, Column: Average_Temperature\n",
      "Index: 34, Column: Total_Population\n",
      "Index: 35, Column: Rank\n",
      "Index: 36, Column: Vehicles_per_1000_People\n",
      "Index: 37, Column: Total_Number_of_Vehicles\n",
      "Index: 38, Column: Start_Year\n",
      "Index: 39, Column: End_Year\n",
      "Index: 40, Column: Humidity\n",
      "Index: 41, Column: PM_1\n",
      "Index: 42, Column: PM_10\n",
      "Index: 43, Column: PM_25\n",
      "Index: 44, Column: Pressure\n",
      "Index: 45, Column: Temperature\n",
      "Index: 46, Column: UM_003\n",
      "Index: 47, Column: UM_005\n",
      "Index: 48, Column: UM_050\n",
      "Index: 49, Column: UM_100\n"
     ]
    }
   ],
   "source": [
    "# Shows the index values for each column\n",
    "for index, column_name in enumerate(final_df.columns):\n",
    "    print(f\"Index: {index}, Column: {column_name}\")"
   ]
  },
  {
   "cell_type": "markdown",
   "id": "e82d2007-69ff-4f60-af40-c08e3f8f42c1",
   "metadata": {},
   "source": [
    "## Visualizations"
   ]
  },
  {
   "cell_type": "markdown",
   "id": "43233ad4-b3d8-497e-9804-7d14079907e4",
   "metadata": {},
   "source": [
    "## Visualization 1: Number of Vehicles vs. Average Temp Change \n",
    "\n",
    "#### (Milestone 3 vs Milestone 2)"
   ]
  },
  {
   "cell_type": "markdown",
   "id": "1bc6196b-9a65-47ca-b940-f7c6e55260ce",
   "metadata": {},
   "source": [
    "#### Scatter Plot"
   ]
  },
  {
   "cell_type": "code",
   "execution_count": 129,
   "id": "3fdbd351-9ea5-4acf-983d-dc8c210fed0c",
   "metadata": {},
   "outputs": [
    {
     "data": {
      "image/png": "[encoded data removed]",
      "text/plain": [
       "<Figure size 640x480 with 1 Axes>"
      ]
     },
     "metadata": {},
     "output_type": "display_data"
    }
   ],
   "source": [
    "sns.scatterplot(data = final_df, x = \"Total_Number_of_Vehicles\", y = \"Average_Temperature\",)\n",
    "plt.title(\"Number of Vehicles vs. Average Temperature Change\")\n",
    "plt.xlabel(\"Number of Vehicles\")\n",
    "plt.ylabel(\"Average Temperature Change\")\n",
    "plt.show()"
   ]
  },
  {
   "cell_type": "code",
   "execution_count": 130,
   "id": "6bfeb80c-0ea5-4146-996f-7dbe48d13a2d",
   "metadata": {},
   "outputs": [],
   "source": [
    "# Creates a copy of the original dataframe\n",
    "filtered_df = final_df.copy()"
   ]
  },
  {
   "cell_type": "code",
   "execution_count": 131,
   "id": "4ee201a4-cd4c-41ca-a0af-2d06df3bc959",
   "metadata": {},
   "outputs": [],
   "source": [
    "# Creates a new column giving the log values of the Vehicles column\n",
    "filtered_df[\"Log_Vehicles\"] = np.log10(final_df[\"Total_Number_of_Vehicles\"])"
   ]
  },
  {
   "cell_type": "code",
   "execution_count": 132,
   "id": "9486aaf8-4935-472b-9188-7d92f2f5a5bf",
   "metadata": {},
   "outputs": [
    {
     "data": {
      "image/png": "[encoded data removed]",
      "text/plain": [
       "<Figure size 640x480 with 1 Axes>"
      ]
     },
     "metadata": {},
     "output_type": "display_data"
    }
   ],
   "source": [
    "sns.regplot(data = filtered_df, x = \"Log_Vehicles\", y = \"Average_Temperature\", scatter_kws = {\"alpha\": 0.75, \"color\": \"green\"})\n",
    "plt.title(\"Number of Vehicles vs. Average Temperature Change\")\n",
    "plt.xlabel(\"Number of Vehicles (Log)\")\n",
    "plt.ylabel(\"Average Temperature Change (°F)\")\n",
    "\n",
    "plt.show()"
   ]
  },
  {
   "cell_type": "markdown",
   "id": "062be973-7bec-40f4-8bd4-9026486b5cf3",
   "metadata": {},
   "source": [
    "The relationship between the two variables is easier to visualize when the log of the Number of Vehicles is taken. This is because those numbers are exceptionally large."
   ]
  },
  {
   "cell_type": "markdown",
   "id": "a2b12003-4bf5-464e-97af-97efe3b85479",
   "metadata": {},
   "source": [
    "## Visualization 2: Total Emissions versus Number of Vehicles \n",
    "\n",
    "#### (Milestone 3 vs Milestone 2)"
   ]
  },
  {
   "cell_type": "markdown",
   "id": "5b108df5-63fa-46c0-8ea6-4730a3a8a8db",
   "metadata": {
    "tags": []
   },
   "source": [
    "#### Scatter Plot"
   ]
  },
  {
   "cell_type": "code",
   "execution_count": 133,
   "id": "f266fa29-d09b-46c9-aa80-918160888963",
   "metadata": {},
   "outputs": [
    {
     "name": "stderr",
     "output_type": "stream",
     "text": [
      "C:\\Users\\megme\\anaconda3\\lib\\site-packages\\pandas\\core\\arraylike.py:402: RuntimeWarning: invalid value encountered in log10\n",
      "  result = getattr(ufunc, method)(*inputs, **kwargs)\n"
     ]
    }
   ],
   "source": [
    "# Creates a new column giving the log values of the Emissions column\n",
    "filtered_df[\"Log_Emissions\"] = np.log10(final_df[\"Total_Emissions\"] + 1e-10)"
   ]
  },
  {
   "cell_type": "code",
   "execution_count": 134,
   "id": "fdbc2663-997a-43d7-ab7c-663e52cbf9d4",
   "metadata": {},
   "outputs": [
    {
     "data": {
      "image/png": "[encoded data removed]",
      "text/plain": [
       "<Figure size 640x480 with 1 Axes>"
      ]
     },
     "metadata": {},
     "output_type": "display_data"
    }
   ],
   "source": [
    "sns.regplot(data = filtered_df, x = \"Log_Vehicles\", y = \"Log_Emissions\", scatter_kws = {\"alpha\": 0.75, \"color\": \"gold\"})\n",
    "plt.title(\"Number of Vehicles (Log) vs. Total Emissions (Log)\")\n",
    "plt.xlabel(\"Number of Vehicles (Log)\")\n",
    "plt.ylabel(\"Total Emissions (Log)\")\n",
    "plt.show()"
   ]
  },
  {
   "cell_type": "markdown",
   "id": "5789a819-689c-4f61-98ae-cad99fcda1b8",
   "metadata": {},
   "source": [
    "This scatterplot shows that there is a possible correlation between the number of vehicles and the total emissions output."
   ]
  },
  {
   "cell_type": "markdown",
   "id": "b916cb6b-7898-4d39-bdd7-57c78c34b512",
   "metadata": {},
   "source": [
    "## Visualization 3: Percentage of countries that share data between years\n",
    "\n",
    "#### (Milestone 2 vs Milestone 3)"
   ]
  },
  {
   "cell_type": "markdown",
   "id": "b36f6bc7-3287-4cd4-be46-ed9d3db53d3c",
   "metadata": {},
   "source": [
    "#### Pie Chart"
   ]
  },
  {
   "cell_type": "code",
   "execution_count": 135,
   "id": "a54c6f1f-6115-4f33-ac9f-0c3c3a5f876f",
   "metadata": {},
   "outputs": [],
   "source": [
    " # Converts the years columns to string type\n",
    "final_df[\"Year_Carbon\"] = final_df[\"Year_Carbon\"].astype(str).str.strip()\n",
    "final_df[\"Year_Vehicles\"] = final_df[\"Year_Vehicles\"].astype(str).str.strip()\n",
    "final_df[\"Year_Recorded\"] = final_df[\"Year_Recorded\"].astype(str).str.strip()"
   ]
  },
  {
   "cell_type": "code",
   "execution_count": 136,
   "id": "48bd3a39-8e6d-45bf-aac4-7c797f7deba8",
   "metadata": {},
   "outputs": [
    {
     "name": "stdout",
     "output_type": "stream",
     "text": [
      "['2020' '2022' '2021' '2019' '2023']\n"
     ]
    }
   ],
   "source": [
    "# Concatenates the columns\n",
    "year_count = pd.concat([final_df[\"Year_Carbon\"], final_df[\"Year_Vehicles\"], final_df[\"Year_Recorded\"]])\n",
    "# Finds only the unique years\n",
    "unique_years = year_count.unique()\n",
    "print(unique_years)"
   ]
  },
  {
   "cell_type": "code",
   "execution_count": 137,
   "id": "2b0f56b4-cdd4-4305-935e-f52ba84670a3",
   "metadata": {},
   "outputs": [],
   "source": [
    "# Counts the number of time each value occurs\n",
    "year_counts = year_count.value_counts()"
   ]
  },
  {
   "cell_type": "code",
   "execution_count": 138,
   "id": "58abb956-5723-44c4-8284-8d1a188b608f",
   "metadata": {},
   "outputs": [
    {
     "data": {
      "image/png": "[encoded data removed]",
      "text/plain": [
       "<Figure size 640x480 with 1 Axes>"
      ]
     },
     "metadata": {},
     "output_type": "display_data"
    }
   ],
   "source": [
    "# Plots a pie chart\n",
    "# Uses the year_counts values to determine the percentages of the pie\n",
    "# Labels the slices according to the year\n",
    "# Sets the percentage display to 1 decimal place\n",
    "plt.pie(year_counts, labels = year_counts.index, autopct = \"%1.1f%%\")\n",
    "plt.title(\"Percentage of Data by Year\")\n",
    "plt.axis(\"equal\")\n",
    "plt.show()"
   ]
  },
  {
   "cell_type": "markdown",
   "id": "0ad3a24c-88f9-4a0a-a6e0-6d6392330a8e",
   "metadata": {},
   "source": [
    "## Visualization 4: Total Population and Particulate Matter < 25 Microns by Country\n",
    "\n",
    "#### *Top 5 most populous countries only*\n",
    "\n",
    "#### (Milestone 2 vs Milestone 4)"
   ]
  },
  {
   "cell_type": "markdown",
   "id": "506d2bbe-4374-47f8-99e0-55a0bd703f32",
   "metadata": {},
   "source": [
    "#### Horizontal Bar Chart"
   ]
  },
  {
   "cell_type": "code",
   "execution_count": 139,
   "id": "19c4e0d5-0f1e-4b68-be5d-d3240d52622c",
   "metadata": {},
   "outputs": [
    {
     "name": "stdout",
     "output_type": "stream",
     "text": [
      "      Country  Total_Population\n",
      "10      China      1.456928e+09\n",
      "25      India      1.396387e+09\n",
      "26  Indonesia      2.718580e+08\n",
      "6      Brazil      2.131963e+08\n",
      "40    Nigeria      2.083274e+08\n"
     ]
    }
   ],
   "source": [
    "top_5 = final_df.nlargest(5, \"Total_Population\")[[\"Country\", \"Total_Population\"]]\n",
    "print(top_5)"
   ]
  },
  {
   "cell_type": "code",
   "execution_count": 140,
   "id": "50f84bd2-3241-4840-bba1-da30b7972043",
   "metadata": {},
   "outputs": [],
   "source": [
    "merged_subset = pd.merge(top_5, final_df[[\"Country\", \"PM_25\"]], on = \"Country\")"
   ]
  },
  {
   "cell_type": "code",
   "execution_count": 141,
   "id": "58789c30-40cd-4424-95bd-8776eb82a2cb",
   "metadata": {},
   "outputs": [],
   "source": [
    "# Creates a new column giving the log values of the Total Population column\n",
    "merged_subset[\"Log_TotalPop\"] = np.log10(merged_subset[\"Total_Population\"])"
   ]
  },
  {
   "cell_type": "code",
   "execution_count": 142,
   "id": "71f0c9f8-a884-42e1-a173-94d94d91230a",
   "metadata": {},
   "outputs": [
    {
     "data": {
      "image/png": "[encoded data removed]",
      "text/plain": [
       "<Figure size 640x480 with 2 Axes>"
      ]
     },
     "metadata": {},
     "output_type": "display_data"
    }
   ],
   "source": [
    "# Creates a plot figure\n",
    "fig = plt.figure()\n",
    "\n",
    "# Adds an axis subplot \n",
    "ax = fig.add_subplot()\n",
    "\n",
    "# Creates a second axis that shares the y-axis with the first subplot\n",
    "ax2 = ax.twiny()\n",
    "\n",
    "# Sets the width of the bars\n",
    "width = 0.4\n",
    "\n",
    "# Creates the horizontal bar plot for Log_TotalPop on the first axis\n",
    "# Aligns the bars on the right side of the horizontal axis tick marks\n",
    "merged_subset[\"Log_TotalPop\"].plot(kind = \"barh\", color = \"skyblue\", ax = ax, width = width, position = 1)\n",
    "\n",
    "# Creates the horizontal bar plot for PM_25\n",
    "# Aligns the bars on the left side of the horizontal axis\n",
    "merged_subset[\"PM_25\"].plot(kind = \"barh\", color = \"pink\", ax = ax2, width = width, position = 0)\n",
    "\n",
    "# Sets the x-axes labels\n",
    "ax.set_xlabel(\"Total Population (Log)\")\n",
    "ax2.set_xlabel(\"Particulate Matter < 2.5 microns (µg/m³)\")\n",
    "\n",
    "# Sets the y-axis labels\n",
    "ax.set_yticklabels(merged_subset[\"Country\"])\n",
    "\n",
    "plt.show()"
   ]
  },
  {
   "cell_type": "markdown",
   "id": "f097eea7-d019-4199-abb1-8f3dcd4bf56e",
   "metadata": {},
   "source": [
    "## Visualization 5: Average Temperature and Actual Temperature by Country\n",
    "\n",
    "#### (Milestones 2, 4)"
   ]
  },
  {
   "cell_type": "markdown",
   "id": "5f99eb01-a320-477e-be69-8255f1c7fd36",
   "metadata": {},
   "source": [
    "#### Line Graph"
   ]
  },
  {
   "cell_type": "code",
   "execution_count": 143,
   "id": "8359854f-f90b-46dd-850f-c9b3e5c9e894",
   "metadata": {},
   "outputs": [
    {
     "name": "stdout",
     "output_type": "stream",
     "text": [
      "       Country  Temperature\n",
      "5       Belize   103.689655\n",
      "6       Brazil   103.624555\n",
      "13     Ecuador   101.619413\n",
      "10       China    92.035714\n",
      "50      Rwanda    91.866667\n",
      "25       India    91.172414\n",
      "44        Peru    90.409229\n",
      "4   Bangladesh    89.833333\n",
      "40     Nigeria    88.500000\n",
      "11    Colombia    87.575623\n"
     ]
    }
   ],
   "source": [
    "# Finds the top 10 hottest countries\n",
    "top_10= final_df.nlargest(10, \"Temperature\")[[\"Country\", \"Temperature\"]]\n",
    "print(top_10)"
   ]
  },
  {
   "cell_type": "code",
   "execution_count": 144,
   "id": "deda3c7d-d1ff-4dd6-ba3c-38d449f9aa56",
   "metadata": {},
   "outputs": [
    {
     "name": "stdout",
     "output_type": "stream",
     "text": [
      "         Country  Temperature\n",
      "60       Ukraine    17.595833\n",
      "57   Switzerland    20.319280\n",
      "2        Austria    21.530474\n",
      "58      Thailand    26.337107\n",
      "53  South Africa    29.435447\n",
      "7       Bulgaria    35.508815\n",
      "36      Mongolia    40.996716\n",
      "39   New Zealand    52.096464\n",
      "24       Iceland    53.047619\n",
      "20         Ghana    56.972055\n"
     ]
    }
   ],
   "source": [
    "# Finds the top 10 coldest countries\n",
    "bottom_10 = final_df.nsmallest(10, \"Temperature\")[[\"Country\", \"Temperature\"]]\n",
    "print(bottom_10)"
   ]
  },
  {
   "cell_type": "code",
   "execution_count": 145,
   "id": "a6a62ae2-3b54-46a5-8ee9-44e7f271d5ba",
   "metadata": {},
   "outputs": [],
   "source": [
    "# Merges the top 10 hottest dataframe with data from the final_df\n",
    "top_subset = pd.merge(top_10, final_df[[\"Country\", \"Average_Temperature\"]], on = \"Country\")"
   ]
  },
  {
   "cell_type": "code",
   "execution_count": 146,
   "id": "ad0f57ad-3d7c-4f91-b615-c8aa78178bd1",
   "metadata": {},
   "outputs": [],
   "source": [
    "# Merges the top 10 coldest dataframe with data from the final_df\n",
    "bottom_subset = pd.merge(bottom_10, final_df[[\"Country\", \"Average_Temperature\"]], on = \"Country\")"
   ]
  },
  {
   "cell_type": "code",
   "execution_count": 147,
   "id": "ff134bd2-29d2-4e9a-8d18-ddfba58ea97b",
   "metadata": {},
   "outputs": [
    {
     "name": "stdout",
     "output_type": "stream",
     "text": [
      "        Country  Temperature  Average_Temperature\n",
      "0       Ukraine    17.595833             2.893917\n",
      "1   Switzerland    20.319280             2.401750\n",
      "2       Austria    21.530474             2.241667\n",
      "3      Thailand    26.337107             1.598583\n",
      "4  South Africa    29.435447             0.937833\n",
      "5      Bulgaria    35.508815             2.111000\n",
      "6      Mongolia    40.996716             2.048000\n",
      "7   New Zealand    52.096464             0.886667\n",
      "8       Iceland    53.047619             0.797917\n",
      "9         Ghana    56.972055             1.310500\n",
      "9      Colombia    87.575623             1.546250\n",
      "8       Nigeria    88.500000             1.267500\n",
      "7    Bangladesh    89.833333             0.932083\n",
      "6          Peru    90.409229             1.796667\n",
      "5         India    91.172414             0.568500\n",
      "4        Rwanda    91.866667             1.280639\n",
      "3         China    92.035714             1.574000\n",
      "2       Ecuador   101.619413             1.503750\n",
      "1        Brazil   103.624555             1.459250\n",
      "0        Belize   103.689655             1.725583\n"
     ]
    }
   ],
   "source": [
    "# Concatenates both dataframes\n",
    "heat_subset = pd.concat([top_subset, bottom_subset])\n",
    "\n",
    "# Orders the dataframe by Temperature\n",
    "heat_subset = heat_subset.sort_values(by = \"Temperature\")\n",
    "print(heat_subset)"
   ]
  },
  {
   "cell_type": "code",
   "execution_count": 148,
   "id": "28400048-d9f1-4052-b70f-8db9faf50e87",
   "metadata": {},
   "outputs": [
    {
     "data": {
      "image/png": "[encoded data removed]",
      "text/plain": [
       "<Figure size 640x480 with 2 Axes>"
      ]
     },
     "metadata": {},
     "output_type": "display_data"
    }
   ],
   "source": [
    "fig, ax = plt.subplots()\n",
    "\n",
    "# Creates the plot for average temperature and country\n",
    "ax.plot(heat_subset[\"Country\"], heat_subset[\"Average_Temperature\"], color = \"purple\", label = \"Avg Temp Change\")\n",
    "\n",
    "# Sets the labels\n",
    "ax.set_xlabel(\"Country\")\n",
    "ax.set_ylabel(\"Average Temperature\", color = \"purple\")\n",
    "\n",
    "# Creates an axis for another subplot that shares the same x-axis\n",
    "ax2 = ax.twinx()\n",
    "\n",
    "# Plots the second axis\n",
    "ax2.plot(heat_subset[\"Country\"], heat_subset[\"Temperature\"], color = \"orange\", label = \"Temperature\")\n",
    "\n",
    "# Sets the second y-axis label\n",
    "ax2.set_ylabel(\"Temperature\", color = \"orange\")\n",
    "\n",
    "# Sets the x-ticks to match the data for \"Country\"\n",
    "ax.set_xticks(range(len(heat_subset[\"Country\"])))\n",
    "\n",
    "# Rotates and aligns the x-axis labels\n",
    "ax.set_xticklabels(heat_subset[\"Country\"], rotation = 45, ha = \"right\")\n",
    "\n",
    "plt.show()"
   ]
  },
  {
   "cell_type": "markdown",
   "id": "dda25595-b86c-4ca0-9679-ead35dce3443",
   "metadata": {},
   "source": [
    "## Summary"
   ]
  },
  {
   "cell_type": "markdown",
   "id": "27e0d379-6f1a-4aa9-8e9f-89832aacfdb7",
   "metadata": {},
   "source": [
    "#### Ethical Implications"
   ]
  },
  {
   "cell_type": "markdown",
   "id": "b43fcf80-6155-461c-b2d6-19c44161fb31",
   "metadata": {},
   "source": [
    "There were many ethical implications that came from the cleansing steps in my data. For example, it appears that temperatures reflected in the API data are a mix of unit measurement between Farenheit and Celsius. The years across datasets did not necessarily line up, so information was compared across a country, but not the year. Both of these could lead to incorrect conclusions being drawn about the data. Countries could appear to have greatly improved or worsened their particulate matter measurements because the years are not comparable. \n",
    "\n",
    "In the final visualization I chose to only show the top hottest countries and the top coldest countries. This created a large uptick in the middle of the graph as it jumped between the two lists. This is also where the difference in measurements becomes apparent because South Africa is in the list of the coldest countries and that is likely not true.\n",
    "\n",
    "The data as it is serves the function of this project, but should not ever be published for any kind of public use. It would require each dataset to be more thoroughly cleaned and the data would have to be aligned by years to more accurately represent any trends."
   ]
  },
  {
   "cell_type": "markdown",
   "id": "c695eaad-d25d-4a52-829b-3a5302d9f910",
   "metadata": {},
   "source": [
    "#### Summary"
   ]
  },
  {
   "cell_type": "markdown",
   "id": "e7987a37-d1c1-4d17-a2a8-8ea64c62961b",
   "metadata": {},
   "source": [
    "I learned a lot from this course. I can see now how the data cleaning step can happen repeatedly over a project. I thought my data was clean enough to do the visualizations, but quickly discovered more could be done to make it easier and more accurate.\n",
    "\n",
    "I also learned that it requires extensive cleaning to ensure the data is accurately represented. I didn't think I would have the many potential ethical implications, but the further into the project I got the more came to light.\n",
    "\n",
    "I like for things to be neat and tidy so I actually enjoyed cleaning the data and finding more ways to make it more efficient. I can see, though, how this task could become tedious and how it could easily lead to data being misrepresented. I can see the value in a structured approach to data cleaning so that all the data is treated equally.\n",
    "\n",
    "I also had fun creating the visualizations. There were several things I wanted to do that I just didn't have time to figure out. \n",
    "\n",
    "The scope of my project also changed between the first and the last milestones. Originally I wanted to look at carbon emissions and variables that might affect those numbers across all three datasets. While the information might be there with the sources I used, I would need more background knowledge on what each dataset means. This was especially true for the information gleaned from the API.\n",
    "\n",
    "Overall I really enjoyed this class. It gave me methods for data cleaning that I didn't have before. I also now appreciate that I have a lot to learn still but I am excited to dive in."
   ]
  }
 ],
 "metadata": {
  "kernelspec": {
   "display_name": "Python 3 (ipykernel)",
   "language": "python",
   "name": "python3"
  },
  "language_info": {
   "codemirror_mode": {
    "name": "ipython",
    "version": 3
   },
   "file_extension": ".py",
   "mimetype": "text/x-python",
   "name": "python",
   "nbconvert_exporter": "python",
   "pygments_lexer": "ipython3",
   "version": "3.10.9"
  },
  "toc-autonumbering": false,
  "toc-showcode": false,
  "toc-showmarkdowntxt": false,
  "toc-showtags": false
 },
 "nbformat": 4,
 "nbformat_minor": 5
}
