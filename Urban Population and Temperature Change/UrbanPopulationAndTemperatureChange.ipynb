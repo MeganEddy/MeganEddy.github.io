{
 "cells": [
  {
   "cell_type": "markdown",
   "id": "2f7b601d",
   "metadata": {},
   "source": [
    "Display the text “Hello World! My name is ....\""
   ]
  },
  {
   "cell_type": "code",
   "execution_count": 1,
   "id": "5c7f52ee",
   "metadata": {},
   "outputs": [
    {
     "name": "stdout",
     "output_type": "stream",
     "text": [
      "Hello World! My name is Megan.\n"
     ]
    }
   ],
   "source": [
    "print('Hello World! My name is Megan.')"
   ]
  },
  {
   "cell_type": "markdown",
   "id": "d37512d7",
   "metadata": {},
   "source": [
    "Add two numbers together."
   ]
  },
  {
   "cell_type": "code",
   "execution_count": 7,
   "id": "10bd231b",
   "metadata": {},
   "outputs": [
    {
     "name": "stdout",
     "output_type": "stream",
     "text": [
      "4\n"
     ]
    }
   ],
   "source": [
    "print(2+2)"
   ]
  },
  {
   "cell_type": "markdown",
   "id": "9bac1e05",
   "metadata": {},
   "source": [
    "Subtract a number from another number"
   ]
  },
  {
   "cell_type": "code",
   "execution_count": 8,
   "id": "fc9102cd",
   "metadata": {},
   "outputs": [
    {
     "name": "stdout",
     "output_type": "stream",
     "text": [
      "7\n"
     ]
    }
   ],
   "source": [
    "print(10-3)"
   ]
  },
  {
   "cell_type": "markdown",
   "id": "962978b2",
   "metadata": {},
   "source": [
    "Multiply two numbers"
   ]
  },
  {
   "cell_type": "code",
   "execution_count": 9,
   "id": "8519ecd2",
   "metadata": {},
   "outputs": [
    {
     "name": "stdout",
     "output_type": "stream",
     "text": [
      "4\n"
     ]
    }
   ],
   "source": [
    "print(2*2)"
   ]
  },
  {
   "cell_type": "markdown",
   "id": "c6588b77",
   "metadata": {},
   "source": [
    "Divide between two numbers"
   ]
  },
  {
   "cell_type": "code",
   "execution_count": 11,
   "id": "b2d16897",
   "metadata": {},
   "outputs": [
    {
     "name": "stdout",
     "output_type": "stream",
     "text": [
      "5.0\n"
     ]
    }
   ],
   "source": [
    "print(10/2)"
   ]
  },
  {
   "cell_type": "markdown",
   "id": "d2ec5764",
   "metadata": {},
   "source": [
    "Concatenate two strings together (any words)"
   ]
  },
  {
   "cell_type": "code",
   "execution_count": 14,
   "id": "edff8e3d",
   "metadata": {},
   "outputs": [
    {
     "name": "stdout",
     "output_type": "stream",
     "text": [
      "Hello, world\n"
     ]
    }
   ],
   "source": [
    "print('Hello' + ', ' + 'world')"
   ]
  },
  {
   "cell_type": "markdown",
   "id": "7cffcf03",
   "metadata": {},
   "source": [
    "Create a list of 4 items (can be strings, numbers, both)"
   ]
  },
  {
   "cell_type": "code",
   "execution_count": 22,
   "id": "246fcc62",
   "metadata": {},
   "outputs": [
    {
     "name": "stdout",
     "output_type": "stream",
     "text": [
      "[1, 2, 3, 4]\n",
      "<class 'list'>\n"
     ]
    }
   ],
   "source": [
    "list = [1, 2, 3, 4]\n",
    "print(list)\n",
    "print(type(list))"
   ]
  },
  {
   "cell_type": "markdown",
   "id": "eeb560ea",
   "metadata": {},
   "source": [
    "Append an item to your list (again, can be a string, number)"
   ]
  },
  {
   "cell_type": "code",
   "execution_count": 23,
   "id": "a490c43e",
   "metadata": {},
   "outputs": [
    {
     "name": "stdout",
     "output_type": "stream",
     "text": [
      "[1, 2, 3, 4, 5]\n"
     ]
    }
   ],
   "source": [
    "list.append(5)\n",
    "print(list)"
   ]
  },
  {
   "cell_type": "markdown",
   "id": "4061cf95",
   "metadata": {},
   "source": [
    "Create a tuple with 4 items (can be strings, numbers, both)"
   ]
  },
  {
   "cell_type": "code",
   "execution_count": 25,
   "id": "55a10b22",
   "metadata": {},
   "outputs": [
    {
     "name": "stdout",
     "output_type": "stream",
     "text": [
      "('My', 'cat', 'is', 'crazy')\n",
      "<class 'tuple'>\n"
     ]
    }
   ],
   "source": [
    "tuple = ('My', 'cat', 'is', 'crazy')\n",
    "print(tuple)\n",
    "print(type(tuple))"
   ]
  },
  {
   "cell_type": "code",
   "execution_count": null,
   "id": "d0790d93",
   "metadata": {},
   "outputs": [],
   "source": []
  }
 ],
 "metadata": {
  "kernelspec": {
   "display_name": "Python 3 (ipykernel)",
   "language": "python",
   "name": "python3"
  },
  "language_info": {
   "codemirror_mode": {
    "name": "ipython",
    "version": 3
   },
   "file_extension": ".py",
   "mimetype": "text/x-python",
   "name": "python",
   "nbconvert_exporter": "python",
   "pygments_lexer": "ipython3",
   "version": "3.10.9"
  }
 },
 "nbformat": 4,
 "nbformat_minor": 5
}
